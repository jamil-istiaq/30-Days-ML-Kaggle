{
 "cells": [
  {
   "cell_type": "markdown",
   "id": "38defd90",
   "metadata": {
    "papermill": {
     "duration": 0.02182,
     "end_time": "2021-08-05T06:15:20.917262",
     "exception": false,
     "start_time": "2021-08-05T06:15:20.895442",
     "status": "completed"
    },
    "tags": []
   },
   "source": [
    "**This notebook is an exercise in the [Python](https://www.kaggle.com/learn/python) course.  You can reference the tutorial at [this link](https://www.kaggle.com/colinmorris/hello-python).**\n",
    "\n",
    "---\n"
   ]
  },
  {
   "cell_type": "markdown",
   "id": "8f3894fa",
   "metadata": {
    "papermill": {
     "duration": 0.020653,
     "end_time": "2021-08-05T06:15:20.960648",
     "exception": false,
     "start_time": "2021-08-05T06:15:20.939995",
     "status": "completed"
    },
    "tags": []
   },
   "source": [
    "Welcome to your first set of Python coding problems.  If this is your first time using Kaggle Notebooks, welcome! \n",
    "\n",
    "Notebooks are composed of blocks (called \"cells\") of text and code. Each of these is editable, though you'll mainly be editing the code cells to answer some questions.\n",
    "\n",
    "To get started, try running the code cell below (by pressing the ► button, or clicking on the cell and pressing ctrl+enter on your keyboard)."
   ]
  },
  {
   "cell_type": "code",
   "execution_count": 1,
   "id": "c71229f7",
   "metadata": {
    "execution": {
     "iopub.execute_input": "2021-08-05T06:15:21.016615Z",
     "iopub.status.busy": "2021-08-05T06:15:21.015884Z",
     "iopub.status.idle": "2021-08-05T06:15:21.019170Z",
     "shell.execute_reply": "2021-08-05T06:15:21.019906Z",
     "shell.execute_reply.started": "2021-08-05T06:14:32.649690Z"
    },
    "papermill": {
     "duration": 0.039043,
     "end_time": "2021-08-05T06:15:21.020259",
     "exception": false,
     "start_time": "2021-08-05T06:15:20.981216",
     "status": "completed"
    },
    "tags": []
   },
   "outputs": [
    {
     "name": "stdout",
     "output_type": "stream",
     "text": [
      "You've successfully run some Python code\n",
      "Congratulations!\n"
     ]
    }
   ],
   "source": [
    "print(\"You've successfully run some Python code\")\n",
    "print(\"Congratulations!\")\n",
    "\n"
   ]
  },
  {
   "cell_type": "code",
   "execution_count": 2,
   "id": "6bc74cb5",
   "metadata": {
    "execution": {
     "iopub.execute_input": "2021-08-05T06:15:21.069042Z",
     "iopub.status.busy": "2021-08-05T06:15:21.068253Z",
     "iopub.status.idle": "2021-08-05T06:15:21.071463Z",
     "shell.execute_reply": "2021-08-05T06:15:21.071934Z",
     "shell.execute_reply.started": "2021-08-03T18:24:03.558978Z"
    },
    "papermill": {
     "duration": 0.029228,
     "end_time": "2021-08-05T06:15:21.072100",
     "exception": false,
     "start_time": "2021-08-05T06:15:21.042872",
     "status": "completed"
    },
    "tags": []
   },
   "outputs": [
    {
     "name": "stdout",
     "output_type": "stream",
     "text": [
      "I am from Bangladesh\n",
      "I am Md. Jamil Istiaq\n"
     ]
    }
   ],
   "source": [
    "print(\"I am from Bangladesh\")\n",
    "print(\"I am Md. Jamil Istiaq\")"
   ]
  },
  {
   "cell_type": "markdown",
   "id": "a7d716a2",
   "metadata": {
    "papermill": {
     "duration": 0.021412,
     "end_time": "2021-08-05T06:15:21.115099",
     "exception": false,
     "start_time": "2021-08-05T06:15:21.093687",
     "status": "completed"
    },
    "tags": []
   },
   "source": [
    "Try adding another line of code in the cell above and re-running it. \n",
    "\n",
    "Now let's get a little fancier:  Add a new code cell by clicking on an existing code cell, hitting the escape key, and then hitting the `a` or `b` key.  The `a` key will add a cell above the current cell, and `b` adds a cell below.\n",
    "\n",
    "Great! Now you know how to use Notebooks.\n",
    "\n",
    "Each hands-on exercise starts by setting up our feedback and code checking mechanism. Run the code cell below to do that. Then you'll be ready to move on to question 0."
   ]
  },
  {
   "cell_type": "code",
   "execution_count": 3,
   "id": "91e59707",
   "metadata": {
    "_kg_hide-input": true,
    "_kg_hide-output": true,
    "execution": {
     "iopub.execute_input": "2021-08-05T06:15:21.162804Z",
     "iopub.status.busy": "2021-08-05T06:15:21.162119Z",
     "iopub.status.idle": "2021-08-05T06:15:21.299309Z",
     "shell.execute_reply": "2021-08-05T06:15:21.298400Z",
     "shell.execute_reply.started": "2021-08-03T18:24:18.304659Z"
    },
    "papermill": {
     "duration": 0.162938,
     "end_time": "2021-08-05T06:15:21.299512",
     "exception": false,
     "start_time": "2021-08-05T06:15:21.136574",
     "status": "completed"
    },
    "tags": []
   },
   "outputs": [
    {
     "name": "stdout",
     "output_type": "stream",
     "text": [
      "Setup complete! You're ready to start question 0.\n"
     ]
    }
   ],
   "source": [
    "from learntools.core import binder; binder.bind(globals())\n",
    "from learntools.python.ex1 import *\n",
    "print(\"Setup complete! You're ready to start question 0.\")"
   ]
  },
  {
   "cell_type": "markdown",
   "id": "2ad2b9ae",
   "metadata": {
    "papermill": {
     "duration": 0.021551,
     "end_time": "2021-08-05T06:15:21.343894",
     "exception": false,
     "start_time": "2021-08-05T06:15:21.322343",
     "status": "completed"
    },
    "tags": []
   },
   "source": [
    "# 0.\n",
    "\n",
    "*This is a silly question intended as an introduction to the format we use for hands-on exercises throughout all Kaggle courses.*\n",
    "\n",
    "**What is your favorite color? **\n",
    "\n",
    "To complete this question, create a variable called `color` in the cell below with an appropriate value. The function call `q0.check()` (which we've already provided in the cell below) will check your answer."
   ]
  },
  {
   "cell_type": "code",
   "execution_count": 4,
   "id": "f2792add",
   "metadata": {
    "execution": {
     "iopub.execute_input": "2021-08-05T06:15:21.391980Z",
     "iopub.status.busy": "2021-08-05T06:15:21.391257Z",
     "iopub.status.idle": "2021-08-05T06:15:21.398366Z",
     "shell.execute_reply": "2021-08-05T06:15:21.398894Z",
     "shell.execute_reply.started": "2021-08-03T18:26:37.781148Z"
    },
    "papermill": {
     "duration": 0.033329,
     "end_time": "2021-08-05T06:15:21.399054",
     "exception": false,
     "start_time": "2021-08-05T06:15:21.365725",
     "status": "completed"
    },
    "tags": []
   },
   "outputs": [
    {
     "data": {
      "application/javascript": [
       "parent.postMessage({\"jupyterEvent\": \"custom.exercise_interaction\", \"data\": {\"outcomeType\": 1, \"valueTowardsCompletion\": 0.25, \"interactionType\": 1, \"questionType\": 2, \"questionId\": \"0_ExerciseFormatTutorial\", \"learnToolsVersion\": \"0.3.4\", \"failureMessage\": \"\", \"exceptionClass\": \"\", \"trace\": \"\"}}, \"*\")"
      ],
      "text/plain": [
       "<IPython.core.display.Javascript object>"
      ]
     },
     "metadata": {},
     "output_type": "display_data"
    },
    {
     "data": {
      "text/markdown": [
       "<span style=\"color:#33cc33\">Correct:</span> What?! You got it right without needing a hint or anything? Drats. Well hey, you should still continue to the next step to get some practice asking for a hint and checking solutions. (Even though you obviously don't need any help here.)"
      ],
      "text/plain": [
       "Correct: What?! You got it right without needing a hint or anything? Drats. Well hey, you should still continue to the next step to get some practice asking for a hint and checking solutions. (Even though you obviously don't need any help here.)"
      ]
     },
     "metadata": {},
     "output_type": "display_data"
    }
   ],
   "source": [
    "# create a variable called color with an appropriate value on the line below\n",
    "# (Remember, strings in Python must be enclosed in 'single' or \"double\" quotes)\n",
    "____\n",
    "color=\"Blue\"\n",
    "# Check your answer\n",
    "q0.check()"
   ]
  },
  {
   "cell_type": "markdown",
   "id": "071156b9",
   "metadata": {
    "papermill": {
     "duration": 0.023164,
     "end_time": "2021-08-05T06:15:21.445061",
     "exception": false,
     "start_time": "2021-08-05T06:15:21.421897",
     "status": "completed"
    },
    "tags": []
   },
   "source": [
    "Didn't get the right answer? How do you not even know your own favorite color?!\n",
    "\n",
    "Delete the `#` in the line below to make one of the lines run. You can choose between getting a hint or the full answer by choosing which line to remove the `#` from. \n",
    "\n",
    "Removing the `#` is called uncommenting, because it changes that line from a \"comment\" which Python doesn't run to code, which Python does run."
   ]
  },
  {
   "cell_type": "code",
   "execution_count": 5,
   "id": "fb98ba1f",
   "metadata": {
    "execution": {
     "iopub.execute_input": "2021-08-05T06:15:21.493180Z",
     "iopub.status.busy": "2021-08-05T06:15:21.492454Z",
     "iopub.status.idle": "2021-08-05T06:15:21.502520Z",
     "shell.execute_reply": "2021-08-05T06:15:21.502010Z",
     "shell.execute_reply.started": "2021-08-03T18:27:41.998944Z"
    },
    "papermill": {
     "duration": 0.035112,
     "end_time": "2021-08-05T06:15:21.502659",
     "exception": false,
     "start_time": "2021-08-05T06:15:21.467547",
     "status": "completed"
    },
    "tags": []
   },
   "outputs": [
    {
     "data": {
      "application/javascript": [
       "parent.postMessage({\"jupyterEvent\": \"custom.exercise_interaction\", \"data\": {\"interactionType\": 2, \"questionType\": 2, \"questionId\": \"0_ExerciseFormatTutorial\", \"learnToolsVersion\": \"0.3.4\", \"valueTowardsCompletion\": 0.0, \"failureMessage\": \"\", \"exceptionClass\": \"\", \"trace\": \"\", \"outcomeType\": 4}}, \"*\")"
      ],
      "text/plain": [
       "<IPython.core.display.Javascript object>"
      ]
     },
     "metadata": {},
     "output_type": "display_data"
    },
    {
     "data": {
      "text/markdown": [
       "<span style=\"color:#3366cc\">Hint:</span> Your favorite color rhymes with *glue*."
      ],
      "text/plain": [
       "Hint: Your favorite color rhymes with *glue*."
      ]
     },
     "metadata": {},
     "output_type": "display_data"
    },
    {
     "data": {
      "application/javascript": [
       "parent.postMessage({\"jupyterEvent\": \"custom.exercise_interaction\", \"data\": {\"interactionType\": 3, \"questionType\": 2, \"questionId\": \"0_ExerciseFormatTutorial\", \"learnToolsVersion\": \"0.3.4\", \"valueTowardsCompletion\": 0.0, \"failureMessage\": \"\", \"exceptionClass\": \"\", \"trace\": \"\", \"outcomeType\": 4}}, \"*\")"
      ],
      "text/plain": [
       "<IPython.core.display.Javascript object>"
      ]
     },
     "metadata": {},
     "output_type": "display_data"
    },
    {
     "data": {
      "text/markdown": [
       "<span style=\"color:#33cc99\">Solution:</span> \n",
       "```python\n",
       "color = \"blue\"\n",
       "```"
      ],
      "text/plain": [
       "Solution: \n",
       "```python\n",
       "color = \"blue\"\n",
       "```"
      ]
     },
     "metadata": {},
     "output_type": "display_data"
    }
   ],
   "source": [
    "q0.hint()\n",
    "q0.solution()"
   ]
  },
  {
   "cell_type": "markdown",
   "id": "0d2a15f2",
   "metadata": {
    "papermill": {
     "duration": 0.024321,
     "end_time": "2021-08-05T06:15:21.551779",
     "exception": false,
     "start_time": "2021-08-05T06:15:21.527458",
     "status": "completed"
    },
    "tags": []
   },
   "source": [
    "The upcoming questions work the same way. The only thing that will change are the question numbers. For the next question, you'll call `q1.check()`, `q1.hint()`, `q1.solution()`, for question 2, you'll call `q2.check()`, and so on."
   ]
  },
  {
   "cell_type": "markdown",
   "id": "1af90249",
   "metadata": {
    "papermill": {
     "duration": 0.024336,
     "end_time": "2021-08-05T06:15:21.600536",
     "exception": false,
     "start_time": "2021-08-05T06:15:21.576200",
     "status": "completed"
    },
    "tags": []
   },
   "source": [
    "<hr/>\n",
    "\n",
    "# 1.\n",
    "\n",
    "Complete the code below. In case it's helpful, here is the table of available arithmetic operations:\n",
    "\n",
    "\n",
    "\n",
    "| Operator     | Name           | Description                                            |\n",
    "|--------------|----------------|--------------------------------------------------------|\n",
    "| ``a + b``    | Addition       | Sum of ``a`` and ``b``                                 |\n",
    "| ``a - b``    | Subtraction    | Difference of ``a`` and ``b``                          |\n",
    "| ``a * b``    | Multiplication | Product of ``a`` and ``b``                             |\n",
    "| ``a / b``    | True division  | Quotient of ``a`` and ``b``                            |\n",
    "| ``a // b``   | Floor division | Quotient of ``a`` and ``b``, removing fractional parts |\n",
    "| ``a % b``    | Modulus        | Integer remainder after division of ``a`` by ``b``     |\n",
    "| ``a ** b``   | Exponentiation | ``a`` raised to the power of ``b``                     |\n",
    "| ``-a``       | Negation       | The negative of ``a``                                  |\n",
    "\n",
    "<span style=\"display:none\"></span>\n"
   ]
  },
  {
   "cell_type": "code",
   "execution_count": 6,
   "id": "0ff8325e",
   "metadata": {
    "execution": {
     "iopub.execute_input": "2021-08-05T06:15:21.656576Z",
     "iopub.status.busy": "2021-08-05T06:15:21.655514Z",
     "iopub.status.idle": "2021-08-05T06:15:21.664658Z",
     "shell.execute_reply": "2021-08-05T06:15:21.663689Z",
     "shell.execute_reply.started": "2021-08-03T18:30:28.5736Z"
    },
    "papermill": {
     "duration": 0.039908,
     "end_time": "2021-08-05T06:15:21.664897",
     "exception": false,
     "start_time": "2021-08-05T06:15:21.624989",
     "status": "completed"
    },
    "tags": []
   },
   "outputs": [
    {
     "data": {
      "application/javascript": [
       "parent.postMessage({\"jupyterEvent\": \"custom.exercise_interaction\", \"data\": {\"outcomeType\": 1, \"valueTowardsCompletion\": 0.25, \"interactionType\": 1, \"questionType\": 1, \"questionId\": \"1_CircleArea\", \"learnToolsVersion\": \"0.3.4\", \"failureMessage\": \"\", \"exceptionClass\": \"\", \"trace\": \"\"}}, \"*\")"
      ],
      "text/plain": [
       "<IPython.core.display.Javascript object>"
      ]
     },
     "metadata": {},
     "output_type": "display_data"
    },
    {
     "data": {
      "text/markdown": [
       "<span style=\"color:#33cc33\">Correct</span>"
      ],
      "text/plain": [
       "Correct"
      ]
     },
     "metadata": {},
     "output_type": "display_data"
    }
   ],
   "source": [
    "pi = 3.14159 # approximate\n",
    "diameter = 3\n",
    "\n",
    "# Create a variable called 'radius' equal to half the diameter\n",
    "radius = diameter / 2\n",
    "\n",
    "# Create a variable called 'area', using the formula for the area of a circle: pi times the radius squared\n",
    "area = pi * radius ** 2\n",
    "\n",
    "# Check your answer\n",
    "q1.check()"
   ]
  },
  {
   "cell_type": "code",
   "execution_count": 7,
   "id": "283ffeb3",
   "metadata": {
    "execution": {
     "iopub.execute_input": "2021-08-05T06:15:21.728305Z",
     "iopub.status.busy": "2021-08-05T06:15:21.727633Z",
     "iopub.status.idle": "2021-08-05T06:15:21.731093Z",
     "shell.execute_reply": "2021-08-05T06:15:21.731602Z"
    },
    "papermill": {
     "duration": 0.033976,
     "end_time": "2021-08-05T06:15:21.731785",
     "exception": false,
     "start_time": "2021-08-05T06:15:21.697809",
     "status": "completed"
    },
    "tags": []
   },
   "outputs": [],
   "source": [
    "# Uncomment and run the lines below if you need help.\n",
    "#q1.hint()\n",
    "#q1.solution()"
   ]
  },
  {
   "cell_type": "markdown",
   "id": "a15fc6d0",
   "metadata": {
    "papermill": {
     "duration": 0.025445,
     "end_time": "2021-08-05T06:15:21.783600",
     "exception": false,
     "start_time": "2021-08-05T06:15:21.758155",
     "status": "completed"
    },
    "tags": []
   },
   "source": [
    "<hr/>\n",
    "\n",
    "# 2.\n",
    "\n",
    "Add code to the following cell to swap variables `a` and `b` (so that `a` refers to the object previously referred to by `b` and vice versa)."
   ]
  },
  {
   "cell_type": "code",
   "execution_count": 8,
   "id": "36f36eb2",
   "metadata": {
    "execution": {
     "iopub.execute_input": "2021-08-05T06:15:21.842173Z",
     "iopub.status.busy": "2021-08-05T06:15:21.841454Z",
     "iopub.status.idle": "2021-08-05T06:15:21.848790Z",
     "shell.execute_reply": "2021-08-05T06:15:21.849270Z",
     "shell.execute_reply.started": "2021-08-03T18:38:56.525491Z"
    },
    "papermill": {
     "duration": 0.037862,
     "end_time": "2021-08-05T06:15:21.849431",
     "exception": false,
     "start_time": "2021-08-05T06:15:21.811569",
     "status": "completed"
    },
    "tags": []
   },
   "outputs": [
    {
     "data": {
      "application/javascript": [
       "parent.postMessage({\"jupyterEvent\": \"custom.exercise_interaction\", \"data\": {\"outcomeType\": 1, \"valueTowardsCompletion\": 0.25, \"interactionType\": 1, \"questionType\": 2, \"questionId\": \"2_VariableSwap\", \"learnToolsVersion\": \"0.3.4\", \"failureMessage\": \"\", \"exceptionClass\": \"\", \"trace\": \"\"}}, \"*\")"
      ],
      "text/plain": [
       "<IPython.core.display.Javascript object>"
      ]
     },
     "metadata": {},
     "output_type": "display_data"
    },
    {
     "data": {
      "text/markdown": [
       "<span style=\"color:#33cc33\">Correct:</span> \n",
       "\n",
       "The most straightforward solution is to use a third variable to temporarily store one of the old values. e.g.:\n",
       "\n",
       "    tmp = a\n",
       "    a = b\n",
       "    b = tmp\n",
       "\n",
       "If you've read lots of Python code, you might have seen the following trick to swap two variables in one line:\n",
       "\n",
       "    a, b = b, a\n",
       "\n",
       "We'll demystify this bit of Python magic later when we talk about *tuples*."
      ],
      "text/plain": [
       "Correct: \n",
       "\n",
       "The most straightforward solution is to use a third variable to temporarily store one of the old values. e.g.:\n",
       "\n",
       "    tmp = a\n",
       "    a = b\n",
       "    b = tmp\n",
       "\n",
       "If you've read lots of Python code, you might have seen the following trick to swap two variables in one line:\n",
       "\n",
       "    a, b = b, a\n",
       "\n",
       "We'll demystify this bit of Python magic later when we talk about *tuples*."
      ]
     },
     "metadata": {},
     "output_type": "display_data"
    }
   ],
   "source": [
    "########### Setup code - don't touch this part ######################\n",
    "# If you're curious, these are examples of lists. We'll talk about \n",
    "# them in depth a few lessons from now. For now, just know that they're\n",
    "# yet another type of Python object, like int or float.\n",
    "a = [1, 2, 3]\n",
    "b = [3, 2, 1]\n",
    "q2.store_original_ids()\n",
    "######################################################################\n",
    "x = a\n",
    "a = b\n",
    "b = x\n",
    "\n",
    "######################################################################\n",
    "\n",
    "# Check your answer\n",
    "q2.check()"
   ]
  },
  {
   "cell_type": "code",
   "execution_count": 9,
   "id": "64359ea8",
   "metadata": {
    "execution": {
     "iopub.execute_input": "2021-08-05T06:15:21.906271Z",
     "iopub.status.busy": "2021-08-05T06:15:21.905636Z",
     "iopub.status.idle": "2021-08-05T06:15:21.909012Z",
     "shell.execute_reply": "2021-08-05T06:15:21.909523Z",
     "shell.execute_reply.started": "2021-08-03T18:33:04.203756Z"
    },
    "papermill": {
     "duration": 0.033456,
     "end_time": "2021-08-05T06:15:21.909687",
     "exception": false,
     "start_time": "2021-08-05T06:15:21.876231",
     "status": "completed"
    },
    "tags": []
   },
   "outputs": [],
   "source": [
    "#q2.hint()"
   ]
  },
  {
   "cell_type": "code",
   "execution_count": 10,
   "id": "2a670798",
   "metadata": {
    "execution": {
     "iopub.execute_input": "2021-08-05T06:15:21.966324Z",
     "iopub.status.busy": "2021-08-05T06:15:21.965718Z",
     "iopub.status.idle": "2021-08-05T06:15:21.969593Z",
     "shell.execute_reply": "2021-08-05T06:15:21.969015Z",
     "shell.execute_reply.started": "2021-08-03T18:37:37.650881Z"
    },
    "papermill": {
     "duration": 0.033147,
     "end_time": "2021-08-05T06:15:21.969736",
     "exception": false,
     "start_time": "2021-08-05T06:15:21.936589",
     "status": "completed"
    },
    "tags": []
   },
   "outputs": [],
   "source": [
    "#q2.solution()"
   ]
  },
  {
   "cell_type": "markdown",
   "id": "1a9146c1",
   "metadata": {
    "papermill": {
     "duration": 0.027522,
     "end_time": "2021-08-05T06:15:22.024302",
     "exception": false,
     "start_time": "2021-08-05T06:15:21.996780",
     "status": "completed"
    },
    "tags": []
   },
   "source": [
    "<hr/>\n",
    "\n",
    "# 3a.\n",
    "\n",
    "Add parentheses to the following expression so that it evaluates to 1."
   ]
  },
  {
   "cell_type": "code",
   "execution_count": 11,
   "id": "cd16b5b7",
   "metadata": {
    "execution": {
     "iopub.execute_input": "2021-08-05T06:15:22.083250Z",
     "iopub.status.busy": "2021-08-05T06:15:22.082251Z",
     "iopub.status.idle": "2021-08-05T06:15:22.087642Z",
     "shell.execute_reply": "2021-08-05T06:15:22.088087Z",
     "shell.execute_reply.started": "2021-08-03T18:39:37.515329Z"
    },
    "papermill": {
     "duration": 0.03617,
     "end_time": "2021-08-05T06:15:22.088253",
     "exception": false,
     "start_time": "2021-08-05T06:15:22.052083",
     "status": "completed"
    },
    "tags": []
   },
   "outputs": [
    {
     "data": {
      "text/plain": [
       "1"
      ]
     },
     "execution_count": 11,
     "metadata": {},
     "output_type": "execute_result"
    }
   ],
   "source": [
    "(5 - 3) // 2"
   ]
  },
  {
   "cell_type": "code",
   "execution_count": 12,
   "id": "28ddf9e8",
   "metadata": {
    "execution": {
     "iopub.execute_input": "2021-08-05T06:15:22.146729Z",
     "iopub.status.busy": "2021-08-05T06:15:22.145799Z",
     "iopub.status.idle": "2021-08-05T06:15:22.149102Z",
     "shell.execute_reply": "2021-08-05T06:15:22.149557Z"
    },
    "papermill": {
     "duration": 0.034354,
     "end_time": "2021-08-05T06:15:22.149725",
     "exception": false,
     "start_time": "2021-08-05T06:15:22.115371",
     "status": "completed"
    },
    "tags": []
   },
   "outputs": [],
   "source": [
    "#q3.a.hint()"
   ]
  },
  {
   "cell_type": "code",
   "execution_count": 13,
   "id": "24f76636",
   "metadata": {
    "execution": {
     "iopub.execute_input": "2021-08-05T06:15:22.208943Z",
     "iopub.status.busy": "2021-08-05T06:15:22.207765Z",
     "iopub.status.idle": "2021-08-05T06:15:22.220063Z",
     "shell.execute_reply": "2021-08-05T06:15:22.219437Z",
     "shell.execute_reply.started": "2021-08-03T18:39:28.663199Z"
    },
    "papermill": {
     "duration": 0.043301,
     "end_time": "2021-08-05T06:15:22.220206",
     "exception": false,
     "start_time": "2021-08-05T06:15:22.176905",
     "status": "completed"
    },
    "tags": []
   },
   "outputs": [
    {
     "data": {
      "application/javascript": [
       "parent.postMessage({\"jupyterEvent\": \"custom.exercise_interaction\", \"data\": {\"interactionType\": 3, \"questionType\": 4, \"questionId\": \"3.1_ArithmeticParensEasy\", \"learnToolsVersion\": \"0.3.4\", \"valueTowardsCompletion\": 0.0, \"failureMessage\": \"\", \"exceptionClass\": \"\", \"trace\": \"\", \"outcomeType\": 4}}, \"*\")"
      ],
      "text/plain": [
       "<IPython.core.display.Javascript object>"
      ]
     },
     "metadata": {},
     "output_type": "display_data"
    },
    {
     "data": {
      "text/markdown": [
       "<span style=\"color:#33cc99\">Solution:</span> \n",
       "```python\n",
       "(5 - 3) // 2\n",
       "```"
      ],
      "text/plain": [
       "Solution: \n",
       "```python\n",
       "(5 - 3) // 2\n",
       "```"
      ]
     },
     "metadata": {},
     "output_type": "display_data"
    }
   ],
   "source": [
    "# Check your answer (Run this code cell to receive credit!)\n",
    "q3.a.solution()"
   ]
  },
  {
   "cell_type": "markdown",
   "id": "1128da69",
   "metadata": {
    "papermill": {
     "duration": 0.030357,
     "end_time": "2021-08-05T06:15:22.282585",
     "exception": false,
     "start_time": "2021-08-05T06:15:22.252228",
     "status": "completed"
    },
    "tags": []
   },
   "source": [
    "# 3b.  <span title=\"A bit spicy\" style=\"color: darkgreen \">🌶️</span>\n",
    "\n",
    "<small>Questions, like this one, marked a spicy pepper are a bit harder.</small>\n",
    "\n",
    "Add parentheses to the following expression so that it evaluates to 0."
   ]
  },
  {
   "cell_type": "code",
   "execution_count": 14,
   "id": "b9b74ea7",
   "metadata": {
    "execution": {
     "iopub.execute_input": "2021-08-05T06:15:22.349119Z",
     "iopub.status.busy": "2021-08-05T06:15:22.348137Z",
     "iopub.status.idle": "2021-08-05T06:15:22.354874Z",
     "shell.execute_reply": "2021-08-05T06:15:22.354218Z",
     "shell.execute_reply.started": "2021-08-03T18:40:43.913405Z"
    },
    "papermill": {
     "duration": 0.040356,
     "end_time": "2021-08-05T06:15:22.355029",
     "exception": false,
     "start_time": "2021-08-05T06:15:22.314673",
     "status": "completed"
    },
    "tags": []
   },
   "outputs": [
    {
     "data": {
      "text/plain": [
       "0"
      ]
     },
     "execution_count": 14,
     "metadata": {},
     "output_type": "execute_result"
    }
   ],
   "source": [
    "(8 -( 3 * 2)) - (1 + 1)"
   ]
  },
  {
   "cell_type": "code",
   "execution_count": 15,
   "id": "a9aa61e6",
   "metadata": {
    "execution": {
     "iopub.execute_input": "2021-08-05T06:15:22.417319Z",
     "iopub.status.busy": "2021-08-05T06:15:22.416658Z",
     "iopub.status.idle": "2021-08-05T06:15:22.419866Z",
     "shell.execute_reply": "2021-08-05T06:15:22.419310Z"
    },
    "papermill": {
     "duration": 0.035619,
     "end_time": "2021-08-05T06:15:22.420003",
     "exception": false,
     "start_time": "2021-08-05T06:15:22.384384",
     "status": "completed"
    },
    "tags": []
   },
   "outputs": [],
   "source": [
    "#q3.b.hint()"
   ]
  },
  {
   "cell_type": "code",
   "execution_count": 16,
   "id": "5cc9b63b",
   "metadata": {
    "execution": {
     "iopub.execute_input": "2021-08-05T06:15:22.483876Z",
     "iopub.status.busy": "2021-08-05T06:15:22.483182Z",
     "iopub.status.idle": "2021-08-05T06:15:22.489226Z",
     "shell.execute_reply": "2021-08-05T06:15:22.488611Z",
     "shell.execute_reply.started": "2021-08-03T18:40:51.839364Z"
    },
    "papermill": {
     "duration": 0.04019,
     "end_time": "2021-08-05T06:15:22.489362",
     "exception": false,
     "start_time": "2021-08-05T06:15:22.449172",
     "status": "completed"
    },
    "tags": []
   },
   "outputs": [
    {
     "data": {
      "application/javascript": [
       "parent.postMessage({\"jupyterEvent\": \"custom.exercise_interaction\", \"data\": {\"interactionType\": 3, \"questionType\": 4, \"questionId\": \"3.2_ArithmeticParensHard\", \"learnToolsVersion\": \"0.3.4\", \"valueTowardsCompletion\": 0.0, \"failureMessage\": \"\", \"exceptionClass\": \"\", \"trace\": \"\", \"outcomeType\": 4}}, \"*\")"
      ],
      "text/plain": [
       "<IPython.core.display.Javascript object>"
      ]
     },
     "metadata": {},
     "output_type": "display_data"
    },
    {
     "data": {
      "text/markdown": [
       "<span style=\"color:#33cc99\">Solution:</span> `(8 - 3) * (2 - (1 + 1))` is one solution. There may be others."
      ],
      "text/plain": [
       "Solution: `(8 - 3) * (2 - (1 + 1))` is one solution. There may be others."
      ]
     },
     "metadata": {},
     "output_type": "display_data"
    }
   ],
   "source": [
    "# Check your answer (Run this code cell to receive credit!)\n",
    "q3.b.solution()"
   ]
  },
  {
   "cell_type": "markdown",
   "id": "2646599a",
   "metadata": {
    "papermill": {
     "duration": 0.030002,
     "end_time": "2021-08-05T06:15:22.549657",
     "exception": false,
     "start_time": "2021-08-05T06:15:22.519655",
     "status": "completed"
    },
    "tags": []
   },
   "source": [
    "<hr/>\n",
    "\n",
    "# 4. \n",
    "Alice, Bob and Carol have agreed to pool their Halloween candy and split it evenly among themselves.\n",
    "For the sake of their friendship, any candies left over will be smashed. For example, if they collectively\n",
    "bring home 91 candies, they'll take 30 each and smash 1.\n",
    "\n",
    "Write an arithmetic expression below to calculate how many candies they must smash for a given haul."
   ]
  },
  {
   "cell_type": "code",
   "execution_count": 17,
   "id": "1245b0b1",
   "metadata": {
    "execution": {
     "iopub.execute_input": "2021-08-05T06:15:22.616792Z",
     "iopub.status.busy": "2021-08-05T06:15:22.615779Z",
     "iopub.status.idle": "2021-08-05T06:15:22.622162Z",
     "shell.execute_reply": "2021-08-05T06:15:22.621639Z",
     "shell.execute_reply.started": "2021-08-03T18:47:30.528729Z"
    },
    "papermill": {
     "duration": 0.042625,
     "end_time": "2021-08-05T06:15:22.622296",
     "exception": false,
     "start_time": "2021-08-05T06:15:22.579671",
     "status": "completed"
    },
    "tags": []
   },
   "outputs": [
    {
     "data": {
      "application/javascript": [
       "parent.postMessage({\"jupyterEvent\": \"custom.exercise_interaction\", \"data\": {\"outcomeType\": 4, \"interactionType\": 1, \"questionType\": 1, \"questionId\": \"4_CandySplitting\", \"learnToolsVersion\": \"0.3.4\", \"valueTowardsCompletion\": 0.0, \"failureMessage\": \"\", \"exceptionClass\": \"\", \"trace\": \"\"}}, \"*\")"
      ],
      "text/plain": [
       "<IPython.core.display.Javascript object>"
      ]
     },
     "metadata": {},
     "output_type": "display_data"
    },
    {
     "data": {
      "text/markdown": [
       "<span style=\"color:#ccaa33\">Check:</span> When you've updated the starter code, `check()` will tell you whether your code is correct. You need to update the code that creates variable `to_smash`"
      ],
      "text/plain": [
       "Check: When you've updated the starter code, `check()` will tell you whether your code is correct. You need to update the code that creates variable `to_smash`"
      ]
     },
     "metadata": {},
     "output_type": "display_data"
    }
   ],
   "source": [
    "# Variables representing the number of candies collected by alice, bob, and carol\n",
    "alice_candies = 121\n",
    "bob_candies = 77\n",
    "carol_candies = 109\n",
    "\n",
    "# Your code goes here! Replace the right-hand side of this assignment with an expression\n",
    "# involving alice_candies, bob_candies, and carol_candies\n",
    "to_smash = -1\n",
    "(alice_candies + bob_candies + carol_candies) % 3\n",
    "\n",
    "\n",
    "# Check your answer\n",
    "q4.check()"
   ]
  },
  {
   "cell_type": "code",
   "execution_count": 18,
   "id": "2f3e2761",
   "metadata": {
    "execution": {
     "iopub.execute_input": "2021-08-05T06:15:22.687921Z",
     "iopub.status.busy": "2021-08-05T06:15:22.687260Z",
     "iopub.status.idle": "2021-08-05T06:15:22.690295Z",
     "shell.execute_reply": "2021-08-05T06:15:22.690783Z",
     "shell.execute_reply.started": "2021-08-03T18:45:35.760645Z"
    },
    "papermill": {
     "duration": 0.037699,
     "end_time": "2021-08-05T06:15:22.690951",
     "exception": false,
     "start_time": "2021-08-05T06:15:22.653252",
     "status": "completed"
    },
    "tags": []
   },
   "outputs": [],
   "source": [
    "#q4.hint()\n",
    "#q4.solution()"
   ]
  },
  {
   "cell_type": "markdown",
   "id": "c37015b0",
   "metadata": {
    "papermill": {
     "duration": 0.03065,
     "end_time": "2021-08-05T06:15:22.752538",
     "exception": false,
     "start_time": "2021-08-05T06:15:22.721888",
     "status": "completed"
    },
    "tags": []
   },
   "source": [
    "# Keep Going\n",
    "\n",
    "Next up, you'll **[learn to write new functions and understand functions others write](https://www.kaggle.com/colinmorris/functions-and-getting-help)**. This will make you at least 10 times more productive as a Python programmer. "
   ]
  },
  {
   "cell_type": "markdown",
   "id": "9a7dac07",
   "metadata": {
    "papermill": {
     "duration": 0.030815,
     "end_time": "2021-08-05T06:15:22.813932",
     "exception": false,
     "start_time": "2021-08-05T06:15:22.783117",
     "status": "completed"
    },
    "tags": []
   },
   "source": [
    "---\n",
    "\n",
    "\n",
    "\n",
    "\n",
    "*Have questions or comments? Visit the [Learn Discussion forum](https://www.kaggle.com/learn-forum/161283) to chat with other Learners.*"
   ]
  }
 ],
 "metadata": {
  "kernelspec": {
   "display_name": "Python 3",
   "language": "python",
   "name": "python3"
  },
  "language_info": {
   "codemirror_mode": {
    "name": "ipython",
    "version": 3
   },
   "file_extension": ".py",
   "mimetype": "text/x-python",
   "name": "python",
   "nbconvert_exporter": "python",
   "pygments_lexer": "ipython3",
   "version": "3.7.10"
  },
  "papermill": {
   "default_parameters": {},
   "duration": 10.421934,
   "end_time": "2021-08-05T06:15:23.454913",
   "environment_variables": {},
   "exception": null,
   "input_path": "__notebook__.ipynb",
   "output_path": "__notebook__.ipynb",
   "parameters": {},
   "start_time": "2021-08-05T06:15:13.032979",
   "version": "2.3.3"
  }
 },
 "nbformat": 4,
 "nbformat_minor": 5
}
