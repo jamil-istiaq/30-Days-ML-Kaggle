{
 "cells": [
  {
   "cell_type": "markdown",
   "id": "3b1cb6f2",
   "metadata": {
    "papermill": {
     "duration": 0.011026,
     "end_time": "2021-08-12T05:50:16.783601",
     "exception": false,
     "start_time": "2021-08-12T05:50:16.772575",
     "status": "completed"
    },
    "tags": []
   },
   "source": [
    "**This notebook is an exercise in the [Introduction to Machine Learning](https://www.kaggle.com/learn/intro-to-machine-learning) course.  You can reference the tutorial at [this link](https://www.kaggle.com/dansbecker/underfitting-and-overfitting).**\n",
    "\n",
    "---\n"
   ]
  },
  {
   "cell_type": "markdown",
   "id": "73d34263",
   "metadata": {
    "papermill": {
     "duration": 0.009381,
     "end_time": "2021-08-12T05:50:16.802878",
     "exception": false,
     "start_time": "2021-08-12T05:50:16.793497",
     "status": "completed"
    },
    "tags": []
   },
   "source": [
    "## Recap\n",
    "You've built your first model, and now it's time to optimize the size of the tree to make better predictions. Run this cell to set up your coding environment where the previous step left off."
   ]
  },
  {
   "cell_type": "code",
   "execution_count": 1,
   "id": "64bb54e8",
   "metadata": {
    "execution": {
     "iopub.execute_input": "2021-08-12T05:50:16.838353Z",
     "iopub.status.busy": "2021-08-12T05:50:16.837268Z",
     "iopub.status.idle": "2021-08-12T05:50:18.279060Z",
     "shell.execute_reply": "2021-08-12T05:50:18.277933Z",
     "shell.execute_reply.started": "2021-08-12T05:38:46.711790Z"
    },
    "papermill": {
     "duration": 1.466757,
     "end_time": "2021-08-12T05:50:18.279285",
     "exception": false,
     "start_time": "2021-08-12T05:50:16.812528",
     "status": "completed"
    },
    "tags": []
   },
   "outputs": [
    {
     "name": "stdout",
     "output_type": "stream",
     "text": [
      "Validation MAE: 29,653\n",
      "\n",
      "Setup complete\n"
     ]
    }
   ],
   "source": [
    "# Code you have previously used to load data\n",
    "import pandas as pd\n",
    "from sklearn.metrics import mean_absolute_error\n",
    "from sklearn.model_selection import train_test_split\n",
    "from sklearn.tree import DecisionTreeRegressor\n",
    "\n",
    "\n",
    "# Path of the file to read\n",
    "iowa_file_path = '../input/home-data-for-ml-course/train.csv'\n",
    "\n",
    "home_data = pd.read_csv(iowa_file_path)\n",
    "# Create target object and call it y\n",
    "y = home_data.SalePrice\n",
    "# Create X\n",
    "features = ['LotArea', 'YearBuilt', '1stFlrSF', '2ndFlrSF', 'FullBath', 'BedroomAbvGr', 'TotRmsAbvGrd']\n",
    "X = home_data[features]\n",
    "\n",
    "# Split into validation and training data\n",
    "train_X, val_X, train_y, val_y = train_test_split(X, y, random_state=1)\n",
    "\n",
    "# Specify Model\n",
    "iowa_model = DecisionTreeRegressor(random_state=1)\n",
    "# Fit Model\n",
    "iowa_model.fit(train_X, train_y)\n",
    "\n",
    "# Make validation predictions and calculate mean absolute error\n",
    "val_predictions = iowa_model.predict(val_X)\n",
    "val_mae = mean_absolute_error(val_predictions, val_y)\n",
    "print(\"Validation MAE: {:,.0f}\".format(val_mae))\n",
    "\n",
    "# Set up code checking\n",
    "from learntools.core import binder\n",
    "binder.bind(globals())\n",
    "from learntools.machine_learning.ex5 import *\n",
    "print(\"\\nSetup complete\")"
   ]
  },
  {
   "cell_type": "markdown",
   "id": "c6ca1553",
   "metadata": {
    "papermill": {
     "duration": 0.009732,
     "end_time": "2021-08-12T05:50:18.299851",
     "exception": false,
     "start_time": "2021-08-12T05:50:18.290119",
     "status": "completed"
    },
    "tags": []
   },
   "source": [
    "# Exercises\n",
    "You could write the function `get_mae` yourself. For now, we'll supply it. This is the same function you read about in the previous lesson. Just run the cell below."
   ]
  },
  {
   "cell_type": "code",
   "execution_count": 2,
   "id": "42d3b65f",
   "metadata": {
    "execution": {
     "iopub.execute_input": "2021-08-12T05:50:18.325725Z",
     "iopub.status.busy": "2021-08-12T05:50:18.325041Z",
     "iopub.status.idle": "2021-08-12T05:50:18.328282Z",
     "shell.execute_reply": "2021-08-12T05:50:18.327687Z",
     "shell.execute_reply.started": "2021-08-12T05:40:15.575324Z"
    },
    "papermill": {
     "duration": 0.018613,
     "end_time": "2021-08-12T05:50:18.328422",
     "exception": false,
     "start_time": "2021-08-12T05:50:18.309809",
     "status": "completed"
    },
    "tags": []
   },
   "outputs": [],
   "source": [
    "def get_mae(max_leaf_nodes, train_X, val_X, train_y, val_y):\n",
    "    model = DecisionTreeRegressor(max_leaf_nodes=max_leaf_nodes, random_state=0)\n",
    "    model.fit(train_X, train_y)\n",
    "    preds_val = model.predict(val_X)\n",
    "    mae = mean_absolute_error(val_y, preds_val)\n",
    "    return(mae)"
   ]
  },
  {
   "cell_type": "markdown",
   "id": "90de5773",
   "metadata": {
    "papermill": {
     "duration": 0.00955,
     "end_time": "2021-08-12T05:50:18.348043",
     "exception": false,
     "start_time": "2021-08-12T05:50:18.338493",
     "status": "completed"
    },
    "tags": []
   },
   "source": [
    "## Step 1: Compare Different Tree Sizes\n",
    "Write a loop that tries the following values for *max_leaf_nodes* from a set of possible values.\n",
    "\n",
    "Call the *get_mae* function on each value of max_leaf_nodes. Store the output in some way that allows you to select the value of `max_leaf_nodes` that gives the most accurate model on your data."
   ]
  },
  {
   "cell_type": "code",
   "execution_count": 3,
   "id": "1c8c493e",
   "metadata": {
    "execution": {
     "iopub.execute_input": "2021-08-12T05:50:18.376457Z",
     "iopub.status.busy": "2021-08-12T05:50:18.375722Z",
     "iopub.status.idle": "2021-08-12T05:50:18.434955Z",
     "shell.execute_reply": "2021-08-12T05:50:18.434229Z",
     "shell.execute_reply.started": "2021-08-12T05:47:41.052270Z"
    },
    "papermill": {
     "duration": 0.077246,
     "end_time": "2021-08-12T05:50:18.435108",
     "exception": false,
     "start_time": "2021-08-12T05:50:18.357862",
     "status": "completed"
    },
    "tags": []
   },
   "outputs": [
    {
     "data": {
      "application/javascript": [
       "parent.postMessage({\"jupyterEvent\": \"custom.exercise_interaction\", \"data\": {\"outcomeType\": 1, \"valueTowardsCompletion\": 0.5, \"interactionType\": 1, \"questionType\": 1, \"questionId\": \"1_BestTreeSize\", \"learnToolsVersion\": \"0.3.4\", \"failureMessage\": \"\", \"exceptionClass\": \"\", \"trace\": \"\"}}, \"*\")"
      ],
      "text/plain": [
       "<IPython.core.display.Javascript object>"
      ]
     },
     "metadata": {},
     "output_type": "display_data"
    },
    {
     "data": {
      "text/markdown": [
       "<span style=\"color:#33cc33\">Correct</span>"
      ],
      "text/plain": [
       "Correct"
      ]
     },
     "metadata": {},
     "output_type": "display_data"
    }
   ],
   "source": [
    "candidate_max_leaf_nodes = [5, 25, 50, 100, 250, 500]\n",
    "# Write loop to find the ideal tree size from candidate_max_leaf_nodes\n",
    "scores = {leaf_size: get_mae(leaf_size, train_X, val_X, train_y, val_y) for leaf_size in candidate_max_leaf_nodes}\n",
    "\n",
    "\n",
    "# Store the best value of max_leaf_nodes (it will be either 5, 25, 50, 100, 250 or 500)\n",
    "best_tree_size = min(scores, key=scores.get)\n",
    "\n",
    "# Check your answer\n",
    "step_1.check()"
   ]
  },
  {
   "cell_type": "code",
   "execution_count": 4,
   "id": "9f86c81a",
   "metadata": {
    "execution": {
     "iopub.execute_input": "2021-08-12T05:50:18.463105Z",
     "iopub.status.busy": "2021-08-12T05:50:18.462019Z",
     "iopub.status.idle": "2021-08-12T05:50:18.465187Z",
     "shell.execute_reply": "2021-08-12T05:50:18.464533Z",
     "shell.execute_reply.started": "2021-08-12T05:47:21.884014Z"
    },
    "papermill": {
     "duration": 0.019118,
     "end_time": "2021-08-12T05:50:18.465332",
     "exception": false,
     "start_time": "2021-08-12T05:50:18.446214",
     "status": "completed"
    },
    "tags": []
   },
   "outputs": [],
   "source": [
    "# The lines below will show you a hint or the solution.\n",
    "# step_1.hint() \n",
    "#step_1.solution()"
   ]
  },
  {
   "cell_type": "markdown",
   "id": "f24fbb5e",
   "metadata": {
    "papermill": {
     "duration": 0.010708,
     "end_time": "2021-08-12T05:50:18.487102",
     "exception": false,
     "start_time": "2021-08-12T05:50:18.476394",
     "status": "completed"
    },
    "tags": []
   },
   "source": [
    "## Step 2: Fit Model Using All Data\n",
    "You know the best tree size. If you were going to deploy this model in practice, you would make it even more accurate by using all of the data and keeping that tree size.  That is, you don't need to hold out the validation data now that you've made all your modeling decisions."
   ]
  },
  {
   "cell_type": "code",
   "execution_count": 5,
   "id": "eae391eb",
   "metadata": {
    "execution": {
     "iopub.execute_input": "2021-08-12T05:50:18.516849Z",
     "iopub.status.busy": "2021-08-12T05:50:18.516187Z",
     "iopub.status.idle": "2021-08-12T05:50:18.528455Z",
     "shell.execute_reply": "2021-08-12T05:50:18.528999Z",
     "shell.execute_reply.started": "2021-08-12T05:49:47.472003Z"
    },
    "papermill": {
     "duration": 0.031068,
     "end_time": "2021-08-12T05:50:18.529171",
     "exception": false,
     "start_time": "2021-08-12T05:50:18.498103",
     "status": "completed"
    },
    "tags": []
   },
   "outputs": [
    {
     "data": {
      "application/javascript": [
       "parent.postMessage({\"jupyterEvent\": \"custom.exercise_interaction\", \"data\": {\"outcomeType\": 1, \"valueTowardsCompletion\": 0.5, \"interactionType\": 1, \"questionType\": 2, \"questionId\": \"2_FitModelWithAllData\", \"learnToolsVersion\": \"0.3.4\", \"failureMessage\": \"\", \"exceptionClass\": \"\", \"trace\": \"\"}}, \"*\")"
      ],
      "text/plain": [
       "<IPython.core.display.Javascript object>"
      ]
     },
     "metadata": {},
     "output_type": "display_data"
    },
    {
     "data": {
      "text/markdown": [
       "<span style=\"color:#33cc33\">Correct</span>"
      ],
      "text/plain": [
       "Correct"
      ]
     },
     "metadata": {},
     "output_type": "display_data"
    }
   ],
   "source": [
    "# Fill in argument to make optimal size and uncomment\n",
    "final_model = DecisionTreeRegressor(max_leaf_nodes=best_tree_size,random_state=0)\n",
    "\n",
    "# fit the final model and uncomment the next two lines\n",
    "final_model.fit(X,y)\n",
    "\n",
    "# Check your answer\n",
    "step_2.check()"
   ]
  },
  {
   "cell_type": "code",
   "execution_count": 6,
   "id": "775c4801",
   "metadata": {
    "execution": {
     "iopub.execute_input": "2021-08-12T05:50:18.556023Z",
     "iopub.status.busy": "2021-08-12T05:50:18.555341Z",
     "iopub.status.idle": "2021-08-12T05:50:18.558421Z",
     "shell.execute_reply": "2021-08-12T05:50:18.558995Z",
     "shell.execute_reply.started": "2021-08-12T05:49:45.033814Z"
    },
    "papermill": {
     "duration": 0.018174,
     "end_time": "2021-08-12T05:50:18.559162",
     "exception": false,
     "start_time": "2021-08-12T05:50:18.540988",
     "status": "completed"
    },
    "tags": []
   },
   "outputs": [],
   "source": [
    "# step_2.hint()\n",
    "# step_2.solution()"
   ]
  },
  {
   "cell_type": "markdown",
   "id": "f5645b52",
   "metadata": {
    "papermill": {
     "duration": 0.011513,
     "end_time": "2021-08-12T05:50:18.582655",
     "exception": false,
     "start_time": "2021-08-12T05:50:18.571142",
     "status": "completed"
    },
    "tags": []
   },
   "source": [
    "You've tuned this model and improved your results. But we are still using Decision Tree models, which are not very sophisticated by modern machine learning standards. In the next step you will learn to use Random Forests to improve your models even more.\n",
    "\n",
    "# Keep Going\n",
    "\n",
    "You are ready for **[Random Forests](https://www.kaggle.com/dansbecker/random-forests).**\n"
   ]
  },
  {
   "cell_type": "markdown",
   "id": "c140ad33",
   "metadata": {
    "papermill": {
     "duration": 0.011862,
     "end_time": "2021-08-12T05:50:18.607403",
     "exception": false,
     "start_time": "2021-08-12T05:50:18.595541",
     "status": "completed"
    },
    "tags": []
   },
   "source": [
    "---\n",
    "\n",
    "\n",
    "\n",
    "\n",
    "*Have questions or comments? Visit the [Learn Discussion forum](https://www.kaggle.com/learn-forum/161285) to chat with other Learners.*"
   ]
  }
 ],
 "metadata": {
  "kernelspec": {
   "display_name": "Python 3",
   "language": "python",
   "name": "python3"
  },
  "language_info": {
   "codemirror_mode": {
    "name": "ipython",
    "version": 3
   },
   "file_extension": ".py",
   "mimetype": "text/x-python",
   "name": "python",
   "nbconvert_exporter": "python",
   "pygments_lexer": "ipython3",
   "version": "3.7.10"
  },
  "papermill": {
   "default_parameters": {},
   "duration": 11.96024,
   "end_time": "2021-08-12T05:50:19.433262",
   "environment_variables": {},
   "exception": null,
   "input_path": "__notebook__.ipynb",
   "output_path": "__notebook__.ipynb",
   "parameters": {},
   "start_time": "2021-08-12T05:50:07.473022",
   "version": "2.3.3"
  }
 },
 "nbformat": 4,
 "nbformat_minor": 5
}
