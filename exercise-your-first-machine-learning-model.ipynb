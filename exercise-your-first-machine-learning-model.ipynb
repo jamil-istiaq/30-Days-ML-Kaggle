{
 "cells": [
  {
   "cell_type": "markdown",
   "id": "cfa2d3ec",
   "metadata": {
    "papermill": {
     "duration": 0.016457,
     "end_time": "2021-08-11T18:55:21.894847",
     "exception": false,
     "start_time": "2021-08-11T18:55:21.878390",
     "status": "completed"
    },
    "tags": []
   },
   "source": [
    "**This notebook is an exercise in the [Introduction to Machine Learning](https://www.kaggle.com/learn/intro-to-machine-learning) course.  You can reference the tutorial at [this link](https://www.kaggle.com/dansbecker/your-first-machine-learning-model).**\n",
    "\n",
    "---\n"
   ]
  },
  {
   "cell_type": "markdown",
   "id": "05ab9084",
   "metadata": {
    "papermill": {
     "duration": 0.01707,
     "end_time": "2021-08-11T18:55:21.928468",
     "exception": false,
     "start_time": "2021-08-11T18:55:21.911398",
     "status": "completed"
    },
    "tags": []
   },
   "source": [
    "## Recap\n",
    "So far, you have loaded your data and reviewed it with the following code. Run this cell to set up your coding environment where the previous step left off."
   ]
  },
  {
   "cell_type": "code",
   "execution_count": 1,
   "id": "e5b07154",
   "metadata": {
    "execution": {
     "iopub.execute_input": "2021-08-11T18:55:21.974760Z",
     "iopub.status.busy": "2021-08-11T18:55:21.974027Z",
     "iopub.status.idle": "2021-08-11T18:55:23.421344Z",
     "shell.execute_reply": "2021-08-11T18:55:23.422176Z",
     "shell.execute_reply.started": "2021-08-11T17:38:57.918707Z"
    },
    "papermill": {
     "duration": 1.478206,
     "end_time": "2021-08-11T18:55:23.422519",
     "exception": false,
     "start_time": "2021-08-11T18:55:21.944313",
     "status": "completed"
    },
    "tags": []
   },
   "outputs": [
    {
     "name": "stdout",
     "output_type": "stream",
     "text": [
      "Setup Complete\n"
     ]
    }
   ],
   "source": [
    "# Code you have previously used to load data\n",
    "import pandas as pd\n",
    "\n",
    "# Path of the file to read\n",
    "iowa_file_path = '../input/home-data-for-ml-course/train.csv'\n",
    "\n",
    "home_data = pd.read_csv(iowa_file_path)\n",
    "\n",
    "# Set up code checking\n",
    "from learntools.core import binder\n",
    "binder.bind(globals())\n",
    "from learntools.machine_learning.ex3 import *\n",
    "\n",
    "print(\"Setup Complete\")"
   ]
  },
  {
   "cell_type": "markdown",
   "id": "e4cb9ad6",
   "metadata": {
    "papermill": {
     "duration": 0.015243,
     "end_time": "2021-08-11T18:55:23.453880",
     "exception": false,
     "start_time": "2021-08-11T18:55:23.438637",
     "status": "completed"
    },
    "tags": []
   },
   "source": [
    "# Exercises\n",
    "\n",
    "## Step 1: Specify Prediction Target\n",
    "Select the target variable, which corresponds to the sales price. Save this to a new variable called `y`. You'll need to print a list of the columns to find the name of the column you need.\n"
   ]
  },
  {
   "cell_type": "code",
   "execution_count": 2,
   "id": "a103d9c5",
   "metadata": {
    "execution": {
     "iopub.execute_input": "2021-08-11T18:55:23.495109Z",
     "iopub.status.busy": "2021-08-11T18:55:23.494084Z",
     "iopub.status.idle": "2021-08-11T18:55:23.498585Z",
     "shell.execute_reply": "2021-08-11T18:55:23.498061Z",
     "shell.execute_reply.started": "2021-08-11T17:42:25.788978Z"
    },
    "papermill": {
     "duration": 0.028741,
     "end_time": "2021-08-11T18:55:23.498750",
     "exception": false,
     "start_time": "2021-08-11T18:55:23.470009",
     "status": "completed"
    },
    "tags": []
   },
   "outputs": [
    {
     "data": {
      "text/plain": [
       "Index(['Id', 'MSSubClass', 'MSZoning', 'LotFrontage', 'LotArea', 'Street',\n",
       "       'Alley', 'LotShape', 'LandContour', 'Utilities', 'LotConfig',\n",
       "       'LandSlope', 'Neighborhood', 'Condition1', 'Condition2', 'BldgType',\n",
       "       'HouseStyle', 'OverallQual', 'OverallCond', 'YearBuilt', 'YearRemodAdd',\n",
       "       'RoofStyle', 'RoofMatl', 'Exterior1st', 'Exterior2nd', 'MasVnrType',\n",
       "       'MasVnrArea', 'ExterQual', 'ExterCond', 'Foundation', 'BsmtQual',\n",
       "       'BsmtCond', 'BsmtExposure', 'BsmtFinType1', 'BsmtFinSF1',\n",
       "       'BsmtFinType2', 'BsmtFinSF2', 'BsmtUnfSF', 'TotalBsmtSF', 'Heating',\n",
       "       'HeatingQC', 'CentralAir', 'Electrical', '1stFlrSF', '2ndFlrSF',\n",
       "       'LowQualFinSF', 'GrLivArea', 'BsmtFullBath', 'BsmtHalfBath', 'FullBath',\n",
       "       'HalfBath', 'BedroomAbvGr', 'KitchenAbvGr', 'KitchenQual',\n",
       "       'TotRmsAbvGrd', 'Functional', 'Fireplaces', 'FireplaceQu', 'GarageType',\n",
       "       'GarageYrBlt', 'GarageFinish', 'GarageCars', 'GarageArea', 'GarageQual',\n",
       "       'GarageCond', 'PavedDrive', 'WoodDeckSF', 'OpenPorchSF',\n",
       "       'EnclosedPorch', '3SsnPorch', 'ScreenPorch', 'PoolArea', 'PoolQC',\n",
       "       'Fence', 'MiscFeature', 'MiscVal', 'MoSold', 'YrSold', 'SaleType',\n",
       "       'SaleCondition', 'SalePrice'],\n",
       "      dtype='object')"
      ]
     },
     "execution_count": 2,
     "metadata": {},
     "output_type": "execute_result"
    }
   ],
   "source": [
    "# print the list of columns in the dataset to find the name of the prediction target\n",
    "home_data.columns"
   ]
  },
  {
   "cell_type": "code",
   "execution_count": 3,
   "id": "0921c8f9",
   "metadata": {
    "execution": {
     "iopub.execute_input": "2021-08-11T18:55:23.543818Z",
     "iopub.status.busy": "2021-08-11T18:55:23.542811Z",
     "iopub.status.idle": "2021-08-11T18:55:23.550242Z",
     "shell.execute_reply": "2021-08-11T18:55:23.549733Z",
     "shell.execute_reply.started": "2021-08-11T17:44:34.353947Z"
    },
    "papermill": {
     "duration": 0.035753,
     "end_time": "2021-08-11T18:55:23.550383",
     "exception": false,
     "start_time": "2021-08-11T18:55:23.514630",
     "status": "completed"
    },
    "tags": []
   },
   "outputs": [
    {
     "data": {
      "application/javascript": [
       "parent.postMessage({\"jupyterEvent\": \"custom.exercise_interaction\", \"data\": {\"outcomeType\": 1, \"valueTowardsCompletion\": 0.25, \"interactionType\": 1, \"questionType\": 2, \"questionId\": \"1_SetTarget\", \"learnToolsVersion\": \"0.3.4\", \"failureMessage\": \"\", \"exceptionClass\": \"\", \"trace\": \"\"}}, \"*\")"
      ],
      "text/plain": [
       "<IPython.core.display.Javascript object>"
      ]
     },
     "metadata": {},
     "output_type": "display_data"
    },
    {
     "data": {
      "text/markdown": [
       "<span style=\"color:#33cc33\">Correct</span>"
      ],
      "text/plain": [
       "Correct"
      ]
     },
     "metadata": {},
     "output_type": "display_data"
    }
   ],
   "source": [
    "y = home_data.SalePrice\n",
    "\n",
    "# Check your answer\n",
    "step_1.check()"
   ]
  },
  {
   "cell_type": "code",
   "execution_count": 4,
   "id": "b45dca7c",
   "metadata": {
    "collapsed": true,
    "execution": {
     "iopub.execute_input": "2021-08-11T18:55:23.590172Z",
     "iopub.status.busy": "2021-08-11T18:55:23.589200Z",
     "iopub.status.idle": "2021-08-11T18:55:23.592358Z",
     "shell.execute_reply": "2021-08-11T18:55:23.591830Z"
    },
    "jupyter": {
     "outputs_hidden": true
    },
    "papermill": {
     "duration": 0.025131,
     "end_time": "2021-08-11T18:55:23.592509",
     "exception": false,
     "start_time": "2021-08-11T18:55:23.567378",
     "status": "completed"
    },
    "tags": []
   },
   "outputs": [],
   "source": [
    "# The lines below will show you a hint or the solution.\n",
    "# step_1.hint() \n",
    "# step_1.solution()"
   ]
  },
  {
   "cell_type": "markdown",
   "id": "dce0bacb",
   "metadata": {
    "papermill": {
     "duration": 0.017731,
     "end_time": "2021-08-11T18:55:23.627591",
     "exception": false,
     "start_time": "2021-08-11T18:55:23.609860",
     "status": "completed"
    },
    "tags": []
   },
   "source": [
    "## Step 2: Create X\n",
    "Now you will create a DataFrame called `X` holding the predictive features.\n",
    "\n",
    "Since you want only some columns from the original data, you'll first create a list with the names of the columns you want in `X`.\n",
    "\n",
    "You'll use just the following columns in the list (you can copy and paste the whole list to save some typing, though you'll still need to add quotes):\n",
    "    * LotArea\n",
    "    * YearBuilt\n",
    "    * 1stFlrSF\n",
    "    * 2ndFlrSF\n",
    "    * FullBath\n",
    "    * BedroomAbvGr\n",
    "    * TotRmsAbvGrd\n",
    "\n",
    "After you've created that list of features, use it to create the DataFrame that you'll use to fit the model."
   ]
  },
  {
   "cell_type": "code",
   "execution_count": 5,
   "id": "a9bf2249",
   "metadata": {
    "execution": {
     "iopub.execute_input": "2021-08-11T18:55:23.671964Z",
     "iopub.status.busy": "2021-08-11T18:55:23.671235Z",
     "iopub.status.idle": "2021-08-11T18:55:23.675977Z",
     "shell.execute_reply": "2021-08-11T18:55:23.676484Z",
     "shell.execute_reply.started": "2021-08-11T18:16:43.201940Z"
    },
    "papermill": {
     "duration": 0.031579,
     "end_time": "2021-08-11T18:55:23.676655",
     "exception": false,
     "start_time": "2021-08-11T18:55:23.645076",
     "status": "completed"
    },
    "tags": []
   },
   "outputs": [
    {
     "data": {
      "application/javascript": [
       "parent.postMessage({\"jupyterEvent\": \"custom.exercise_interaction\", \"data\": {\"outcomeType\": 1, \"valueTowardsCompletion\": 0.25, \"interactionType\": 1, \"questionType\": 2, \"questionId\": \"2_SelectPredictionData\", \"learnToolsVersion\": \"0.3.4\", \"failureMessage\": \"\", \"exceptionClass\": \"\", \"trace\": \"\"}}, \"*\")"
      ],
      "text/plain": [
       "<IPython.core.display.Javascript object>"
      ]
     },
     "metadata": {},
     "output_type": "display_data"
    },
    {
     "data": {
      "text/markdown": [
       "<span style=\"color:#33cc33\">Correct</span>"
      ],
      "text/plain": [
       "Correct"
      ]
     },
     "metadata": {},
     "output_type": "display_data"
    }
   ],
   "source": [
    "# Create the list of features below\n",
    "feature_names = [\"LotArea\", \"YearBuilt\", \"1stFlrSF\", \"2ndFlrSF\",\"FullBath\", \"BedroomAbvGr\", \"TotRmsAbvGrd\"]\n",
    "\n",
    "X=home_data[feature_names]\n",
    "\n",
    "# Check your answer\n",
    "step_2.check()"
   ]
  },
  {
   "cell_type": "code",
   "execution_count": 6,
   "id": "04742aa3",
   "metadata": {
    "execution": {
     "iopub.execute_input": "2021-08-11T18:55:23.716715Z",
     "iopub.status.busy": "2021-08-11T18:55:23.716055Z",
     "iopub.status.idle": "2021-08-11T18:55:23.719628Z",
     "shell.execute_reply": "2021-08-11T18:55:23.720278Z",
     "shell.execute_reply.started": "2021-08-11T18:16:24.064313Z"
    },
    "papermill": {
     "duration": 0.024933,
     "end_time": "2021-08-11T18:55:23.720473",
     "exception": false,
     "start_time": "2021-08-11T18:55:23.695540",
     "status": "completed"
    },
    "tags": []
   },
   "outputs": [],
   "source": [
    "# step_2.hint()\n",
    "#step_2.solution()"
   ]
  },
  {
   "cell_type": "markdown",
   "id": "e7fc3d99",
   "metadata": {
    "papermill": {
     "duration": 0.018055,
     "end_time": "2021-08-11T18:55:23.757452",
     "exception": false,
     "start_time": "2021-08-11T18:55:23.739397",
     "status": "completed"
    },
    "tags": []
   },
   "source": [
    "## Review Data\n",
    "Before building a model, take a quick look at **X** to verify it looks sensible"
   ]
  },
  {
   "cell_type": "code",
   "execution_count": 7,
   "id": "4401a1ec",
   "metadata": {
    "execution": {
     "iopub.execute_input": "2021-08-11T18:55:23.797508Z",
     "iopub.status.busy": "2021-08-11T18:55:23.796844Z",
     "iopub.status.idle": "2021-08-11T18:55:23.813093Z",
     "shell.execute_reply": "2021-08-11T18:55:23.813650Z",
     "shell.execute_reply.started": "2021-08-11T18:16:48.206589Z"
    },
    "papermill": {
     "duration": 0.038052,
     "end_time": "2021-08-11T18:55:23.813852",
     "exception": false,
     "start_time": "2021-08-11T18:55:23.775800",
     "status": "completed"
    },
    "tags": []
   },
   "outputs": [
    {
     "name": "stdout",
     "output_type": "stream",
     "text": [
      "      LotArea  YearBuilt  1stFlrSF  2ndFlrSF  FullBath  BedroomAbvGr  \\\n",
      "0        8450       2003       856       854         2             3   \n",
      "1        9600       1976      1262         0         2             3   \n",
      "2       11250       2001       920       866         2             3   \n",
      "3        9550       1915       961       756         1             3   \n",
      "4       14260       2000      1145      1053         2             4   \n",
      "...       ...        ...       ...       ...       ...           ...   \n",
      "1455     7917       1999       953       694         2             3   \n",
      "1456    13175       1978      2073         0         2             3   \n",
      "1457     9042       1941      1188      1152         2             4   \n",
      "1458     9717       1950      1078         0         1             2   \n",
      "1459     9937       1965      1256         0         1             3   \n",
      "\n",
      "      TotRmsAbvGrd  \n",
      "0                8  \n",
      "1                6  \n",
      "2                6  \n",
      "3                7  \n",
      "4                9  \n",
      "...            ...  \n",
      "1455             7  \n",
      "1456             7  \n",
      "1457             9  \n",
      "1458             5  \n",
      "1459             6  \n",
      "\n",
      "[1460 rows x 7 columns]\n",
      "   LotArea  YearBuilt  1stFlrSF  2ndFlrSF  FullBath  BedroomAbvGr  \\\n",
      "0     8450       2003       856       854         2             3   \n",
      "1     9600       1976      1262         0         2             3   \n",
      "2    11250       2001       920       866         2             3   \n",
      "3     9550       1915       961       756         1             3   \n",
      "4    14260       2000      1145      1053         2             4   \n",
      "\n",
      "   TotRmsAbvGrd  \n",
      "0             8  \n",
      "1             6  \n",
      "2             6  \n",
      "3             7  \n",
      "4             9  \n"
     ]
    }
   ],
   "source": [
    "# Review data\n",
    "# print description or statistics from X\n",
    "print(X)\n",
    "\n",
    "\n",
    "# print the top few lines\n",
    "print(X.head())"
   ]
  },
  {
   "cell_type": "markdown",
   "id": "753d20ba",
   "metadata": {
    "papermill": {
     "duration": 0.020431,
     "end_time": "2021-08-11T18:55:23.852869",
     "exception": false,
     "start_time": "2021-08-11T18:55:23.832438",
     "status": "completed"
    },
    "tags": []
   },
   "source": [
    "## Step 3: Specify and Fit Model\n",
    "Create a `DecisionTreeRegressor` and save it iowa_model. Ensure you've done the relevant import from sklearn to run this command.\n",
    "\n",
    "Then fit the model you just created using the data in `X` and `y` that you saved above."
   ]
  },
  {
   "cell_type": "code",
   "execution_count": 8,
   "id": "4d426189",
   "metadata": {
    "execution": {
     "iopub.execute_input": "2021-08-11T18:55:23.900769Z",
     "iopub.status.busy": "2021-08-11T18:55:23.900088Z",
     "iopub.status.idle": "2021-08-11T18:55:23.912991Z",
     "shell.execute_reply": "2021-08-11T18:55:23.913509Z",
     "shell.execute_reply.started": "2021-08-11T18:16:54.671787Z"
    },
    "papermill": {
     "duration": 0.042228,
     "end_time": "2021-08-11T18:55:23.913696",
     "exception": false,
     "start_time": "2021-08-11T18:55:23.871468",
     "status": "completed"
    },
    "tags": []
   },
   "outputs": [
    {
     "data": {
      "application/javascript": [
       "parent.postMessage({\"jupyterEvent\": \"custom.exercise_interaction\", \"data\": {\"outcomeType\": 1, \"valueTowardsCompletion\": 0.25, \"interactionType\": 1, \"questionType\": 2, \"questionId\": \"3_CreateModel\", \"learnToolsVersion\": \"0.3.4\", \"failureMessage\": \"\", \"exceptionClass\": \"\", \"trace\": \"\"}}, \"*\")"
      ],
      "text/plain": [
       "<IPython.core.display.Javascript object>"
      ]
     },
     "metadata": {},
     "output_type": "display_data"
    },
    {
     "data": {
      "text/markdown": [
       "<span style=\"color:#33cc33\">Correct</span>"
      ],
      "text/plain": [
       "Correct"
      ]
     },
     "metadata": {},
     "output_type": "display_data"
    }
   ],
   "source": [
    "# from _ import _\n",
    "#specify the model. \n",
    "#For model reproducibility, set a numeric value for random_state when specifying the model\n",
    "from sklearn.tree import DecisionTreeRegressor\n",
    "iowa_model = DecisionTreeRegressor(random_state=1)\n",
    "iowa_model.fit(X, y)\n",
    "\n",
    "# Check your answer\n",
    "step_3.check()"
   ]
  },
  {
   "cell_type": "code",
   "execution_count": 9,
   "id": "ba75d991",
   "metadata": {
    "execution": {
     "iopub.execute_input": "2021-08-11T18:55:23.957167Z",
     "iopub.status.busy": "2021-08-11T18:55:23.956421Z",
     "iopub.status.idle": "2021-08-11T18:55:23.960143Z",
     "shell.execute_reply": "2021-08-11T18:55:23.960712Z",
     "shell.execute_reply.started": "2021-08-11T18:17:16.856633Z"
    },
    "papermill": {
     "duration": 0.027941,
     "end_time": "2021-08-11T18:55:23.960905",
     "exception": false,
     "start_time": "2021-08-11T18:55:23.932964",
     "status": "completed"
    },
    "tags": []
   },
   "outputs": [],
   "source": [
    "# step_3.hint()\n",
    "#step_3.solution()"
   ]
  },
  {
   "cell_type": "markdown",
   "id": "efcbb1da",
   "metadata": {
    "papermill": {
     "duration": 0.021213,
     "end_time": "2021-08-11T18:55:24.004223",
     "exception": false,
     "start_time": "2021-08-11T18:55:23.983010",
     "status": "completed"
    },
    "tags": []
   },
   "source": [
    "## Step 4: Make Predictions\n",
    "Make predictions with the model's `predict` command using `X` as the data. Save the results to a variable called `predictions`."
   ]
  },
  {
   "cell_type": "code",
   "execution_count": 10,
   "id": "fa1f68e6",
   "metadata": {
    "execution": {
     "iopub.execute_input": "2021-08-11T18:55:24.048337Z",
     "iopub.status.busy": "2021-08-11T18:55:24.047591Z",
     "iopub.status.idle": "2021-08-11T18:55:24.065984Z",
     "shell.execute_reply": "2021-08-11T18:55:24.066454Z",
     "shell.execute_reply.started": "2021-08-11T18:17:48.892251Z"
    },
    "papermill": {
     "duration": 0.042224,
     "end_time": "2021-08-11T18:55:24.066634",
     "exception": false,
     "start_time": "2021-08-11T18:55:24.024410",
     "status": "completed"
    },
    "tags": []
   },
   "outputs": [
    {
     "name": "stdout",
     "output_type": "stream",
     "text": [
      "   LotArea  YearBuilt  1stFlrSF  2ndFlrSF  FullBath  BedroomAbvGr  \\\n",
      "0     8450       2003       856       854         2             3   \n",
      "1     9600       1976      1262         0         2             3   \n",
      "2    11250       2001       920       866         2             3   \n",
      "3     9550       1915       961       756         1             3   \n",
      "4    14260       2000      1145      1053         2             4   \n",
      "\n",
      "   TotRmsAbvGrd  \n",
      "0             8  \n",
      "1             6  \n",
      "2             6  \n",
      "3             7  \n",
      "4             9  \n",
      "The predictions are\n",
      "[208500. 181500. 223500. ... 266500. 142125. 147500.]\n"
     ]
    },
    {
     "data": {
      "application/javascript": [
       "parent.postMessage({\"jupyterEvent\": \"custom.exercise_interaction\", \"data\": {\"outcomeType\": 1, \"valueTowardsCompletion\": 0.25, \"interactionType\": 1, \"questionType\": 2, \"questionId\": \"4_MakePredictions\", \"learnToolsVersion\": \"0.3.4\", \"failureMessage\": \"\", \"exceptionClass\": \"\", \"trace\": \"\"}}, \"*\")"
      ],
      "text/plain": [
       "<IPython.core.display.Javascript object>"
      ]
     },
     "metadata": {},
     "output_type": "display_data"
    },
    {
     "data": {
      "text/markdown": [
       "<span style=\"color:#33cc33\">Correct</span>"
      ],
      "text/plain": [
       "Correct"
      ]
     },
     "metadata": {},
     "output_type": "display_data"
    }
   ],
   "source": [
    "print(X.head())\n",
    "print(\"The predictions are\")\n",
    "predictions = iowa_model.predict(X)\n",
    "print(predictions)\n",
    "\n",
    "# Check your answer\n",
    "step_4.check()"
   ]
  },
  {
   "cell_type": "code",
   "execution_count": 11,
   "id": "c5f0923e",
   "metadata": {
    "collapsed": true,
    "execution": {
     "iopub.execute_input": "2021-08-11T18:55:24.113207Z",
     "iopub.status.busy": "2021-08-11T18:55:24.112488Z",
     "iopub.status.idle": "2021-08-11T18:55:24.116637Z",
     "shell.execute_reply": "2021-08-11T18:55:24.115991Z"
    },
    "jupyter": {
     "outputs_hidden": true
    },
    "papermill": {
     "duration": 0.028456,
     "end_time": "2021-08-11T18:55:24.116812",
     "exception": false,
     "start_time": "2021-08-11T18:55:24.088356",
     "status": "completed"
    },
    "tags": []
   },
   "outputs": [],
   "source": [
    "# step_4.hint()\n",
    "# step_4.solution()"
   ]
  },
  {
   "cell_type": "markdown",
   "id": "bc88bf73",
   "metadata": {
    "papermill": {
     "duration": 0.020695,
     "end_time": "2021-08-11T18:55:24.158657",
     "exception": false,
     "start_time": "2021-08-11T18:55:24.137962",
     "status": "completed"
    },
    "tags": []
   },
   "source": [
    "## Think About Your Results\n",
    "\n",
    "Use the `head` method to compare the top few predictions to the actual home values (in `y`) for those same homes. Anything surprising?\n"
   ]
  },
  {
   "cell_type": "code",
   "execution_count": 12,
   "id": "2610282b",
   "metadata": {
    "execution": {
     "iopub.execute_input": "2021-08-11T18:55:24.206664Z",
     "iopub.status.busy": "2021-08-11T18:55:24.205557Z",
     "iopub.status.idle": "2021-08-11T18:55:24.239520Z",
     "shell.execute_reply": "2021-08-11T18:55:24.240006Z",
     "shell.execute_reply.started": "2021-08-11T18:54:51.538205Z"
    },
    "papermill": {
     "duration": 0.060519,
     "end_time": "2021-08-11T18:55:24.240182",
     "exception": false,
     "start_time": "2021-08-11T18:55:24.179663",
     "status": "completed"
    },
    "tags": []
   },
   "outputs": [
    {
     "name": "stdout",
     "output_type": "stream",
     "text": [
      "0    208500\n",
      "1    181500\n",
      "2    223500\n",
      "3    140000\n",
      "4    250000\n",
      "Name: SalePrice, dtype: int64\n"
     ]
    }
   ],
   "source": [
    "import pandas as pd\n",
    "\n",
    "# Path of the file to read\n",
    "iowa_file_path = '../input/home-data-for-ml-course/train.csv'\n",
    "\n",
    "# You can write code in this cell\n",
    "home_data = pd.read_csv(iowa_file_path)\n",
    "y = home_data.SalePrice\n",
    "print(y.head())\n"
   ]
  },
  {
   "cell_type": "markdown",
   "id": "948afa7a",
   "metadata": {
    "papermill": {
     "duration": 0.020849,
     "end_time": "2021-08-11T18:55:24.283494",
     "exception": false,
     "start_time": "2021-08-11T18:55:24.262645",
     "status": "completed"
    },
    "tags": []
   },
   "source": [
    "It's natural to ask how accurate the model's predictions will be and how you can improve that. That will be you're next step.\n",
    "\n",
    "# Keep Going\n",
    "\n",
    "You are ready for **[Model Validation](https://www.kaggle.com/dansbecker/model-validation).**\n"
   ]
  },
  {
   "cell_type": "markdown",
   "id": "1b4e0a0c",
   "metadata": {
    "papermill": {
     "duration": 0.020934,
     "end_time": "2021-08-11T18:55:24.325879",
     "exception": false,
     "start_time": "2021-08-11T18:55:24.304945",
     "status": "completed"
    },
    "tags": []
   },
   "source": [
    "---\n",
    "\n",
    "\n",
    "\n",
    "\n",
    "*Have questions or comments? Visit the [Learn Discussion forum](https://www.kaggle.com/learn-forum/161285) to chat with other Learners.*"
   ]
  }
 ],
 "metadata": {
  "kernelspec": {
   "display_name": "Python 3",
   "language": "python",
   "name": "python3"
  },
  "language_info": {
   "codemirror_mode": {
    "name": "ipython",
    "version": 3
   },
   "file_extension": ".py",
   "mimetype": "text/x-python",
   "name": "python",
   "nbconvert_exporter": "python",
   "pygments_lexer": "ipython3",
   "version": "3.7.10"
  },
  "papermill": {
   "default_parameters": {},
   "duration": 12.895938,
   "end_time": "2021-08-11T18:55:25.897125",
   "environment_variables": {},
   "exception": null,
   "input_path": "__notebook__.ipynb",
   "output_path": "__notebook__.ipynb",
   "parameters": {},
   "start_time": "2021-08-11T18:55:13.001187",
   "version": "2.3.3"
  }
 },
 "nbformat": 4,
 "nbformat_minor": 5
}
