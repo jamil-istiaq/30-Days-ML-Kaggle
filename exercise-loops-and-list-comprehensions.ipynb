{
 "cells": [
  {
   "cell_type": "markdown",
   "id": "04542715",
   "metadata": {
    "papermill": {
     "duration": 0.017204,
     "end_time": "2021-08-07T06:31:25.985084",
     "exception": false,
     "start_time": "2021-08-07T06:31:25.967880",
     "status": "completed"
    },
    "tags": []
   },
   "source": [
    "**This notebook is an exercise in the [Python](https://www.kaggle.com/learn/python) course.  You can reference the tutorial at [this link](https://www.kaggle.com/colinmorris/loops-and-list-comprehensions).**\n",
    "\n",
    "---\n"
   ]
  },
  {
   "cell_type": "markdown",
   "id": "b9a7c3b4",
   "metadata": {
    "papermill": {
     "duration": 0.016206,
     "end_time": "2021-08-07T06:31:26.020408",
     "exception": false,
     "start_time": "2021-08-07T06:31:26.004202",
     "status": "completed"
    },
    "tags": []
   },
   "source": [
    "With all you've learned, you can start writing much more interesting programs. See if you can solve the problems below.\n",
    "\n",
    "As always, run the setup code below before working on the questions."
   ]
  },
  {
   "cell_type": "code",
   "execution_count": 1,
   "id": "531a46a0",
   "metadata": {
    "execution": {
     "iopub.execute_input": "2021-08-07T06:31:26.057194Z",
     "iopub.status.busy": "2021-08-07T06:31:26.055969Z",
     "iopub.status.idle": "2021-08-07T06:31:26.201989Z",
     "shell.execute_reply": "2021-08-07T06:31:26.201248Z",
     "shell.execute_reply.started": "2021-08-07T06:03:11.191344Z"
    },
    "papermill": {
     "duration": 0.165399,
     "end_time": "2021-08-07T06:31:26.202155",
     "exception": false,
     "start_time": "2021-08-07T06:31:26.036756",
     "status": "completed"
    },
    "tags": []
   },
   "outputs": [
    {
     "name": "stdout",
     "output_type": "stream",
     "text": [
      "Setup complete.\n"
     ]
    }
   ],
   "source": [
    "from learntools.core import binder; binder.bind(globals())\n",
    "from learntools.python.ex5 import *\n",
    "print('Setup complete.')"
   ]
  },
  {
   "cell_type": "markdown",
   "id": "ae196f1c",
   "metadata": {
    "papermill": {
     "duration": 0.016506,
     "end_time": "2021-08-07T06:31:26.235751",
     "exception": false,
     "start_time": "2021-08-07T06:31:26.219245",
     "status": "completed"
    },
    "tags": []
   },
   "source": [
    "# 1.\n",
    "\n",
    "Have you ever felt debugging involved a bit of luck? The following program has a bug. Try to identify the bug and fix it."
   ]
  },
  {
   "cell_type": "code",
   "execution_count": 2,
   "id": "4a7d5f94",
   "metadata": {
    "execution": {
     "iopub.execute_input": "2021-08-07T06:31:26.279521Z",
     "iopub.status.busy": "2021-08-07T06:31:26.278420Z",
     "iopub.status.idle": "2021-08-07T06:31:26.281320Z",
     "shell.execute_reply": "2021-08-07T06:31:26.281926Z",
     "shell.execute_reply.started": "2021-08-07T06:04:24.497437Z"
    },
    "papermill": {
     "duration": 0.029497,
     "end_time": "2021-08-07T06:31:26.282114",
     "exception": false,
     "start_time": "2021-08-07T06:31:26.252617",
     "status": "completed"
    },
    "tags": []
   },
   "outputs": [],
   "source": [
    "def has_lucky_number(nums):\n",
    "    \"\"\"Return whether the given list of numbers is lucky. A lucky list contains\n",
    "    at least one number divisible by 7.\n",
    "    \"\"\"\n",
    "    for num in nums:\n",
    "        if num % 7 == 0:\n",
    "            return True\n",
    "        else:\n",
    "            return False"
   ]
  },
  {
   "cell_type": "markdown",
   "id": "29a8cef4",
   "metadata": {
    "papermill": {
     "duration": 0.019051,
     "end_time": "2021-08-07T06:31:26.320453",
     "exception": false,
     "start_time": "2021-08-07T06:31:26.301402",
     "status": "completed"
    },
    "tags": []
   },
   "source": [
    "Try to identify the bug and fix it in the cell below:"
   ]
  },
  {
   "cell_type": "code",
   "execution_count": 3,
   "id": "6719500f",
   "metadata": {
    "execution": {
     "iopub.execute_input": "2021-08-07T06:31:26.366249Z",
     "iopub.status.busy": "2021-08-07T06:31:26.365290Z",
     "iopub.status.idle": "2021-08-07T06:31:26.380847Z",
     "shell.execute_reply": "2021-08-07T06:31:26.380304Z",
     "shell.execute_reply.started": "2021-08-07T06:09:00.979075Z"
    },
    "papermill": {
     "duration": 0.037161,
     "end_time": "2021-08-07T06:31:26.380991",
     "exception": false,
     "start_time": "2021-08-07T06:31:26.343830",
     "status": "completed"
    },
    "tags": []
   },
   "outputs": [
    {
     "data": {
      "application/javascript": [
       "parent.postMessage({\"jupyterEvent\": \"custom.exercise_interaction\", \"data\": {\"outcomeType\": 1, \"valueTowardsCompletion\": 0.25, \"interactionType\": 1, \"questionType\": 2, \"questionId\": \"1_EarlyExitDebugging\", \"learnToolsVersion\": \"0.3.4\", \"failureMessage\": \"\", \"exceptionClass\": \"\", \"trace\": \"\"}}, \"*\")"
      ],
      "text/plain": [
       "<IPython.core.display.Javascript object>"
      ]
     },
     "metadata": {},
     "output_type": "display_data"
    },
    {
     "data": {
      "text/markdown": [
       "<span style=\"color:#33cc33\">Correct:</span> \n",
       "\n",
       "Remember that `return` causes a function to exit immediately. So our original implementation always ran for just one iteration. We can only return `False` if we've looked at every element of the list (and confirmed that none of them are lucky). Though we can return early if the answer is `True`:\n",
       "\n",
       "```python\n",
       "def has_lucky_number(nums):\n",
       "    for num in nums:\n",
       "        if num % 7 == 0:\n",
       "            return True\n",
       "    # We've exhausted the list without finding a lucky number\n",
       "    return False\n",
       "```\n",
       "\n",
       "Here's a one-line version using a list comprehension with Python's `any` function (you can read about what it does by calling `help(any)`):\n",
       "\n",
       "```python\n",
       "def has_lucky_number(nums):\n",
       "    return any([num % 7 == 0 for num in nums])\n",
       "```\n"
      ],
      "text/plain": [
       "Correct: \n",
       "\n",
       "Remember that `return` causes a function to exit immediately. So our original implementation always ran for just one iteration. We can only return `False` if we've looked at every element of the list (and confirmed that none of them are lucky). Though we can return early if the answer is `True`:\n",
       "\n",
       "```python\n",
       "def has_lucky_number(nums):\n",
       "    for num in nums:\n",
       "        if num % 7 == 0:\n",
       "            return True\n",
       "    # We've exhausted the list without finding a lucky number\n",
       "    return False\n",
       "```\n",
       "\n",
       "Here's a one-line version using a list comprehension with Python's `any` function (you can read about what it does by calling `help(any)`):\n",
       "\n",
       "```python\n",
       "def has_lucky_number(nums):\n",
       "    return any([num % 7 == 0 for num in nums])\n",
       "```"
      ]
     },
     "metadata": {},
     "output_type": "display_data"
    }
   ],
   "source": [
    "def has_lucky_number(nums):\n",
    "    \"\"\"Return whether the given list of numbers is lucky. A lucky list contains\n",
    "    at least one number divisible by 7.\n",
    "    \"\"\"\n",
    "    for num in nums:\n",
    "        if num % 7 == 0:\n",
    "            return True\n",
    "       \n",
    "    return False\n",
    "\n",
    "# Check your answer\n",
    "q1.check()"
   ]
  },
  {
   "cell_type": "code",
   "execution_count": 4,
   "id": "f045a1eb",
   "metadata": {
    "execution": {
     "iopub.execute_input": "2021-08-07T06:31:26.421202Z",
     "iopub.status.busy": "2021-08-07T06:31:26.420446Z",
     "iopub.status.idle": "2021-08-07T06:31:26.423624Z",
     "shell.execute_reply": "2021-08-07T06:31:26.423042Z",
     "shell.execute_reply.started": "2021-08-07T06:07:58.650692Z"
    },
    "papermill": {
     "duration": 0.024876,
     "end_time": "2021-08-07T06:31:26.423763",
     "exception": false,
     "start_time": "2021-08-07T06:31:26.398887",
     "status": "completed"
    },
    "tags": []
   },
   "outputs": [],
   "source": [
    "#q1.hint()\n",
    "#q1.solution()"
   ]
  },
  {
   "cell_type": "markdown",
   "id": "33b1668a",
   "metadata": {
    "papermill": {
     "duration": 0.01723,
     "end_time": "2021-08-07T06:31:26.458774",
     "exception": false,
     "start_time": "2021-08-07T06:31:26.441544",
     "status": "completed"
    },
    "tags": []
   },
   "source": [
    "# 2.\n",
    "Look at the Python expression below. What do you think we'll get when we run it? When you've made your prediction, uncomment the code and run the cell to see if you were right."
   ]
  },
  {
   "cell_type": "code",
   "execution_count": 5,
   "id": "f7cecf3a",
   "metadata": {
    "execution": {
     "iopub.execute_input": "2021-08-07T06:31:26.498805Z",
     "iopub.status.busy": "2021-08-07T06:31:26.498125Z",
     "iopub.status.idle": "2021-08-07T06:31:26.501409Z",
     "shell.execute_reply": "2021-08-07T06:31:26.500837Z"
    },
    "papermill": {
     "duration": 0.025202,
     "end_time": "2021-08-07T06:31:26.501558",
     "exception": false,
     "start_time": "2021-08-07T06:31:26.476356",
     "status": "completed"
    },
    "tags": []
   },
   "outputs": [],
   "source": [
    "#[1, 2, 3, 4] > 2"
   ]
  },
  {
   "cell_type": "markdown",
   "id": "a5266b78",
   "metadata": {
    "papermill": {
     "duration": 0.017676,
     "end_time": "2021-08-07T06:31:26.537266",
     "exception": false,
     "start_time": "2021-08-07T06:31:26.519590",
     "status": "completed"
    },
    "tags": []
   },
   "source": [
    "R and Python have some libraries (like numpy and pandas) compare each element of the list to 2 (i.e. do an 'element-wise' comparison) and give us a list of booleans like `[False, False, True, True]`. \n",
    "\n",
    "Implement a function that reproduces this behaviour, returning a list of booleans corresponding to whether the corresponding element is greater than n."
   ]
  },
  {
   "cell_type": "code",
   "execution_count": 6,
   "id": "bb3d3de7",
   "metadata": {
    "execution": {
     "iopub.execute_input": "2021-08-07T06:31:26.580629Z",
     "iopub.status.busy": "2021-08-07T06:31:26.579564Z",
     "iopub.status.idle": "2021-08-07T06:31:26.586825Z",
     "shell.execute_reply": "2021-08-07T06:31:26.586135Z",
     "shell.execute_reply.started": "2021-08-07T06:16:56.988774Z"
    },
    "papermill": {
     "duration": 0.031771,
     "end_time": "2021-08-07T06:31:26.586968",
     "exception": false,
     "start_time": "2021-08-07T06:31:26.555197",
     "status": "completed"
    },
    "tags": []
   },
   "outputs": [
    {
     "data": {
      "application/javascript": [
       "parent.postMessage({\"jupyterEvent\": \"custom.exercise_interaction\", \"data\": {\"outcomeType\": 1, \"valueTowardsCompletion\": 0.25, \"interactionType\": 1, \"questionType\": 2, \"questionId\": \"2_ElementWiseComparison\", \"learnToolsVersion\": \"0.3.4\", \"failureMessage\": \"\", \"exceptionClass\": \"\", \"trace\": \"\"}}, \"*\")"
      ],
      "text/plain": [
       "<IPython.core.display.Javascript object>"
      ]
     },
     "metadata": {},
     "output_type": "display_data"
    },
    {
     "data": {
      "text/markdown": [
       "<span style=\"color:#33cc33\">Correct:</span> \n",
       "\n",
       "Here's one solution:\n",
       "```python\n",
       "def elementwise_greater_than(L, thresh):\n",
       "    res = []\n",
       "    for ele in L:\n",
       "        res.append(ele > thresh)\n",
       "    return res\n",
       "```\n",
       "\n",
       "And here's the list comprehension version:\n",
       "```python\n",
       "def elementwise_greater_than(L, thresh):\n",
       "    return [ele > thresh for ele in L]\n",
       "```\n"
      ],
      "text/plain": [
       "Correct: \n",
       "\n",
       "Here's one solution:\n",
       "```python\n",
       "def elementwise_greater_than(L, thresh):\n",
       "    res = []\n",
       "    for ele in L:\n",
       "        res.append(ele > thresh)\n",
       "    return res\n",
       "```\n",
       "\n",
       "And here's the list comprehension version:\n",
       "```python\n",
       "def elementwise_greater_than(L, thresh):\n",
       "    return [ele > thresh for ele in L]\n",
       "```"
      ]
     },
     "metadata": {},
     "output_type": "display_data"
    }
   ],
   "source": [
    "def elementwise_greater_than(L, thresh):\n",
    "    \"\"\"Return a list with the same length as L, where the value at index i is \n",
    "    True if L[i] is greater than thresh, and False otherwise.\n",
    "    \n",
    "    >>> elementwise_greater_than([1, 2, 3, 4], 2)\n",
    "    [False, False, True, True]\n",
    "    \"\"\"\n",
    "    bal = []\n",
    "    for bal1 in L:\n",
    "        bal.append(bal1 > thresh)\n",
    "    return bal\n",
    "\n",
    "# Check your answer\n",
    "q2.check()"
   ]
  },
  {
   "cell_type": "code",
   "execution_count": 7,
   "id": "e019b2c4",
   "metadata": {
    "execution": {
     "iopub.execute_input": "2021-08-07T06:31:26.629416Z",
     "iopub.status.busy": "2021-08-07T06:31:26.628733Z",
     "iopub.status.idle": "2021-08-07T06:31:26.631983Z",
     "shell.execute_reply": "2021-08-07T06:31:26.631474Z",
     "shell.execute_reply.started": "2021-08-07T06:15:33.530472Z"
    },
    "papermill": {
     "duration": 0.026143,
     "end_time": "2021-08-07T06:31:26.632126",
     "exception": false,
     "start_time": "2021-08-07T06:31:26.605983",
     "status": "completed"
    },
    "tags": []
   },
   "outputs": [],
   "source": [
    "#q2.solution()"
   ]
  },
  {
   "cell_type": "markdown",
   "id": "5a98c26a",
   "metadata": {
    "papermill": {
     "duration": 0.01854,
     "end_time": "2021-08-07T06:31:26.669775",
     "exception": false,
     "start_time": "2021-08-07T06:31:26.651235",
     "status": "completed"
    },
    "tags": []
   },
   "source": [
    "# 3.\n",
    "\n",
    "Complete the body of the function below according to its docstring."
   ]
  },
  {
   "cell_type": "code",
   "execution_count": 8,
   "id": "b7bee24c",
   "metadata": {
    "execution": {
     "iopub.execute_input": "2021-08-07T06:31:26.714942Z",
     "iopub.status.busy": "2021-08-07T06:31:26.713929Z",
     "iopub.status.idle": "2021-08-07T06:31:26.720297Z",
     "shell.execute_reply": "2021-08-07T06:31:26.719684Z",
     "shell.execute_reply.started": "2021-08-07T06:27:21.371411Z"
    },
    "papermill": {
     "duration": 0.031758,
     "end_time": "2021-08-07T06:31:26.720505",
     "exception": false,
     "start_time": "2021-08-07T06:31:26.688747",
     "status": "completed"
    },
    "tags": []
   },
   "outputs": [
    {
     "data": {
      "application/javascript": [
       "parent.postMessage({\"jupyterEvent\": \"custom.exercise_interaction\", \"data\": {\"outcomeType\": 1, \"valueTowardsCompletion\": 0.25, \"interactionType\": 1, \"questionType\": 2, \"questionId\": \"3_BoringMenu\", \"learnToolsVersion\": \"0.3.4\", \"failureMessage\": \"\", \"exceptionClass\": \"\", \"trace\": \"\"}}, \"*\")"
      ],
      "text/plain": [
       "<IPython.core.display.Javascript object>"
      ]
     },
     "metadata": {},
     "output_type": "display_data"
    },
    {
     "data": {
      "text/markdown": [
       "<span style=\"color:#33cc33\">Correct:</span> \n",
       "\n",
       "\n",
       "\n",
       "```python\n",
       "def menu_is_boring(meals):\n",
       "    # Iterate over all indices of the list, except the last one\n",
       "    for i in range(len(meals)-1):\n",
       "        if meals[i] == meals[i+1]:\n",
       "            return True\n",
       "    return False\n",
       "```\n",
       "\n",
       "The key to our solution is the call to `range`. `range(len(meals))` would give us all the indices of `meals`. If we had used that range, the last iteration of the loop would be comparing the last element to the element after it, which is... `IndexError`! `range(len(meals)-1)` gives us all the indices except the index of the last element.\n",
       "\n",
       "But don't we need to check if `meals` is empty? Turns out that `range(0) == range(-1)` - they're both empty. So if `meals` has length 0 or 1, we just won't do any iterations of our for loop.\n"
      ],
      "text/plain": [
       "Correct: \n",
       "\n",
       "\n",
       "\n",
       "```python\n",
       "def menu_is_boring(meals):\n",
       "    # Iterate over all indices of the list, except the last one\n",
       "    for i in range(len(meals)-1):\n",
       "        if meals[i] == meals[i+1]:\n",
       "            return True\n",
       "    return False\n",
       "```\n",
       "\n",
       "The key to our solution is the call to `range`. `range(len(meals))` would give us all the indices of `meals`. If we had used that range, the last iteration of the loop would be comparing the last element to the element after it, which is... `IndexError`! `range(len(meals)-1)` gives us all the indices except the index of the last element.\n",
       "\n",
       "But don't we need to check if `meals` is empty? Turns out that `range(0) == range(-1)` - they're both empty. So if `meals` has length 0 or 1, we just won't do any iterations of our for loop."
      ]
     },
     "metadata": {},
     "output_type": "display_data"
    }
   ],
   "source": [
    "def menu_is_boring(meals):\n",
    "    \"\"\"Given a list of meals served over some period of time, return True if the\n",
    "    same meal has ever been served two days in a row, and False otherwise.\n",
    "    \"\"\"\n",
    "    for k in range(len(meals)-1):\n",
    "        if meals[k] == meals[k+1]:\n",
    "            return True\n",
    "    return False\n",
    "    \n",
    "\n",
    "# Check your answer\n",
    "q3.check()"
   ]
  },
  {
   "cell_type": "code",
   "execution_count": 9,
   "id": "4e05ee86",
   "metadata": {
    "execution": {
     "iopub.execute_input": "2021-08-07T06:31:26.764874Z",
     "iopub.status.busy": "2021-08-07T06:31:26.764196Z",
     "iopub.status.idle": "2021-08-07T06:31:26.766973Z",
     "shell.execute_reply": "2021-08-07T06:31:26.767452Z",
     "shell.execute_reply.started": "2021-08-07T06:27:18.098225Z"
    },
    "papermill": {
     "duration": 0.027084,
     "end_time": "2021-08-07T06:31:26.767629",
     "exception": false,
     "start_time": "2021-08-07T06:31:26.740545",
     "status": "completed"
    },
    "tags": []
   },
   "outputs": [],
   "source": [
    "#q3.hint()\n",
    "#q3.solution()"
   ]
  },
  {
   "cell_type": "markdown",
   "id": "d673ee54",
   "metadata": {
    "papermill": {
     "duration": 0.019437,
     "end_time": "2021-08-07T06:31:26.807016",
     "exception": false,
     "start_time": "2021-08-07T06:31:26.787579",
     "status": "completed"
    },
    "tags": []
   },
   "source": [
    "# 4. <span title=\"A bit spicy\" style=\"color: darkgreen \">🌶️</span>\n",
    "\n",
    "Next to the Blackjack table, the Python Challenge Casino has a slot machine. You can get a result from the slot machine by calling `play_slot_machine()`. The number it returns is your winnings in dollars. Usually it returns 0.  But sometimes you'll get lucky and get a big payday. Try running it below:"
   ]
  },
  {
   "cell_type": "code",
   "execution_count": 10,
   "id": "cd9268b1",
   "metadata": {
    "execution": {
     "iopub.execute_input": "2021-08-07T06:31:26.852748Z",
     "iopub.status.busy": "2021-08-07T06:31:26.851837Z",
     "iopub.status.idle": "2021-08-07T06:31:26.856786Z",
     "shell.execute_reply": "2021-08-07T06:31:26.856147Z",
     "shell.execute_reply.started": "2021-08-07T06:30:58.938725Z"
    },
    "papermill": {
     "duration": 0.029568,
     "end_time": "2021-08-07T06:31:26.856925",
     "exception": false,
     "start_time": "2021-08-07T06:31:26.827357",
     "status": "completed"
    },
    "tags": []
   },
   "outputs": [
    {
     "data": {
      "text/plain": [
       "0"
      ]
     },
     "execution_count": 10,
     "metadata": {},
     "output_type": "execute_result"
    }
   ],
   "source": [
    "play_slot_machine()"
   ]
  },
  {
   "cell_type": "markdown",
   "id": "fa1dbf32",
   "metadata": {
    "papermill": {
     "duration": 0.019954,
     "end_time": "2021-08-07T06:31:26.897010",
     "exception": false,
     "start_time": "2021-08-07T06:31:26.877056",
     "status": "completed"
    },
    "tags": []
   },
   "source": [
    "By the way, did we mention that each play costs $1? Don't worry, we'll send you the bill later.\n",
    "\n",
    "On average, how much money can you expect to gain (or lose) every time you play the machine?  The casino keeps it a secret, but you can estimate the average value of each pull using a technique called the **Monte Carlo method**. To estimate the average outcome, we simulate the scenario many times, and return the average result.\n",
    "\n",
    "Complete the following function to calculate the average value per play of the slot machine."
   ]
  },
  {
   "cell_type": "code",
   "execution_count": 11,
   "id": "cd4d3d3f",
   "metadata": {
    "execution": {
     "iopub.execute_input": "2021-08-07T06:31:26.943501Z",
     "iopub.status.busy": "2021-08-07T06:31:26.942792Z",
     "iopub.status.idle": "2021-08-07T06:31:26.946235Z",
     "shell.execute_reply": "2021-08-07T06:31:26.945657Z",
     "shell.execute_reply.started": "2021-08-07T06:30:53.691725Z"
    },
    "papermill": {
     "duration": 0.028384,
     "end_time": "2021-08-07T06:31:26.946399",
     "exception": false,
     "start_time": "2021-08-07T06:31:26.918015",
     "status": "completed"
    },
    "tags": []
   },
   "outputs": [],
   "source": [
    "def estimate_average_slot_payout(n_runs):\n",
    "    \"\"\"Run the slot machine n_runs times and return the average net profit per run.\n",
    "    Example calls (note that return value is nondeterministic!):\n",
    "    >>> estimate_average_slot_payout(1)\n",
    "    -1\n",
    "    >>> estimate_average_slot_payout(1)\n",
    "    0.5\n",
    "    \"\"\"\n",
    "    z=n_runs/2\n",
    "    return z"
   ]
  },
  {
   "cell_type": "markdown",
   "id": "e9edb560",
   "metadata": {
    "papermill": {
     "duration": 0.020046,
     "end_time": "2021-08-07T06:31:26.987136",
     "exception": false,
     "start_time": "2021-08-07T06:31:26.967090",
     "status": "completed"
    },
    "tags": []
   },
   "source": [
    "When you think you know the expected value per spin, run the code cell below to view the solution and get credit for answering the question."
   ]
  },
  {
   "cell_type": "code",
   "execution_count": 12,
   "id": "4b628ec9",
   "metadata": {
    "execution": {
     "iopub.execute_input": "2021-08-07T06:31:27.034107Z",
     "iopub.status.busy": "2021-08-07T06:31:27.033093Z",
     "iopub.status.idle": "2021-08-07T06:31:27.040174Z",
     "shell.execute_reply": "2021-08-07T06:31:27.039601Z",
     "shell.execute_reply.started": "2021-08-07T06:29:57.784990Z"
    },
    "papermill": {
     "duration": 0.032913,
     "end_time": "2021-08-07T06:31:27.040315",
     "exception": false,
     "start_time": "2021-08-07T06:31:27.007402",
     "status": "completed"
    },
    "tags": []
   },
   "outputs": [
    {
     "data": {
      "application/javascript": [
       "parent.postMessage({\"jupyterEvent\": \"custom.exercise_interaction\", \"data\": {\"interactionType\": 3, \"questionType\": 4, \"questionId\": \"4_ExpectedSlotsPayout\", \"learnToolsVersion\": \"0.3.4\", \"valueTowardsCompletion\": 0.0, \"failureMessage\": \"\", \"exceptionClass\": \"\", \"trace\": \"\", \"outcomeType\": 4}}, \"*\")"
      ],
      "text/plain": [
       "<IPython.core.display.Javascript object>"
      ]
     },
     "metadata": {},
     "output_type": "display_data"
    },
    {
     "data": {
      "text/markdown": [
       "<span style=\"color:#33cc99\">Solution:</span> The exact expected value of one pull of the slot machine is 0.025 - i.e. a little more than 2 cents. See? Not every game in the Python Challenge Casino is rigged against the player!\n",
       "\n",
       "Because of the high variance of the outcome (there are some very rare high payout results that significantly affect the average) you might need to run your function with a very high value of `n_runs` to get a stable answer close to the true expectation.\n",
       "\n",
       "If your answer is way higher than 0.025, then maybe you forgot to account for the $1 cost per play?"
      ],
      "text/plain": [
       "Solution: The exact expected value of one pull of the slot machine is 0.025 - i.e. a little more than 2 cents. See? Not every game in the Python Challenge Casino is rigged against the player!\n",
       "\n",
       "Because of the high variance of the outcome (there are some very rare high payout results that significantly affect the average) you might need to run your function with a very high value of `n_runs` to get a stable answer close to the true expectation.\n",
       "\n",
       "If your answer is way higher than 0.025, then maybe you forgot to account for the $1 cost per play?"
      ]
     },
     "metadata": {},
     "output_type": "display_data"
    }
   ],
   "source": [
    "# Check your answer (Run this code cell to receive credit!)\n",
    "q4.solution()"
   ]
  },
  {
   "cell_type": "markdown",
   "id": "e94b49d2",
   "metadata": {
    "papermill": {
     "duration": 0.021615,
     "end_time": "2021-08-07T06:31:27.084426",
     "exception": false,
     "start_time": "2021-08-07T06:31:27.062811",
     "status": "completed"
    },
    "tags": []
   },
   "source": [
    "# Keep Going\n",
    "\n",
    "Many programmers report that dictionaries are their favorite data structure. You'll get to **[learn about them](https://www.kaggle.com/colinmorris/strings-and-dictionaries)** (as well as strings) in the next lesson."
   ]
  },
  {
   "cell_type": "markdown",
   "id": "8c74cd84",
   "metadata": {
    "papermill": {
     "duration": 0.021016,
     "end_time": "2021-08-07T06:31:27.126858",
     "exception": false,
     "start_time": "2021-08-07T06:31:27.105842",
     "status": "completed"
    },
    "tags": []
   },
   "source": [
    "---\n",
    "\n",
    "\n",
    "\n",
    "\n",
    "*Have questions or comments? Visit the [Learn Discussion forum](https://www.kaggle.com/learn-forum/161283) to chat with other Learners.*"
   ]
  }
 ],
 "metadata": {
  "kernelspec": {
   "display_name": "Python 3",
   "language": "python",
   "name": "python3"
  },
  "language_info": {
   "codemirror_mode": {
    "name": "ipython",
    "version": 3
   },
   "file_extension": ".py",
   "mimetype": "text/x-python",
   "name": "python",
   "nbconvert_exporter": "python",
   "pygments_lexer": "ipython3",
   "version": "3.7.10"
  },
  "papermill": {
   "default_parameters": {},
   "duration": 10.295591,
   "end_time": "2021-08-07T06:31:27.758097",
   "environment_variables": {},
   "exception": null,
   "input_path": "__notebook__.ipynb",
   "output_path": "__notebook__.ipynb",
   "parameters": {},
   "start_time": "2021-08-07T06:31:17.462506",
   "version": "2.3.3"
  }
 },
 "nbformat": 4,
 "nbformat_minor": 5
}
