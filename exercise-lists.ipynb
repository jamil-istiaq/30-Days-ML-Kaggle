{
 "cells": [
  {
   "cell_type": "markdown",
   "id": "ff12c30d",
   "metadata": {
    "papermill": {
     "duration": 0.011723,
     "end_time": "2021-08-07T05:49:55.224213",
     "exception": false,
     "start_time": "2021-08-07T05:49:55.212490",
     "status": "completed"
    },
    "tags": []
   },
   "source": [
    "**This notebook is an exercise in the [Python](https://www.kaggle.com/learn/python) course.  You can reference the tutorial at [this link](https://www.kaggle.com/colinmorris/lists).**\n",
    "\n",
    "---\n"
   ]
  },
  {
   "cell_type": "markdown",
   "id": "bf4d7b0b",
   "metadata": {
    "papermill": {
     "duration": 0.010892,
     "end_time": "2021-08-07T05:49:55.246268",
     "exception": false,
     "start_time": "2021-08-07T05:49:55.235376",
     "status": "completed"
    },
    "tags": []
   },
   "source": [
    "Things get more interesting with lists. You'll apply your new knowledge to solve the questions below. Remember to run the following cell first."
   ]
  },
  {
   "cell_type": "code",
   "execution_count": 1,
   "id": "ce7dcd4a",
   "metadata": {
    "execution": {
     "iopub.execute_input": "2021-08-07T05:49:55.277027Z",
     "iopub.status.busy": "2021-08-07T05:49:55.276331Z",
     "iopub.status.idle": "2021-08-07T05:49:55.397926Z",
     "shell.execute_reply": "2021-08-07T05:49:55.398425Z",
     "shell.execute_reply.started": "2021-08-07T05:11:16.306885Z"
    },
    "papermill": {
     "duration": 0.141656,
     "end_time": "2021-08-07T05:49:55.398710",
     "exception": false,
     "start_time": "2021-08-07T05:49:55.257054",
     "status": "completed"
    },
    "tags": []
   },
   "outputs": [
    {
     "name": "stdout",
     "output_type": "stream",
     "text": [
      "Setup complete.\n"
     ]
    }
   ],
   "source": [
    "from learntools.core import binder; binder.bind(globals())\n",
    "from learntools.python.ex4 import *\n",
    "print('Setup complete.')"
   ]
  },
  {
   "cell_type": "markdown",
   "id": "cbf24846",
   "metadata": {
    "papermill": {
     "duration": 0.016041,
     "end_time": "2021-08-07T05:49:55.431718",
     "exception": false,
     "start_time": "2021-08-07T05:49:55.415677",
     "status": "completed"
    },
    "tags": []
   },
   "source": [
    "# 1.\n",
    "\n",
    "Complete the function below according to its docstring."
   ]
  },
  {
   "cell_type": "code",
   "execution_count": 2,
   "id": "e4120166",
   "metadata": {
    "execution": {
     "iopub.execute_input": "2021-08-07T05:49:55.468968Z",
     "iopub.status.busy": "2021-08-07T05:49:55.468119Z",
     "iopub.status.idle": "2021-08-07T05:49:55.476604Z",
     "shell.execute_reply": "2021-08-07T05:49:55.477042Z",
     "shell.execute_reply.started": "2021-08-07T05:17:00.06485Z"
    },
    "papermill": {
     "duration": 0.029271,
     "end_time": "2021-08-07T05:49:55.477196",
     "exception": false,
     "start_time": "2021-08-07T05:49:55.447925",
     "status": "completed"
    },
    "tags": []
   },
   "outputs": [
    {
     "data": {
      "application/javascript": [
       "parent.postMessage({\"jupyterEvent\": \"custom.exercise_interaction\", \"data\": {\"outcomeType\": 1, \"valueTowardsCompletion\": 0.2, \"interactionType\": 1, \"questionType\": 2, \"questionId\": \"1_SelectSecondItem\", \"learnToolsVersion\": \"0.3.4\", \"failureMessage\": \"\", \"exceptionClass\": \"\", \"trace\": \"\"}}, \"*\")"
      ],
      "text/plain": [
       "<IPython.core.display.Javascript object>"
      ]
     },
     "metadata": {},
     "output_type": "display_data"
    },
    {
     "data": {
      "text/markdown": [
       "<span style=\"color:#33cc33\">Correct</span>"
      ],
      "text/plain": [
       "Correct"
      ]
     },
     "metadata": {},
     "output_type": "display_data"
    }
   ],
   "source": [
    "def select_second(L):\n",
    "    \"\"\"Return the second element of the given list. If the list has no second\n",
    "    element, return None.\n",
    "    \"\"\"\n",
    "    if len(L)<2:\n",
    "        return None\n",
    "    return L[1]\n",
    "\n",
    "# Check your answer\n",
    "q1.check()"
   ]
  },
  {
   "cell_type": "code",
   "execution_count": 3,
   "id": "1486dc05",
   "metadata": {
    "execution": {
     "iopub.execute_input": "2021-08-07T05:49:55.516626Z",
     "iopub.status.busy": "2021-08-07T05:49:55.515940Z",
     "iopub.status.idle": "2021-08-07T05:49:55.518716Z",
     "shell.execute_reply": "2021-08-07T05:49:55.519149Z",
     "shell.execute_reply.started": "2021-08-07T05:15:07.591669Z"
    },
    "papermill": {
     "duration": 0.024201,
     "end_time": "2021-08-07T05:49:55.519287",
     "exception": false,
     "start_time": "2021-08-07T05:49:55.495086",
     "status": "completed"
    },
    "tags": []
   },
   "outputs": [],
   "source": [
    "#q1.hint()\n",
    "#q1.solution()"
   ]
  },
  {
   "cell_type": "markdown",
   "id": "40855e52",
   "metadata": {
    "papermill": {
     "duration": 0.017123,
     "end_time": "2021-08-07T05:49:55.554151",
     "exception": false,
     "start_time": "2021-08-07T05:49:55.537028",
     "status": "completed"
    },
    "tags": []
   },
   "source": [
    "# 2.\n",
    "\n",
    "You are analyzing sports teams.  Members of each team are stored in a list. The Coach is the first name in the list, the captain is the second name in the list, and other players are listed after that. \n",
    "These lists are stored in another list, which starts with the best team and proceeds through the list to the worst team last.  Complete the function below to select the **captain** of the worst team."
   ]
  },
  {
   "cell_type": "code",
   "execution_count": 4,
   "id": "1afc89d9",
   "metadata": {
    "execution": {
     "iopub.execute_input": "2021-08-07T05:49:55.594702Z",
     "iopub.status.busy": "2021-08-07T05:49:55.594138Z",
     "iopub.status.idle": "2021-08-07T05:49:55.601033Z",
     "shell.execute_reply": "2021-08-07T05:49:55.600516Z",
     "shell.execute_reply.started": "2021-08-07T05:21:36.934285Z"
    },
    "papermill": {
     "duration": 0.028882,
     "end_time": "2021-08-07T05:49:55.601151",
     "exception": false,
     "start_time": "2021-08-07T05:49:55.572269",
     "status": "completed"
    },
    "tags": []
   },
   "outputs": [
    {
     "data": {
      "application/javascript": [
       "parent.postMessage({\"jupyterEvent\": \"custom.exercise_interaction\", \"data\": {\"outcomeType\": 1, \"valueTowardsCompletion\": 0.2, \"interactionType\": 1, \"questionType\": 2, \"questionId\": \"2_LosingTeamCaptain\", \"learnToolsVersion\": \"0.3.4\", \"failureMessage\": \"\", \"exceptionClass\": \"\", \"trace\": \"\"}}, \"*\")"
      ],
      "text/plain": [
       "<IPython.core.display.Javascript object>"
      ]
     },
     "metadata": {},
     "output_type": "display_data"
    },
    {
     "data": {
      "text/markdown": [
       "<span style=\"color:#33cc33\">Correct</span>"
      ],
      "text/plain": [
       "Correct"
      ]
     },
     "metadata": {},
     "output_type": "display_data"
    }
   ],
   "source": [
    "def losing_team_captain(teams):\n",
    "    \"\"\"Given a list of teams, where each team is a list of names, return the 2nd player (captain)\n",
    "    from the last listed team\n",
    "    \"\"\"\n",
    "    tmp=teams[-1];\n",
    "    tmp[1]\n",
    "   \n",
    "    \n",
    "    return tmp[1] \n",
    "    \n",
    "    \n",
    "\n",
    "# Check your answer\n",
    "q2.check()"
   ]
  },
  {
   "cell_type": "code",
   "execution_count": 5,
   "id": "c455c016",
   "metadata": {
    "collapsed": true,
    "execution": {
     "iopub.execute_input": "2021-08-07T05:49:55.632520Z",
     "iopub.status.busy": "2021-08-07T05:49:55.631732Z",
     "iopub.status.idle": "2021-08-07T05:49:55.634276Z",
     "shell.execute_reply": "2021-08-07T05:49:55.633861Z"
    },
    "jupyter": {
     "outputs_hidden": true
    },
    "papermill": {
     "duration": 0.019584,
     "end_time": "2021-08-07T05:49:55.634404",
     "exception": false,
     "start_time": "2021-08-07T05:49:55.614820",
     "status": "completed"
    },
    "tags": []
   },
   "outputs": [],
   "source": [
    "#q2.hint()\n",
    "#q2.solution()"
   ]
  },
  {
   "cell_type": "markdown",
   "id": "a9817f14",
   "metadata": {
    "papermill": {
     "duration": 0.01284,
     "end_time": "2021-08-07T05:49:55.660556",
     "exception": false,
     "start_time": "2021-08-07T05:49:55.647716",
     "status": "completed"
    },
    "tags": []
   },
   "source": [
    "# 3.\n",
    "\n",
    "The next iteration of Mario Kart will feature an extra-infuriating new item, the *Purple Shell*. When used, it warps the last place racer into first place and the first place racer into last place. Complete the function below to implement the Purple Shell's effect."
   ]
  },
  {
   "cell_type": "code",
   "execution_count": 6,
   "id": "e78e9cc0",
   "metadata": {
    "execution": {
     "iopub.execute_input": "2021-08-07T05:49:55.692591Z",
     "iopub.status.busy": "2021-08-07T05:49:55.691731Z",
     "iopub.status.idle": "2021-08-07T05:49:55.697749Z",
     "shell.execute_reply": "2021-08-07T05:49:55.697220Z",
     "shell.execute_reply.started": "2021-08-07T05:29:24.519366Z"
    },
    "papermill": {
     "duration": 0.024402,
     "end_time": "2021-08-07T05:49:55.697889",
     "exception": false,
     "start_time": "2021-08-07T05:49:55.673487",
     "status": "completed"
    },
    "tags": []
   },
   "outputs": [
    {
     "data": {
      "application/javascript": [
       "parent.postMessage({\"jupyterEvent\": \"custom.exercise_interaction\", \"data\": {\"outcomeType\": 1, \"valueTowardsCompletion\": 0.2, \"interactionType\": 1, \"questionType\": 2, \"questionId\": \"3_PurpleShell\", \"learnToolsVersion\": \"0.3.4\", \"failureMessage\": \"\", \"exceptionClass\": \"\", \"trace\": \"\"}}, \"*\")"
      ],
      "text/plain": [
       "<IPython.core.display.Javascript object>"
      ]
     },
     "metadata": {},
     "output_type": "display_data"
    },
    {
     "data": {
      "text/markdown": [
       "<span style=\"color:#33cc33\">Correct</span>"
      ],
      "text/plain": [
       "Correct"
      ]
     },
     "metadata": {},
     "output_type": "display_data"
    }
   ],
   "source": [
    "def purple_shell(racers):\n",
    "    \"\"\"Given a list of racers, set the first place racer (at the front of the list) to last\n",
    "    place and vice versa.\n",
    "    \n",
    "    >>> r = [\"Mario\", \"Bowser\", \"Luigi\"]\n",
    "    >>> purple_shell(r)\n",
    "    >>> r\n",
    "    [\"Luigi\", \"Bowser\", \"Mario\"]\n",
    "    \"\"\"\n",
    "    temp = racers[0]\n",
    "    racers[0] = racers[-1]\n",
    "    racers[-1] = temp\n",
    "# Check your answer\n",
    "q3.check()"
   ]
  },
  {
   "cell_type": "code",
   "execution_count": 7,
   "id": "361ac199",
   "metadata": {
    "execution": {
     "iopub.execute_input": "2021-08-07T05:49:55.741355Z",
     "iopub.status.busy": "2021-08-07T05:49:55.740724Z",
     "iopub.status.idle": "2021-08-07T05:49:55.743124Z",
     "shell.execute_reply": "2021-08-07T05:49:55.743700Z",
     "shell.execute_reply.started": "2021-08-07T05:28:53.276457Z"
    },
    "papermill": {
     "duration": 0.02595,
     "end_time": "2021-08-07T05:49:55.743844",
     "exception": false,
     "start_time": "2021-08-07T05:49:55.717894",
     "status": "completed"
    },
    "tags": []
   },
   "outputs": [],
   "source": [
    "#q3.hint()\n",
    "#q3.solution()"
   ]
  },
  {
   "cell_type": "markdown",
   "id": "b94941fd",
   "metadata": {
    "papermill": {
     "duration": 0.019928,
     "end_time": "2021-08-07T05:49:55.783847",
     "exception": false,
     "start_time": "2021-08-07T05:49:55.763919",
     "status": "completed"
    },
    "tags": []
   },
   "source": [
    "# 4.\n",
    "\n",
    "What are the lengths of the following lists? Fill in the variable `lengths` with your predictions. (Try to make a prediction for each list *without* just calling `len()` on it.)"
   ]
  },
  {
   "cell_type": "code",
   "execution_count": 8,
   "id": "d1449738",
   "metadata": {
    "execution": {
     "iopub.execute_input": "2021-08-07T05:49:55.828819Z",
     "iopub.status.busy": "2021-08-07T05:49:55.828136Z",
     "iopub.status.idle": "2021-08-07T05:49:55.832625Z",
     "shell.execute_reply": "2021-08-07T05:49:55.833047Z",
     "shell.execute_reply.started": "2021-08-07T05:33:03.507847Z"
    },
    "papermill": {
     "duration": 0.029408,
     "end_time": "2021-08-07T05:49:55.833231",
     "exception": false,
     "start_time": "2021-08-07T05:49:55.803823",
     "status": "completed"
    },
    "tags": []
   },
   "outputs": [
    {
     "data": {
      "application/javascript": [
       "parent.postMessage({\"jupyterEvent\": \"custom.exercise_interaction\", \"data\": {\"outcomeType\": 1, \"valueTowardsCompletion\": 0.2, \"interactionType\": 1, \"questionType\": 1, \"questionId\": \"4_UnderstandLen\", \"learnToolsVersion\": \"0.3.4\", \"failureMessage\": \"\", \"exceptionClass\": \"\", \"trace\": \"\"}}, \"*\")"
      ],
      "text/plain": [
       "<IPython.core.display.Javascript object>"
      ]
     },
     "metadata": {},
     "output_type": "display_data"
    },
    {
     "data": {
      "text/markdown": [
       "<span style=\"color:#33cc33\">Correct:</span> \n",
       "\n",
       "\n",
       "- a: There are three items in this list. Nothing tricky yet.\n",
       "- b: The list `[2, 3]` counts as a single item. It has one item before it. So we have 2 items in the list\n",
       "- c: The empty list has 0 items\n",
       "- d: The expression is the same as the list `[2, 3]`, which has length 2."
      ],
      "text/plain": [
       "Correct: \n",
       "\n",
       "\n",
       "- a: There are three items in this list. Nothing tricky yet.\n",
       "- b: The list `[2, 3]` counts as a single item. It has one item before it. So we have 2 items in the list\n",
       "- c: The empty list has 0 items\n",
       "- d: The expression is the same as the list `[2, 3]`, which has length 2."
      ]
     },
     "metadata": {},
     "output_type": "display_data"
    }
   ],
   "source": [
    "a = [1, 2, 3]\n",
    "b = [1, [2, 3]]\n",
    "c = []\n",
    "d = [1, 2, 3][1:]\n",
    "\n",
    "# Put your predictions in the list below. Lengths should contain 4 numbers, the\n",
    "# first being the length of a, the second being the length of b and so on.\n",
    "lengths = [3,2,0,2]\n",
    "\n",
    "# Check your answer\n",
    "q4.check()"
   ]
  },
  {
   "cell_type": "code",
   "execution_count": 9,
   "id": "289965a3",
   "metadata": {
    "collapsed": true,
    "execution": {
     "iopub.execute_input": "2021-08-07T05:49:55.866043Z",
     "iopub.status.busy": "2021-08-07T05:49:55.865612Z",
     "iopub.status.idle": "2021-08-07T05:49:55.868944Z",
     "shell.execute_reply": "2021-08-07T05:49:55.868577Z"
    },
    "jupyter": {
     "outputs_hidden": true
    },
    "papermill": {
     "duration": 0.02105,
     "end_time": "2021-08-07T05:49:55.869032",
     "exception": false,
     "start_time": "2021-08-07T05:49:55.847982",
     "status": "completed"
    },
    "tags": []
   },
   "outputs": [],
   "source": [
    "# line below provides some explanation\n",
    "#q4.solution()"
   ]
  },
  {
   "cell_type": "markdown",
   "id": "61fd8802",
   "metadata": {
    "papermill": {
     "duration": 0.014554,
     "end_time": "2021-08-07T05:49:55.898139",
     "exception": false,
     "start_time": "2021-08-07T05:49:55.883585",
     "status": "completed"
    },
    "tags": []
   },
   "source": [
    "# 5. <span title=\"A bit spicy\" style=\"color: darkgreen \">🌶️</span>\n",
    "\n",
    "We're using lists to record people who attended our party and what order they arrived in. For example, the following list represents a party with 7 guests, in which Adela showed up first and Ford was the last to arrive:\n",
    "\n",
    "    party_attendees = ['Adela', 'Fleda', 'Owen', 'May', 'Mona', 'Gilbert', 'Ford']\n",
    "\n",
    "A guest is considered 'fashionably late' if they arrived after at least half of the party's guests. However, they must not be the very last guest (that's taking it too far). In the above example, Mona and Gilbert are the only guests who were fashionably late.\n",
    "\n",
    "Complete the function below which takes a list of party attendees as well as a person, and tells us whether that person is fashionably late."
   ]
  },
  {
   "cell_type": "code",
   "execution_count": 10,
   "id": "dee61436",
   "metadata": {
    "execution": {
     "iopub.execute_input": "2021-08-07T05:49:55.930740Z",
     "iopub.status.busy": "2021-08-07T05:49:55.930266Z",
     "iopub.status.idle": "2021-08-07T05:49:55.936885Z",
     "shell.execute_reply": "2021-08-07T05:49:55.937281Z",
     "shell.execute_reply.started": "2021-08-07T05:49:11.44152Z"
    },
    "papermill": {
     "duration": 0.024538,
     "end_time": "2021-08-07T05:49:55.937444",
     "exception": false,
     "start_time": "2021-08-07T05:49:55.912906",
     "status": "completed"
    },
    "tags": []
   },
   "outputs": [
    {
     "data": {
      "application/javascript": [
       "parent.postMessage({\"jupyterEvent\": \"custom.exercise_interaction\", \"data\": {\"outcomeType\": 1, \"valueTowardsCompletion\": 0.2, \"interactionType\": 1, \"questionType\": 2, \"questionId\": \"5_FashionablyLate\", \"learnToolsVersion\": \"0.3.4\", \"failureMessage\": \"\", \"exceptionClass\": \"\", \"trace\": \"\"}}, \"*\")"
      ],
      "text/plain": [
       "<IPython.core.display.Javascript object>"
      ]
     },
     "metadata": {},
     "output_type": "display_data"
    },
    {
     "data": {
      "text/markdown": [
       "<span style=\"color:#33cc33\">Correct</span>"
      ],
      "text/plain": [
       "Correct"
      ]
     },
     "metadata": {},
     "output_type": "display_data"
    }
   ],
   "source": [
    "def fashionably_late(arrivals, name):\n",
    "    \"\"\"Given an ordered list of arrivals to the party and a name, return whether the guest with that\n",
    "    name was fashionably late.\n",
    "    \"\"\"\n",
    "    order = arrivals.index(name)\n",
    "    return order >= len(arrivals) / 2 and order != len(arrivals) - 1\n",
    "# Check your answer\n",
    "q5.check()"
   ]
  },
  {
   "cell_type": "code",
   "execution_count": 11,
   "id": "147fef1e",
   "metadata": {
    "execution": {
     "iopub.execute_input": "2021-08-07T05:49:55.972523Z",
     "iopub.status.busy": "2021-08-07T05:49:55.972038Z",
     "iopub.status.idle": "2021-08-07T05:49:55.974328Z",
     "shell.execute_reply": "2021-08-07T05:49:55.974747Z",
     "shell.execute_reply.started": "2021-08-07T05:48:25.816447Z"
    },
    "papermill": {
     "duration": 0.021645,
     "end_time": "2021-08-07T05:49:55.974881",
     "exception": false,
     "start_time": "2021-08-07T05:49:55.953236",
     "status": "completed"
    },
    "tags": []
   },
   "outputs": [],
   "source": [
    "#q5.hint()\n",
    "#q5.solution()"
   ]
  },
  {
   "cell_type": "markdown",
   "id": "26a1bb4d",
   "metadata": {
    "papermill": {
     "duration": 0.014889,
     "end_time": "2021-08-07T05:49:56.005268",
     "exception": false,
     "start_time": "2021-08-07T05:49:55.990379",
     "status": "completed"
    },
    "tags": []
   },
   "source": [
    "# Keep Going\n",
    "\n",
    "That's it for lists and tuples! Now you have the baseline knowledge to **[learn about loops](https://www.kaggle.com/colinmorris/loops-and-list-comprehensions)**, which is where lists and tuples get really interesting. "
   ]
  },
  {
   "cell_type": "markdown",
   "id": "b2b1372a",
   "metadata": {
    "papermill": {
     "duration": 0.014205,
     "end_time": "2021-08-07T05:49:56.034078",
     "exception": false,
     "start_time": "2021-08-07T05:49:56.019873",
     "status": "completed"
    },
    "tags": []
   },
   "source": [
    "---\n",
    "\n",
    "\n",
    "\n",
    "\n",
    "*Have questions or comments? Visit the [Learn Discussion forum](https://www.kaggle.com/learn-forum/161283) to chat with other Learners.*"
   ]
  }
 ],
 "metadata": {
  "kernelspec": {
   "display_name": "Python 3",
   "language": "python",
   "name": "python3"
  },
  "language_info": {
   "codemirror_mode": {
    "name": "ipython",
    "version": 3
   },
   "file_extension": ".py",
   "mimetype": "text/x-python",
   "name": "python",
   "nbconvert_exporter": "python",
   "pygments_lexer": "ipython3",
   "version": "3.7.10"
  },
  "papermill": {
   "default_parameters": {},
   "duration": 8.802082,
   "end_time": "2021-08-07T05:49:57.286291",
   "environment_variables": {},
   "exception": null,
   "input_path": "__notebook__.ipynb",
   "output_path": "__notebook__.ipynb",
   "parameters": {},
   "start_time": "2021-08-07T05:49:48.484209",
   "version": "2.3.3"
  }
 },
 "nbformat": 4,
 "nbformat_minor": 5
}
