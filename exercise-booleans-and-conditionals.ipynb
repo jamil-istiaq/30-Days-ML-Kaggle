{
 "cells": [
  {
   "cell_type": "markdown",
   "id": "5bbd9012",
   "metadata": {
    "papermill": {
     "duration": 0.034198,
     "end_time": "2021-08-09T10:14:30.511102",
     "exception": false,
     "start_time": "2021-08-09T10:14:30.476904",
     "status": "completed"
    },
    "tags": []
   },
   "source": [
    "**This notebook is an exercise in the [Python](https://www.kaggle.com/learn/python) course.  You can reference the tutorial at [this link](https://www.kaggle.com/colinmorris/booleans-and-conditionals).**\n",
    "\n",
    "---\n"
   ]
  },
  {
   "cell_type": "markdown",
   "id": "2fd1fb37",
   "metadata": {
    "papermill": {
     "duration": 0.027989,
     "end_time": "2021-08-09T10:14:30.569376",
     "exception": false,
     "start_time": "2021-08-09T10:14:30.541387",
     "status": "completed"
    },
    "tags": []
   },
   "source": [
    "In this exercise, you'll put to work what you have learned about booleans and conditionals.\n",
    "\n",
    "To get started, **run the setup code below** before writing your own code (and if you leave this notebook and come back later, don't forget to run the setup code again)."
   ]
  },
  {
   "cell_type": "code",
   "execution_count": 1,
   "id": "385481b5",
   "metadata": {
    "execution": {
     "iopub.execute_input": "2021-08-09T10:14:30.628902Z",
     "iopub.status.busy": "2021-08-09T10:14:30.627770Z",
     "iopub.status.idle": "2021-08-09T10:14:30.774007Z",
     "shell.execute_reply": "2021-08-09T10:14:30.773094Z",
     "shell.execute_reply.started": "2021-08-09T09:57:55.949073Z"
    },
    "papermill": {
     "duration": 0.17707,
     "end_time": "2021-08-09T10:14:30.774184",
     "exception": false,
     "start_time": "2021-08-09T10:14:30.597114",
     "status": "completed"
    },
    "tags": []
   },
   "outputs": [
    {
     "name": "stdout",
     "output_type": "stream",
     "text": [
      "Setup complete.\n"
     ]
    }
   ],
   "source": [
    "from learntools.core import binder; binder.bind(globals())\n",
    "from learntools.python.ex3 import *\n",
    "print('Setup complete.')"
   ]
  },
  {
   "cell_type": "markdown",
   "id": "5d522343",
   "metadata": {
    "papermill": {
     "duration": 0.028356,
     "end_time": "2021-08-09T10:14:30.831132",
     "exception": false,
     "start_time": "2021-08-09T10:14:30.802776",
     "status": "completed"
    },
    "tags": []
   },
   "source": [
    "# 1.\n",
    "\n",
    "Many programming languages have [`sign`](https://en.wikipedia.org/wiki/Sign_function) available as a built-in function. Python doesn't, but we can define our own!\n",
    "\n",
    "In the cell below, define a function called `sign` which takes a numerical argument and returns -1 if it's negative, 1 if it's positive, and 0 if it's 0."
   ]
  },
  {
   "cell_type": "code",
   "execution_count": 2,
   "id": "c1e30e69",
   "metadata": {
    "execution": {
     "iopub.execute_input": "2021-08-09T10:14:30.897052Z",
     "iopub.status.busy": "2021-08-09T10:14:30.896049Z",
     "iopub.status.idle": "2021-08-09T10:14:30.906222Z",
     "shell.execute_reply": "2021-08-09T10:14:30.905648Z",
     "shell.execute_reply.started": "2021-08-09T10:02:38.865813Z"
    },
    "papermill": {
     "duration": 0.046673,
     "end_time": "2021-08-09T10:14:30.906369",
     "exception": false,
     "start_time": "2021-08-09T10:14:30.859696",
     "status": "completed"
    },
    "tags": []
   },
   "outputs": [
    {
     "name": "stdout",
     "output_type": "stream",
     "text": [
      "Number is Negative\n",
      "Number is Negative\n",
      "Number is Negative\n",
      "Number is Zero\n",
      "Number is Zero\n",
      "Number is Positive\n",
      "Number is Positive\n",
      "Number is Positive\n"
     ]
    },
    {
     "data": {
      "application/javascript": [
       "parent.postMessage({\"jupyterEvent\": \"custom.exercise_interaction\", \"data\": {\"outcomeType\": 1, \"valueTowardsCompletion\": 0.2, \"interactionType\": 1, \"questionType\": 2, \"questionId\": \"1_SignFunctionProblem\", \"learnToolsVersion\": \"0.3.4\", \"failureMessage\": \"\", \"exceptionClass\": \"\", \"trace\": \"\"}}, \"*\")"
      ],
      "text/plain": [
       "<IPython.core.display.Javascript object>"
      ]
     },
     "metadata": {},
     "output_type": "display_data"
    },
    {
     "data": {
      "text/markdown": [
       "<span style=\"color:#33cc33\">Correct</span>"
      ],
      "text/plain": [
       "Correct"
      ]
     },
     "metadata": {},
     "output_type": "display_data"
    }
   ],
   "source": [
    "# Your code goes here. Define a function called 'sign'\n",
    "def sign(x):\n",
    "    if x>0:\n",
    "        print(\"Number is Positive\");\n",
    "        return 1\n",
    "    elif x<0:\n",
    "        print(\"Number is Negative\");\n",
    "        return -1\n",
    "    else:\n",
    "        print(\"Number is Zero\");\n",
    "        return 0\n",
    "# Check your answer\n",
    "q1.check()"
   ]
  },
  {
   "cell_type": "code",
   "execution_count": 3,
   "id": "c07fd7bd",
   "metadata": {
    "execution": {
     "iopub.execute_input": "2021-08-09T10:14:30.971339Z",
     "iopub.status.busy": "2021-08-09T10:14:30.970688Z",
     "iopub.status.idle": "2021-08-09T10:14:30.973590Z",
     "shell.execute_reply": "2021-08-09T10:14:30.974100Z",
     "shell.execute_reply.started": "2021-08-06T09:03:33.958177Z"
    },
    "papermill": {
     "duration": 0.037548,
     "end_time": "2021-08-09T10:14:30.974272",
     "exception": false,
     "start_time": "2021-08-09T10:14:30.936724",
     "status": "completed"
    },
    "tags": []
   },
   "outputs": [],
   "source": [
    "#q1.solution()"
   ]
  },
  {
   "cell_type": "markdown",
   "id": "14416700",
   "metadata": {
    "papermill": {
     "duration": 0.028969,
     "end_time": "2021-08-09T10:14:31.032732",
     "exception": false,
     "start_time": "2021-08-09T10:14:31.003763",
     "status": "completed"
    },
    "tags": []
   },
   "source": [
    "# 2.\n",
    "\n",
    "We've decided to add \"logging\" to our `to_smash` function from the previous exercise."
   ]
  },
  {
   "cell_type": "code",
   "execution_count": 4,
   "id": "b37d2625",
   "metadata": {
    "execution": {
     "iopub.execute_input": "2021-08-09T10:14:31.102396Z",
     "iopub.status.busy": "2021-08-09T10:14:31.101542Z",
     "iopub.status.idle": "2021-08-09T10:14:31.106644Z",
     "shell.execute_reply": "2021-08-09T10:14:31.107082Z",
     "shell.execute_reply.started": "2021-08-09T10:02:45.055853Z"
    },
    "papermill": {
     "duration": 0.043069,
     "end_time": "2021-08-09T10:14:31.107252",
     "exception": false,
     "start_time": "2021-08-09T10:14:31.064183",
     "status": "completed"
    },
    "tags": []
   },
   "outputs": [
    {
     "name": "stdout",
     "output_type": "stream",
     "text": [
      "Splitting 91 candies\n"
     ]
    },
    {
     "data": {
      "text/plain": [
       "1"
      ]
     },
     "execution_count": 4,
     "metadata": {},
     "output_type": "execute_result"
    }
   ],
   "source": [
    "def to_smash(total_candies):\n",
    "    \"\"\"Return the number of leftover candies that must be smashed after distributing\n",
    "    the given number of candies evenly between 3 friends.\n",
    "    \n",
    "    >>> to_smash(91)\n",
    "    1\n",
    "    \"\"\"\n",
    "    print(\"Splitting\", total_candies, \"candies\")\n",
    "    z=total_candies % 3\n",
    "    return z\n",
    "\n",
    "to_smash(91)"
   ]
  },
  {
   "cell_type": "markdown",
   "id": "bb87a726",
   "metadata": {
    "papermill": {
     "duration": 0.029557,
     "end_time": "2021-08-09T10:14:31.167240",
     "exception": false,
     "start_time": "2021-08-09T10:14:31.137683",
     "status": "completed"
    },
    "tags": []
   },
   "source": [
    "What happens if we call it with `total_candies = 1`?"
   ]
  },
  {
   "cell_type": "code",
   "execution_count": 5,
   "id": "cc45d8b7",
   "metadata": {
    "execution": {
     "iopub.execute_input": "2021-08-09T10:14:31.232431Z",
     "iopub.status.busy": "2021-08-09T10:14:31.231548Z",
     "iopub.status.idle": "2021-08-09T10:14:31.237406Z",
     "shell.execute_reply": "2021-08-09T10:14:31.236777Z",
     "shell.execute_reply.started": "2021-08-09T10:02:49.582442Z"
    },
    "papermill": {
     "duration": 0.040403,
     "end_time": "2021-08-09T10:14:31.237567",
     "exception": false,
     "start_time": "2021-08-09T10:14:31.197164",
     "status": "completed"
    },
    "tags": []
   },
   "outputs": [
    {
     "name": "stdout",
     "output_type": "stream",
     "text": [
      "Splitting 1 candies\n"
     ]
    },
    {
     "data": {
      "text/plain": [
       "1"
      ]
     },
     "execution_count": 5,
     "metadata": {},
     "output_type": "execute_result"
    }
   ],
   "source": [
    "to_smash(1)"
   ]
  },
  {
   "cell_type": "markdown",
   "id": "780314de",
   "metadata": {
    "papermill": {
     "duration": 0.030965,
     "end_time": "2021-08-09T10:14:31.300017",
     "exception": false,
     "start_time": "2021-08-09T10:14:31.269052",
     "status": "completed"
    },
    "tags": []
   },
   "source": [
    "That isn't great grammar!\n",
    "\n",
    "Modify the definition in the cell below to correct the grammar of our print statement. (If there's only one candy, we should use the singular \"candy\" instead of the plural \"candies\")"
   ]
  },
  {
   "cell_type": "code",
   "execution_count": 6,
   "id": "29c9c959",
   "metadata": {
    "execution": {
     "iopub.execute_input": "2021-08-09T10:14:31.369047Z",
     "iopub.status.busy": "2021-08-09T10:14:31.368363Z",
     "iopub.status.idle": "2021-08-09T10:14:31.372482Z",
     "shell.execute_reply": "2021-08-09T10:14:31.372945Z",
     "shell.execute_reply.started": "2021-08-09T10:03:48.081252Z"
    },
    "papermill": {
     "duration": 0.042435,
     "end_time": "2021-08-09T10:14:31.373117",
     "exception": false,
     "start_time": "2021-08-09T10:14:31.330682",
     "status": "completed"
    },
    "tags": []
   },
   "outputs": [
    {
     "name": "stdout",
     "output_type": "stream",
     "text": [
      "Splitting 91 candies\n",
      "Splitting 1 candy\n"
     ]
    },
    {
     "data": {
      "text/plain": [
       "1"
      ]
     },
     "execution_count": 6,
     "metadata": {},
     "output_type": "execute_result"
    }
   ],
   "source": [
    "def to_smash(total_candies):\n",
    "    \"\"\"Return the number of leftover candies that must be smashed after distributing\n",
    "    the given number of candies evenly between 3 friends.\n",
    "    \n",
    "    >>> to_smash(91)\n",
    "    1\n",
    "    \"\"\"\n",
    "    z=total_candies % 3\n",
    "    if total_candies==1:\n",
    "        print(\"Splitting\", total_candies, \"candy\")\n",
    "        return z\n",
    "    else:\n",
    "        print(\"Splitting\", total_candies, \"candies\")\n",
    "        return z \n",
    "\n",
    "to_smash(91)\n",
    "to_smash(1)"
   ]
  },
  {
   "cell_type": "markdown",
   "id": "8f5fcf68",
   "metadata": {
    "papermill": {
     "duration": 0.032427,
     "end_time": "2021-08-09T10:14:31.438106",
     "exception": false,
     "start_time": "2021-08-09T10:14:31.405679",
     "status": "completed"
    },
    "tags": []
   },
   "source": [
    "To get credit for completing this problem, and to see the official answer, run the code cell below."
   ]
  },
  {
   "cell_type": "code",
   "execution_count": 7,
   "id": "7d5a88e2",
   "metadata": {
    "execution": {
     "iopub.execute_input": "2021-08-09T10:14:31.506727Z",
     "iopub.status.busy": "2021-08-09T10:14:31.506033Z",
     "iopub.status.idle": "2021-08-09T10:14:31.510352Z",
     "shell.execute_reply": "2021-08-09T10:14:31.510923Z",
     "shell.execute_reply.started": "2021-08-09T10:02:58.920814Z"
    },
    "papermill": {
     "duration": 0.040868,
     "end_time": "2021-08-09T10:14:31.511095",
     "exception": false,
     "start_time": "2021-08-09T10:14:31.470227",
     "status": "completed"
    },
    "tags": []
   },
   "outputs": [
    {
     "data": {
      "application/javascript": [
       "parent.postMessage({\"jupyterEvent\": \"custom.exercise_interaction\", \"data\": {\"interactionType\": 3, \"questionType\": 4, \"questionId\": \"2_PluralizationProblem\", \"learnToolsVersion\": \"0.3.4\", \"valueTowardsCompletion\": 0.0, \"failureMessage\": \"\", \"exceptionClass\": \"\", \"trace\": \"\", \"outcomeType\": 4}}, \"*\")"
      ],
      "text/plain": [
       "<IPython.core.display.Javascript object>"
      ]
     },
     "metadata": {},
     "output_type": "display_data"
    },
    {
     "data": {
      "text/markdown": [
       "<span style=\"color:#33cc99\">Solution:</span> A straightforward (and totally fine) solution is to replace the original `print` call with:\n",
       "\n",
       "```python\n",
       "if total_candies == 1:\n",
       "    print(\"Splitting 1 candy\")\n",
       "else:\n",
       "    print(\"Splitting\", total_candies, \"candies\")\n",
       "```\n",
       "\n",
       "Here's a slightly more succinct solution using a conditional expression:\n",
       "\n",
       "```python\n",
       "print(\"Splitting\", total_candies, \"candy\" if total_candies == 1 else \"candies\")\n",
       "```"
      ],
      "text/plain": [
       "Solution: A straightforward (and totally fine) solution is to replace the original `print` call with:\n",
       "\n",
       "```python\n",
       "if total_candies == 1:\n",
       "    print(\"Splitting 1 candy\")\n",
       "else:\n",
       "    print(\"Splitting\", total_candies, \"candies\")\n",
       "```\n",
       "\n",
       "Here's a slightly more succinct solution using a conditional expression:\n",
       "\n",
       "```python\n",
       "print(\"Splitting\", total_candies, \"candy\" if total_candies == 1 else \"candies\")\n",
       "```"
      ]
     },
     "metadata": {},
     "output_type": "display_data"
    }
   ],
   "source": [
    "# Check your answer (Run this code cell to receive credit!)\n",
    "q2.solution()"
   ]
  },
  {
   "cell_type": "markdown",
   "id": "a6d8db65",
   "metadata": {
    "papermill": {
     "duration": 0.032932,
     "end_time": "2021-08-09T10:14:31.576955",
     "exception": false,
     "start_time": "2021-08-09T10:14:31.544023",
     "status": "completed"
    },
    "tags": []
   },
   "source": [
    "# 3. <span title=\"A bit spicy\" style=\"color: darkgreen \">🌶️</span>\n",
    "\n",
    "In the tutorial, we talked about deciding whether we're prepared for the weather. I said that I'm safe from today's weather if...\n",
    "- I have an umbrella...\n",
    "- or if the rain isn't too heavy and I have a hood...\n",
    "- otherwise, I'm still fine unless it's raining *and* it's a workday\n",
    "\n",
    "The function below uses our first attempt at turning this logic into a Python expression. I claimed that there was a bug in that code. Can you find it?\n",
    "\n",
    "To prove that `prepared_for_weather` is buggy, come up with a set of inputs where either:\n",
    "- the function returns `False` (but should have returned `True`), or\n",
    "- the function returned `True` (but should have returned `False`).\n",
    "\n",
    "To get credit for completing this question, your code should return a <font color='#33cc33'>Correct</font> result."
   ]
  },
  {
   "cell_type": "code",
   "execution_count": 8,
   "id": "c68abf83",
   "metadata": {
    "execution": {
     "iopub.execute_input": "2021-08-09T10:14:31.646033Z",
     "iopub.status.busy": "2021-08-09T10:14:31.645224Z",
     "iopub.status.idle": "2021-08-09T10:14:31.656844Z",
     "shell.execute_reply": "2021-08-09T10:14:31.657360Z",
     "shell.execute_reply.started": "2021-08-09T10:03:59.577624Z"
    },
    "papermill": {
     "duration": 0.048358,
     "end_time": "2021-08-09T10:14:31.657557",
     "exception": false,
     "start_time": "2021-08-09T10:14:31.609199",
     "status": "completed"
    },
    "tags": []
   },
   "outputs": [
    {
     "name": "stdout",
     "output_type": "stream",
     "text": [
      "False\n"
     ]
    },
    {
     "data": {
      "application/javascript": [
       "parent.postMessage({\"jupyterEvent\": \"custom.exercise_interaction\", \"data\": {\"outcomeType\": 1, \"valueTowardsCompletion\": 0.2, \"interactionType\": 1, \"questionType\": 1, \"questionId\": \"3_WeatherDebug\", \"learnToolsVersion\": \"0.3.4\", \"failureMessage\": \"\", \"exceptionClass\": \"\", \"trace\": \"\"}}, \"*\")"
      ],
      "text/plain": [
       "<IPython.core.display.Javascript object>"
      ]
     },
     "metadata": {},
     "output_type": "display_data"
    },
    {
     "data": {
      "text/markdown": [
       "<span style=\"color:#33cc33\">Correct:</span> \n",
       "\n",
       "One example of a failing test case is:\n",
       "\n",
       "```python\n",
       "have_umbrella = False\n",
       "rain_level = 0.0\n",
       "have_hood = False\n",
       "is_workday = False\n",
       "```\n",
       "\n",
       "Clearly we're prepared for the weather in this case. It's not raining. Not only that, it's not a workday, so we don't even need to leave the house! But our function will return False on these inputs.\n",
       "\n",
       "The key problem is that Python implictly parenthesizes the last part as:\n",
       "\n",
       "```python\n",
       "(not (rain_level > 0)) and is_workday\n",
       "```\n",
       "\n",
       "Whereas what we were trying to express would look more like:\n",
       "\n",
       "```python\n",
       "not (rain_level > 0 and is_workday)\n",
       "```\n"
      ],
      "text/plain": [
       "Correct: \n",
       "\n",
       "One example of a failing test case is:\n",
       "\n",
       "```python\n",
       "have_umbrella = False\n",
       "rain_level = 0.0\n",
       "have_hood = False\n",
       "is_workday = False\n",
       "```\n",
       "\n",
       "Clearly we're prepared for the weather in this case. It's not raining. Not only that, it's not a workday, so we don't even need to leave the house! But our function will return False on these inputs.\n",
       "\n",
       "The key problem is that Python implictly parenthesizes the last part as:\n",
       "\n",
       "```python\n",
       "(not (rain_level > 0)) and is_workday\n",
       "```\n",
       "\n",
       "Whereas what we were trying to express would look more like:\n",
       "\n",
       "```python\n",
       "not (rain_level > 0 and is_workday)\n",
       "```"
      ]
     },
     "metadata": {},
     "output_type": "display_data"
    }
   ],
   "source": [
    "def prepared_for_weather(have_umbrella, rain_level, have_hood, is_workday):\n",
    "    # Don't change this code. Our goal is just to find the bug, not fix it!\n",
    "    return have_umbrella or rain_level < 5 and have_hood or not rain_level > 0 and is_workday\n",
    "\n",
    "# Change the values of these inputs so they represent a case where prepared_for_weather\n",
    "# returns the wrong answer.\n",
    "have_umbrella = False\n",
    "rain_level = 0.0\n",
    "have_hood = False\n",
    "is_workday = False\n",
    "\n",
    "# Check what the function returns given the current values of the variables above\n",
    "actual = prepared_for_weather(have_umbrella, rain_level, have_hood, is_workday)\n",
    "print(actual)\n",
    "\n",
    "# Check your answer\n",
    "q3.check()"
   ]
  },
  {
   "cell_type": "code",
   "execution_count": 9,
   "id": "7ac093f0",
   "metadata": {
    "execution": {
     "iopub.execute_input": "2021-08-09T10:14:31.729675Z",
     "iopub.status.busy": "2021-08-09T10:14:31.728969Z",
     "iopub.status.idle": "2021-08-09T10:14:31.731799Z",
     "shell.execute_reply": "2021-08-09T10:14:31.731264Z",
     "shell.execute_reply.started": "2021-08-06T09:16:29.507299Z"
    },
    "papermill": {
     "duration": 0.040588,
     "end_time": "2021-08-09T10:14:31.732055",
     "exception": false,
     "start_time": "2021-08-09T10:14:31.691467",
     "status": "completed"
    },
    "tags": []
   },
   "outputs": [],
   "source": [
    "#q3.hint()\n",
    "#q3.solution()"
   ]
  },
  {
   "cell_type": "markdown",
   "id": "84cf0321",
   "metadata": {
    "papermill": {
     "duration": 0.035204,
     "end_time": "2021-08-09T10:14:31.806473",
     "exception": false,
     "start_time": "2021-08-09T10:14:31.771269",
     "status": "completed"
    },
    "tags": []
   },
   "source": [
    "# 4.\n",
    "\n",
    "The function `is_negative` below is implemented correctly - it returns True if the given number is negative and False otherwise.\n",
    "\n",
    "However, it's more verbose than it needs to be. We can actually reduce the number of lines of code in this function by *75%* while keeping the same behaviour. \n",
    "\n",
    "See if you can come up with an equivalent body that uses just **one line** of code, and put it in the function `concise_is_negative`. (HINT: you don't even need Python's ternary syntax)"
   ]
  },
  {
   "cell_type": "code",
   "execution_count": 10,
   "id": "0756a616",
   "metadata": {
    "execution": {
     "iopub.execute_input": "2021-08-09T10:14:31.882931Z",
     "iopub.status.busy": "2021-08-09T10:14:31.882143Z",
     "iopub.status.idle": "2021-08-09T10:14:31.888222Z",
     "shell.execute_reply": "2021-08-09T10:14:31.888713Z",
     "shell.execute_reply.started": "2021-08-09T10:04:05.641836Z"
    },
    "papermill": {
     "duration": 0.047908,
     "end_time": "2021-08-09T10:14:31.888907",
     "exception": false,
     "start_time": "2021-08-09T10:14:31.840999",
     "status": "completed"
    },
    "tags": []
   },
   "outputs": [
    {
     "data": {
      "application/javascript": [
       "parent.postMessage({\"jupyterEvent\": \"custom.exercise_interaction\", \"data\": {\"outcomeType\": 1, \"valueTowardsCompletion\": 0.2, \"interactionType\": 1, \"questionType\": 2, \"questionId\": \"4_ConciseIsNegative\", \"learnToolsVersion\": \"0.3.4\", \"failureMessage\": \"\", \"exceptionClass\": \"\", \"trace\": \"\"}}, \"*\")"
      ],
      "text/plain": [
       "<IPython.core.display.Javascript object>"
      ]
     },
     "metadata": {},
     "output_type": "display_data"
    },
    {
     "data": {
      "text/markdown": [
       "<span style=\"color:#33cc33\">Correct</span>"
      ],
      "text/plain": [
       "Correct"
      ]
     },
     "metadata": {},
     "output_type": "display_data"
    }
   ],
   "source": [
    "def is_negative(number):\n",
    "    if number > 0:\n",
    "        return True\n",
    "    else:\n",
    "        return False\n",
    "\n",
    "def concise_is_negative(number):\n",
    "    pass # Your code goes here (try to keep it to one line!)\n",
    "    return number < 0\n",
    "\n",
    "# Check your answer\n",
    "q4.check()"
   ]
  },
  {
   "cell_type": "code",
   "execution_count": 11,
   "id": "98d96950",
   "metadata": {
    "execution": {
     "iopub.execute_input": "2021-08-09T10:14:31.964613Z",
     "iopub.status.busy": "2021-08-09T10:14:31.963931Z",
     "iopub.status.idle": "2021-08-09T10:14:31.967287Z",
     "shell.execute_reply": "2021-08-09T10:14:31.966803Z"
    },
    "papermill": {
     "duration": 0.043687,
     "end_time": "2021-08-09T10:14:31.967437",
     "exception": false,
     "start_time": "2021-08-09T10:14:31.923750",
     "status": "completed"
    },
    "tags": []
   },
   "outputs": [],
   "source": [
    "#q4.hint()\n",
    "#q4.solution()"
   ]
  },
  {
   "cell_type": "markdown",
   "id": "3859879f",
   "metadata": {
    "papermill": {
     "duration": 0.036741,
     "end_time": "2021-08-09T10:14:32.039755",
     "exception": false,
     "start_time": "2021-08-09T10:14:32.003014",
     "status": "completed"
    },
    "tags": []
   },
   "source": [
    "# 5a.\n",
    "\n",
    "The boolean variables `ketchup`, `mustard` and `onion` represent whether a customer wants a particular topping on their hot dog. We want to implement a number of boolean functions that correspond to some yes-or-no questions about the customer's order. For example:"
   ]
  },
  {
   "cell_type": "code",
   "execution_count": 12,
   "id": "61bb1321",
   "metadata": {
    "execution": {
     "iopub.execute_input": "2021-08-09T10:14:32.116974Z",
     "iopub.status.busy": "2021-08-09T10:14:32.116262Z",
     "iopub.status.idle": "2021-08-09T10:14:32.119330Z",
     "shell.execute_reply": "2021-08-09T10:14:32.118765Z",
     "shell.execute_reply.started": "2021-08-09T10:08:45.971059Z"
    },
    "papermill": {
     "duration": 0.044163,
     "end_time": "2021-08-09T10:14:32.119481",
     "exception": false,
     "start_time": "2021-08-09T10:14:32.075318",
     "status": "completed"
    },
    "tags": []
   },
   "outputs": [],
   "source": [
    "def onionless(ketchup, mustard, onion):\n",
    "    \"\"\"Return whether the customer doesn't want onions.\n",
    "    \"\"\"\n",
    "    return not onion"
   ]
  },
  {
   "cell_type": "code",
   "execution_count": 13,
   "id": "567ec061",
   "metadata": {
    "execution": {
     "iopub.execute_input": "2021-08-09T10:14:32.196077Z",
     "iopub.status.busy": "2021-08-09T10:14:32.195314Z",
     "iopub.status.idle": "2021-08-09T10:14:32.201762Z",
     "shell.execute_reply": "2021-08-09T10:14:32.201202Z",
     "shell.execute_reply.started": "2021-08-09T10:12:24.439910Z"
    },
    "papermill": {
     "duration": 0.046539,
     "end_time": "2021-08-09T10:14:32.201966",
     "exception": false,
     "start_time": "2021-08-09T10:14:32.155427",
     "status": "completed"
    },
    "tags": []
   },
   "outputs": [
    {
     "data": {
      "application/javascript": [
       "parent.postMessage({\"jupyterEvent\": \"custom.exercise_interaction\", \"data\": {\"outcomeType\": 1, \"valueTowardsCompletion\": 0.2, \"interactionType\": 1, \"questionType\": 2, \"questionId\": \"5.1_AllToppings\", \"learnToolsVersion\": \"0.3.4\", \"failureMessage\": \"\", \"exceptionClass\": \"\", \"trace\": \"\"}}, \"*\")"
      ],
      "text/plain": [
       "<IPython.core.display.Javascript object>"
      ]
     },
     "metadata": {},
     "output_type": "display_data"
    },
    {
     "data": {
      "text/markdown": [
       "<span style=\"color:#33cc33\">Correct</span>"
      ],
      "text/plain": [
       "Correct"
      ]
     },
     "metadata": {},
     "output_type": "display_data"
    }
   ],
   "source": [
    "def wants_all_toppings(ketchup, mustard, onion):\n",
    "    \"\"\"Return whether the customer wants \"the works\" (all 3 toppings)\n",
    "    \"\"\"\n",
    "    return ketchup and mustard and onion\n",
    "\n",
    "\n",
    "# Check your answer\n",
    "q5.a.check()"
   ]
  },
  {
   "cell_type": "code",
   "execution_count": 14,
   "id": "65616fbc",
   "metadata": {
    "execution": {
     "iopub.execute_input": "2021-08-09T10:14:32.280569Z",
     "iopub.status.busy": "2021-08-09T10:14:32.279864Z",
     "iopub.status.idle": "2021-08-09T10:14:32.282597Z",
     "shell.execute_reply": "2021-08-09T10:14:32.283054Z",
     "shell.execute_reply.started": "2021-08-06T09:35:36.672762Z"
    },
    "papermill": {
     "duration": 0.044456,
     "end_time": "2021-08-09T10:14:32.283233",
     "exception": false,
     "start_time": "2021-08-09T10:14:32.238777",
     "status": "completed"
    },
    "tags": []
   },
   "outputs": [],
   "source": [
    "#q5.a.hint()\n",
    "#q5.a.solution()"
   ]
  },
  {
   "cell_type": "markdown",
   "id": "b496f457",
   "metadata": {
    "papermill": {
     "duration": 0.037221,
     "end_time": "2021-08-09T10:14:32.356419",
     "exception": false,
     "start_time": "2021-08-09T10:14:32.319198",
     "status": "completed"
    },
    "tags": []
   },
   "source": [
    "# 5b.\n",
    "\n",
    "For the next function, fill in the body to match the English description in the docstring. "
   ]
  },
  {
   "cell_type": "code",
   "execution_count": 15,
   "id": "242df0a3",
   "metadata": {
    "execution": {
     "iopub.execute_input": "2021-08-09T10:14:32.435103Z",
     "iopub.status.busy": "2021-08-09T10:14:32.434383Z",
     "iopub.status.idle": "2021-08-09T10:14:32.441056Z",
     "shell.execute_reply": "2021-08-09T10:14:32.440414Z",
     "shell.execute_reply.started": "2021-08-09T10:13:07.153548Z"
    },
    "papermill": {
     "duration": 0.04876,
     "end_time": "2021-08-09T10:14:32.441200",
     "exception": false,
     "start_time": "2021-08-09T10:14:32.392440",
     "status": "completed"
    },
    "tags": []
   },
   "outputs": [
    {
     "data": {
      "application/javascript": [
       "parent.postMessage({\"jupyterEvent\": \"custom.exercise_interaction\", \"data\": {\"outcomeType\": 1, \"valueTowardsCompletion\": 0.2, \"interactionType\": 1, \"questionType\": 2, \"questionId\": \"5.2_PlainDog\", \"learnToolsVersion\": \"0.3.4\", \"failureMessage\": \"\", \"exceptionClass\": \"\", \"trace\": \"\"}}, \"*\")"
      ],
      "text/plain": [
       "<IPython.core.display.Javascript object>"
      ]
     },
     "metadata": {},
     "output_type": "display_data"
    },
    {
     "data": {
      "text/markdown": [
       "<span style=\"color:#33cc33\">Correct:</span> \n",
       "\n",
       "One solution looks like:\n",
       "```python\n",
       "return not ketchup and not mustard and not onion\n",
       "```\n",
       "\n",
       "We can also [\"factor out\" the nots](https://en.wikipedia.org/wiki/De_Morgan%27s_laws) to get:\n",
       "\n",
       "```python\n",
       "return not (ketchup or mustard or onion)\n",
       "```"
      ],
      "text/plain": [
       "Correct: \n",
       "\n",
       "One solution looks like:\n",
       "```python\n",
       "return not ketchup and not mustard and not onion\n",
       "```\n",
       "\n",
       "We can also [\"factor out\" the nots](https://en.wikipedia.org/wiki/De_Morgan%27s_laws) to get:\n",
       "\n",
       "```python\n",
       "return not (ketchup or mustard or onion)\n",
       "```"
      ]
     },
     "metadata": {},
     "output_type": "display_data"
    }
   ],
   "source": [
    "def wants_plain_hotdog(ketchup, mustard, onion):\n",
    "    \"\"\"Return whether the customer wants a plain hot dog with no toppings.\n",
    "    \"\"\"\n",
    "    return not (ketchup or mustard or onion)\n",
    "\n",
    "# Check your answer\n",
    "q5.b.check()"
   ]
  },
  {
   "cell_type": "code",
   "execution_count": 16,
   "id": "e6d5b32d",
   "metadata": {
    "execution": {
     "iopub.execute_input": "2021-08-09T10:14:32.519844Z",
     "iopub.status.busy": "2021-08-09T10:14:32.519119Z",
     "iopub.status.idle": "2021-08-09T10:14:32.522230Z",
     "shell.execute_reply": "2021-08-09T10:14:32.521554Z"
    },
    "papermill": {
     "duration": 0.044251,
     "end_time": "2021-08-09T10:14:32.522370",
     "exception": false,
     "start_time": "2021-08-09T10:14:32.478119",
     "status": "completed"
    },
    "tags": []
   },
   "outputs": [],
   "source": [
    "#q5.b.hint()\n",
    "#q5.b.solution()"
   ]
  },
  {
   "cell_type": "markdown",
   "id": "9a1d0240",
   "metadata": {
    "papermill": {
     "duration": 0.037396,
     "end_time": "2021-08-09T10:14:32.597767",
     "exception": false,
     "start_time": "2021-08-09T10:14:32.560371",
     "status": "completed"
    },
    "tags": []
   },
   "source": [
    "# 5c.\n",
    "\n",
    "You know what to do: for the next function, fill in the body to match the English description in the docstring."
   ]
  },
  {
   "cell_type": "code",
   "execution_count": 17,
   "id": "3e646164",
   "metadata": {
    "execution": {
     "iopub.execute_input": "2021-08-09T10:14:32.680245Z",
     "iopub.status.busy": "2021-08-09T10:14:32.679545Z",
     "iopub.status.idle": "2021-08-09T10:14:32.686083Z",
     "shell.execute_reply": "2021-08-09T10:14:32.685528Z",
     "shell.execute_reply.started": "2021-08-09T10:13:23.955701Z"
    },
    "papermill": {
     "duration": 0.050789,
     "end_time": "2021-08-09T10:14:32.686227",
     "exception": false,
     "start_time": "2021-08-09T10:14:32.635438",
     "status": "completed"
    },
    "tags": []
   },
   "outputs": [
    {
     "data": {
      "application/javascript": [
       "parent.postMessage({\"jupyterEvent\": \"custom.exercise_interaction\", \"data\": {\"outcomeType\": 1, \"valueTowardsCompletion\": 0.2, \"interactionType\": 1, \"questionType\": 2, \"questionId\": \"5.3_OneSauce\", \"learnToolsVersion\": \"0.3.4\", \"failureMessage\": \"\", \"exceptionClass\": \"\", \"trace\": \"\"}}, \"*\")"
      ],
      "text/plain": [
       "<IPython.core.display.Javascript object>"
      ]
     },
     "metadata": {},
     "output_type": "display_data"
    },
    {
     "data": {
      "text/markdown": [
       "<span style=\"color:#33cc33\">Correct</span>"
      ],
      "text/plain": [
       "Correct"
      ]
     },
     "metadata": {},
     "output_type": "display_data"
    }
   ],
   "source": [
    "def exactly_one_sauce(ketchup, mustard, onion):\n",
    "    \"\"\"Return whether the customer wants either ketchup or mustard, but not both.\n",
    "    (You may be familiar with this operation under the name \"exclusive or\")\n",
    "    \"\"\"\n",
    "    return (ketchup and not mustard) or (mustard and not ketchup)\n",
    "\n",
    "\n",
    "# Check your answer\n",
    "q5.c.check()"
   ]
  },
  {
   "cell_type": "code",
   "execution_count": 18,
   "id": "f31d0ed3",
   "metadata": {
    "execution": {
     "iopub.execute_input": "2021-08-09T10:14:32.769357Z",
     "iopub.status.busy": "2021-08-09T10:14:32.768618Z",
     "iopub.status.idle": "2021-08-09T10:14:32.778257Z",
     "shell.execute_reply": "2021-08-09T10:14:32.778900Z",
     "shell.execute_reply.started": "2021-08-06T09:39:31.446673Z"
    },
    "papermill": {
     "duration": 0.054396,
     "end_time": "2021-08-09T10:14:32.779088",
     "exception": false,
     "start_time": "2021-08-09T10:14:32.724692",
     "status": "completed"
    },
    "tags": []
   },
   "outputs": [
    {
     "data": {
      "application/javascript": [
       "parent.postMessage({\"jupyterEvent\": \"custom.exercise_interaction\", \"data\": {\"interactionType\": 2, \"questionType\": 2, \"questionId\": \"5.3_OneSauce\", \"learnToolsVersion\": \"0.3.4\", \"valueTowardsCompletion\": 0.0, \"failureMessage\": \"\", \"exceptionClass\": \"\", \"trace\": \"\", \"outcomeType\": 4}}, \"*\")"
      ],
      "text/plain": [
       "<IPython.core.display.Javascript object>"
      ]
     },
     "metadata": {},
     "output_type": "display_data"
    },
    {
     "data": {
      "text/markdown": [
       "<span style=\"color:#3366cc\">Hint:</span> There are exactly two ways to set ketchup and mustard to make this true. What are they?"
      ],
      "text/plain": [
       "Hint: There are exactly two ways to set ketchup and mustard to make this true. What are they?"
      ]
     },
     "metadata": {},
     "output_type": "display_data"
    },
    {
     "data": {
      "application/javascript": [
       "parent.postMessage({\"jupyterEvent\": \"custom.exercise_interaction\", \"data\": {\"interactionType\": 3, \"questionType\": 2, \"questionId\": \"5.3_OneSauce\", \"learnToolsVersion\": \"0.3.4\", \"valueTowardsCompletion\": 0.0, \"failureMessage\": \"\", \"exceptionClass\": \"\", \"trace\": \"\", \"outcomeType\": 4}}, \"*\")"
      ],
      "text/plain": [
       "<IPython.core.display.Javascript object>"
      ]
     },
     "metadata": {},
     "output_type": "display_data"
    },
    {
     "data": {
      "text/markdown": [
       "<span style=\"color:#33cc99\">Solution:</span> \n",
       "```python\n",
       "return (ketchup and not mustard) or (mustard and not ketchup)\n",
       "```"
      ],
      "text/plain": [
       "Solution: \n",
       "```python\n",
       "return (ketchup and not mustard) or (mustard and not ketchup)\n",
       "```"
      ]
     },
     "metadata": {},
     "output_type": "display_data"
    }
   ],
   "source": [
    "q5.c.hint()\n",
    "q5.c.solution()"
   ]
  },
  {
   "cell_type": "markdown",
   "id": "8b2d7e10",
   "metadata": {
    "papermill": {
     "duration": 0.039469,
     "end_time": "2021-08-09T10:14:32.859191",
     "exception": false,
     "start_time": "2021-08-09T10:14:32.819722",
     "status": "completed"
    },
    "tags": []
   },
   "source": [
    "# 6. <span title=\"A bit spicy\" style=\"color: darkgreen \">🌶️</span>\n",
    "\n",
    "We’ve seen that calling `bool()` on an integer returns `False` if it’s equal to 0 and `True` otherwise. What happens if we call `int()` on a bool? Try it out in the notebook cell below.\n",
    "\n",
    "Can you take advantage of this to write a succinct function that corresponds to the English sentence \"does the customer want exactly one topping?\"?"
   ]
  },
  {
   "cell_type": "code",
   "execution_count": 19,
   "id": "16fefa1c",
   "metadata": {
    "execution": {
     "iopub.execute_input": "2021-08-09T10:14:32.944338Z",
     "iopub.status.busy": "2021-08-09T10:14:32.943648Z",
     "iopub.status.idle": "2021-08-09T10:14:32.949375Z",
     "shell.execute_reply": "2021-08-09T10:14:32.949886Z",
     "shell.execute_reply.started": "2021-08-09T10:13:51.420993Z"
    },
    "papermill": {
     "duration": 0.051293,
     "end_time": "2021-08-09T10:14:32.950070",
     "exception": false,
     "start_time": "2021-08-09T10:14:32.898777",
     "status": "completed"
    },
    "tags": []
   },
   "outputs": [
    {
     "data": {
      "application/javascript": [
       "parent.postMessage({\"jupyterEvent\": \"custom.exercise_interaction\", \"data\": {\"outcomeType\": 1, \"valueTowardsCompletion\": 0.2, \"interactionType\": 1, \"questionType\": 2, \"questionId\": \"6_OneTopping\", \"learnToolsVersion\": \"0.3.4\", \"failureMessage\": \"\", \"exceptionClass\": \"\", \"trace\": \"\"}}, \"*\")"
      ],
      "text/plain": [
       "<IPython.core.display.Javascript object>"
      ]
     },
     "metadata": {},
     "output_type": "display_data"
    },
    {
     "data": {
      "text/markdown": [
       "<span style=\"color:#33cc33\">Correct:</span> \n",
       "\n",
       "This condition would be pretty complicated to express using just `and`, `or` and `not`, but using boolean-to-integer conversion gives us this short solution:\n",
       "```python\n",
       "return (int(ketchup) + int(mustard) + int(onion)) == 1\n",
       "```\n",
       "\n",
       "Fun fact: we don't technically need to call `int` on the arguments. Just by doing addition with booleans, Python implicitly does the integer conversion. So we could also write...\n",
       "\n",
       "```python\n",
       "return (ketchup + mustard + onion) == 1\n",
       "```"
      ],
      "text/plain": [
       "Correct: \n",
       "\n",
       "This condition would be pretty complicated to express using just `and`, `or` and `not`, but using boolean-to-integer conversion gives us this short solution:\n",
       "```python\n",
       "return (int(ketchup) + int(mustard) + int(onion)) == 1\n",
       "```\n",
       "\n",
       "Fun fact: we don't technically need to call `int` on the arguments. Just by doing addition with booleans, Python implicitly does the integer conversion. So we could also write...\n",
       "\n",
       "```python\n",
       "return (ketchup + mustard + onion) == 1\n",
       "```"
      ]
     },
     "metadata": {},
     "output_type": "display_data"
    }
   ],
   "source": [
    "def exactly_one_topping(ketchup, mustard, onion):\n",
    "    \"\"\"Return whether the customer wants exactly one of the three available toppings\n",
    "    on their hot dog.\n",
    "    \"\"\"\n",
    "    return (ketchup + mustard + onion) == 1\n",
    "\n",
    "# Check your answer\n",
    "q6.check()"
   ]
  },
  {
   "cell_type": "code",
   "execution_count": 20,
   "id": "8d345d81",
   "metadata": {
    "execution": {
     "iopub.execute_input": "2021-08-09T10:14:33.040143Z",
     "iopub.status.busy": "2021-08-09T10:14:33.039056Z",
     "iopub.status.idle": "2021-08-09T10:14:33.049473Z",
     "shell.execute_reply": "2021-08-09T10:14:33.048636Z",
     "shell.execute_reply.started": "2021-08-06T09:39:45.185563Z"
    },
    "papermill": {
     "duration": 0.056782,
     "end_time": "2021-08-09T10:14:33.049643",
     "exception": false,
     "start_time": "2021-08-09T10:14:32.992861",
     "status": "completed"
    },
    "tags": []
   },
   "outputs": [
    {
     "data": {
      "application/javascript": [
       "parent.postMessage({\"jupyterEvent\": \"custom.exercise_interaction\", \"data\": {\"interactionType\": 2, \"questionType\": 2, \"questionId\": \"6_OneTopping\", \"learnToolsVersion\": \"0.3.4\", \"valueTowardsCompletion\": 0.0, \"failureMessage\": \"\", \"exceptionClass\": \"\", \"trace\": \"\", \"outcomeType\": 4}}, \"*\")"
      ],
      "text/plain": [
       "<IPython.core.display.Javascript object>"
      ]
     },
     "metadata": {},
     "output_type": "display_data"
    },
    {
     "data": {
      "text/markdown": [
       "<span style=\"color:#3366cc\">Hint:</span> You may have already found that `int(True)` is 1, and `int(False)` is 0. Think about what kinds of basic arithmetic operations you might want to perform on `ketchup`, `mustard`, and `onion` after converting them to integers."
      ],
      "text/plain": [
       "Hint: You may have already found that `int(True)` is 1, and `int(False)` is 0. Think about what kinds of basic arithmetic operations you might want to perform on `ketchup`, `mustard`, and `onion` after converting them to integers."
      ]
     },
     "metadata": {},
     "output_type": "display_data"
    },
    {
     "data": {
      "application/javascript": [
       "parent.postMessage({\"jupyterEvent\": \"custom.exercise_interaction\", \"data\": {\"interactionType\": 3, \"questionType\": 2, \"questionId\": \"6_OneTopping\", \"learnToolsVersion\": \"0.3.4\", \"valueTowardsCompletion\": 0.0, \"failureMessage\": \"\", \"exceptionClass\": \"\", \"trace\": \"\", \"outcomeType\": 4}}, \"*\")"
      ],
      "text/plain": [
       "<IPython.core.display.Javascript object>"
      ]
     },
     "metadata": {},
     "output_type": "display_data"
    },
    {
     "data": {
      "text/markdown": [
       "<span style=\"color:#33cc99\">Solution:</span> This condition would be pretty complicated to express using just `and`, `or` and `not`, but using boolean-to-integer conversion gives us this short solution:\n",
       "```python\n",
       "return (int(ketchup) + int(mustard) + int(onion)) == 1\n",
       "```\n",
       "\n",
       "Fun fact: we don't technically need to call `int` on the arguments. Just by doing addition with booleans, Python implicitly does the integer conversion. So we could also write...\n",
       "\n",
       "```python\n",
       "return (ketchup + mustard + onion) == 1\n",
       "```"
      ],
      "text/plain": [
       "Solution: This condition would be pretty complicated to express using just `and`, `or` and `not`, but using boolean-to-integer conversion gives us this short solution:\n",
       "```python\n",
       "return (int(ketchup) + int(mustard) + int(onion)) == 1\n",
       "```\n",
       "\n",
       "Fun fact: we don't technically need to call `int` on the arguments. Just by doing addition with booleans, Python implicitly does the integer conversion. So we could also write...\n",
       "\n",
       "```python\n",
       "return (ketchup + mustard + onion) == 1\n",
       "```"
      ]
     },
     "metadata": {},
     "output_type": "display_data"
    }
   ],
   "source": [
    "q6.hint()\n",
    "q6.solution()"
   ]
  },
  {
   "cell_type": "markdown",
   "id": "37bfe5c1",
   "metadata": {
    "papermill": {
     "duration": 0.043622,
     "end_time": "2021-08-09T10:14:33.137028",
     "exception": false,
     "start_time": "2021-08-09T10:14:33.093406",
     "status": "completed"
    },
    "tags": []
   },
   "source": [
    "# 7. <span title=\"A bit spicy\" style=\"color: darkgreen \">🌶️</span> (Optional)\n",
    "\n",
    "In this problem we'll be working with a simplified version of [blackjack](https://en.wikipedia.org/wiki/Blackjack) (aka twenty-one). In this version there is one player (who you'll control) and a dealer. Play proceeds as follows:\n",
    "\n",
    "- The player is dealt two face-up cards. The dealer is dealt one face-up card.\n",
    "- The player may ask to be dealt another card ('hit') as many times as they wish. If the sum of their cards exceeds 21, they lose the round immediately.\n",
    "- The dealer then deals additional cards to himself until either:\n",
    "    - the sum of the dealer's cards exceeds 21, in which case the player wins the round\n",
    "    - the sum of the dealer's cards is greater than or equal to 17. If the player's total is greater than the dealer's, the player wins. Otherwise, the dealer wins (even in case of a tie).\n",
    "    \n",
    "When calculating the sum of cards, Jack, Queen, and King count for 10. Aces can count as 1 or 11 (when referring to a player's \"total\" above, we mean the largest total that can be made without exceeding 21. So e.g. A+8 = 19, A+8+8 = 17)\n",
    "\n",
    "For this problem, you'll write a function representing the player's decision-making strategy in this game. We've provided a very unintelligent implementation below:"
   ]
  },
  {
   "cell_type": "code",
   "execution_count": 21,
   "id": "b4157cbf",
   "metadata": {
    "execution": {
     "iopub.execute_input": "2021-08-09T10:14:33.227560Z",
     "iopub.status.busy": "2021-08-09T10:14:33.226909Z",
     "iopub.status.idle": "2021-08-09T10:14:33.228861Z",
     "shell.execute_reply": "2021-08-09T10:14:33.229407Z"
    },
    "papermill": {
     "duration": 0.049786,
     "end_time": "2021-08-09T10:14:33.229590",
     "exception": false,
     "start_time": "2021-08-09T10:14:33.179804",
     "status": "completed"
    },
    "tags": []
   },
   "outputs": [],
   "source": [
    "def should_hit(dealer_total, player_total, player_low_aces, player_high_aces):\n",
    "    \"\"\"Return True if the player should hit (request another card) given the current game\n",
    "    state, or False if the player should stay.\n",
    "    When calculating a hand's total value, we count aces as \"high\" (with value 11) if doing so\n",
    "    doesn't bring the total above 21, otherwise we count them as low (with value 1). \n",
    "    For example, if the player's hand is {A, A, A, 7}, we will count it as 11 + 1 + 1 + 7,\n",
    "    and therefore set player_total=20, player_low_aces=2, player_high_aces=1.\n",
    "    \"\"\"\n",
    "    return False"
   ]
  },
  {
   "cell_type": "markdown",
   "id": "20edc061",
   "metadata": {
    "papermill": {
     "duration": 0.042838,
     "end_time": "2021-08-09T10:14:33.316334",
     "exception": false,
     "start_time": "2021-08-09T10:14:33.273496",
     "status": "completed"
    },
    "tags": []
   },
   "source": [
    "This very conservative agent *always* sticks with the hand of two cards that they're dealt.\n",
    "\n",
    "We'll be simulating games between your player agent and our own dealer agent by calling your function.\n",
    "\n",
    "Try running the function below to see an example of a simulated game:"
   ]
  },
  {
   "cell_type": "code",
   "execution_count": 22,
   "id": "92ead299",
   "metadata": {
    "execution": {
     "iopub.execute_input": "2021-08-09T10:14:33.405079Z",
     "iopub.status.busy": "2021-08-09T10:14:33.404415Z",
     "iopub.status.idle": "2021-08-09T10:14:33.411204Z",
     "shell.execute_reply": "2021-08-09T10:14:33.411672Z"
    },
    "papermill": {
     "duration": 0.052416,
     "end_time": "2021-08-09T10:14:33.411850",
     "exception": false,
     "start_time": "2021-08-09T10:14:33.359434",
     "status": "completed"
    },
    "tags": []
   },
   "outputs": [
    {
     "name": "stdout",
     "output_type": "stream",
     "text": [
      "Player starts with J and 9 (total = 19)\n",
      "Dealer starts with 10\n",
      "\n",
      "__Player's turn__\n",
      "Player stays\n",
      "\n",
      "__Dealer's turn__\n",
      "Dealer hits and receives 9. (total = 19)\n",
      "Dealer stands.\n",
      "Dealer wins. 19 >= 19\n"
     ]
    }
   ],
   "source": [
    "q7.simulate_one_game()"
   ]
  },
  {
   "cell_type": "markdown",
   "id": "2addc91c",
   "metadata": {
    "papermill": {
     "duration": 0.043744,
     "end_time": "2021-08-09T10:14:33.501661",
     "exception": false,
     "start_time": "2021-08-09T10:14:33.457917",
     "status": "completed"
    },
    "tags": []
   },
   "source": [
    "The real test of your agent's mettle is their average win rate over many games. Try calling the function below to simulate 50000 games of blackjack (it may take a couple seconds):"
   ]
  },
  {
   "cell_type": "code",
   "execution_count": 23,
   "id": "97e88012",
   "metadata": {
    "execution": {
     "iopub.execute_input": "2021-08-09T10:14:33.611331Z",
     "iopub.status.busy": "2021-08-09T10:14:33.606169Z",
     "iopub.status.idle": "2021-08-09T10:14:35.589434Z",
     "shell.execute_reply": "2021-08-09T10:14:35.590952Z"
    },
    "papermill": {
     "duration": 2.04546,
     "end_time": "2021-08-09T10:14:35.591246",
     "exception": false,
     "start_time": "2021-08-09T10:14:33.545786",
     "status": "completed"
    },
    "tags": []
   },
   "outputs": [
    {
     "name": "stdout",
     "output_type": "stream",
     "text": [
      "Player won 19106 out of 50000 games (win rate = 38.2%)\n"
     ]
    }
   ],
   "source": [
    "q7.simulate(n_games=50000)"
   ]
  },
  {
   "cell_type": "markdown",
   "id": "1043f197",
   "metadata": {
    "papermill": {
     "duration": 0.04396,
     "end_time": "2021-08-09T10:14:35.680562",
     "exception": false,
     "start_time": "2021-08-09T10:14:35.636602",
     "status": "completed"
    },
    "tags": []
   },
   "source": [
    "Our dumb agent that completely ignores the game state still manages to win shockingly often!\n",
    "\n",
    "Try adding some more smarts to the `should_hit` function and see how it affects the results."
   ]
  },
  {
   "cell_type": "code",
   "execution_count": 24,
   "id": "bf515870",
   "metadata": {
    "execution": {
     "iopub.execute_input": "2021-08-09T10:14:35.790151Z",
     "iopub.status.busy": "2021-08-09T10:14:35.785009Z",
     "iopub.status.idle": "2021-08-09T10:14:37.796580Z",
     "shell.execute_reply": "2021-08-09T10:14:37.797768Z"
    },
    "papermill": {
     "duration": 2.073622,
     "end_time": "2021-08-09T10:14:37.798019",
     "exception": false,
     "start_time": "2021-08-09T10:14:35.724397",
     "status": "completed"
    },
    "tags": []
   },
   "outputs": [
    {
     "name": "stdout",
     "output_type": "stream",
     "text": [
      "Player won 18964 out of 50000 games (win rate = 37.9%)\n"
     ]
    }
   ],
   "source": [
    "def should_hit(dealer_total, player_total, player_low_aces, player_high_aces):\n",
    "    \"\"\"Return True if the player should hit (request another card) given the current game\n",
    "    state, or False if the player should stay.\n",
    "    When calculating a hand's total value, we count aces as \"high\" (with value 11) if doing so\n",
    "    doesn't bring the total above 21, otherwise we count them as low (with value 1). \n",
    "    For example, if the player's hand is {A, A, A, 7}, we will count it as 11 + 1 + 1 + 7,\n",
    "    and therefore set player_total=20, player_low_aces=2, player_high_aces=1.\n",
    "    \"\"\"\n",
    "    return False\n",
    "\n",
    "q7.simulate(n_games=50000)"
   ]
  },
  {
   "cell_type": "markdown",
   "id": "681559e0",
   "metadata": {
    "papermill": {
     "duration": 0.045725,
     "end_time": "2021-08-09T10:14:37.890270",
     "exception": false,
     "start_time": "2021-08-09T10:14:37.844545",
     "status": "completed"
    },
    "tags": []
   },
   "source": [
    "# Keep Going\n",
    "\n",
    "Learn about **[lists and tuples](https://www.kaggle.com/colinmorris/lists)** to handle multiple items of data in a systematic way."
   ]
  },
  {
   "cell_type": "markdown",
   "id": "def77576",
   "metadata": {
    "papermill": {
     "duration": 0.045127,
     "end_time": "2021-08-09T10:14:37.981319",
     "exception": false,
     "start_time": "2021-08-09T10:14:37.936192",
     "status": "completed"
    },
    "tags": []
   },
   "source": [
    "---\n",
    "\n",
    "\n",
    "\n",
    "\n",
    "*Have questions or comments? Visit the [Learn Discussion forum](https://www.kaggle.com/learn-forum/161283) to chat with other Learners.*"
   ]
  }
 ],
 "metadata": {
  "kernelspec": {
   "display_name": "Python 3",
   "language": "python",
   "name": "python3"
  },
  "language_info": {
   "codemirror_mode": {
    "name": "ipython",
    "version": 3
   },
   "file_extension": ".py",
   "mimetype": "text/x-python",
   "name": "python",
   "nbconvert_exporter": "python",
   "pygments_lexer": "ipython3",
   "version": "3.7.10"
  },
  "papermill": {
   "default_parameters": {},
   "duration": 16.497701,
   "end_time": "2021-08-09T10:14:38.735400",
   "environment_variables": {},
   "exception": null,
   "input_path": "__notebook__.ipynb",
   "output_path": "__notebook__.ipynb",
   "parameters": {},
   "start_time": "2021-08-09T10:14:22.237699",
   "version": "2.3.3"
  }
 },
 "nbformat": 4,
 "nbformat_minor": 5
}
