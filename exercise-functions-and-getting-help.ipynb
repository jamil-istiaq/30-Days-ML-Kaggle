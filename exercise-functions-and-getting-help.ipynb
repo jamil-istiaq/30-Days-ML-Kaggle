{
 "cells": [
  {
   "cell_type": "markdown",
   "id": "4c3b0070",
   "metadata": {
    "papermill": {
     "duration": 0.014976,
     "end_time": "2021-08-05T06:50:41.392155",
     "exception": false,
     "start_time": "2021-08-05T06:50:41.377179",
     "status": "completed"
    },
    "tags": []
   },
   "source": [
    "**This notebook is an exercise in the [Python](https://www.kaggle.com/learn/python) course.  You can reference the tutorial at [this link](https://www.kaggle.com/colinmorris/functions-and-getting-help).**\n",
    "\n",
    "---\n"
   ]
  },
  {
   "cell_type": "markdown",
   "id": "57f2c305",
   "metadata": {
    "papermill": {
     "duration": 0.013744,
     "end_time": "2021-08-05T06:50:41.420444",
     "exception": false,
     "start_time": "2021-08-05T06:50:41.406700",
     "status": "completed"
    },
    "tags": []
   },
   "source": [
    "Functions are powerful. Try writing some yourself.\n",
    "\n",
    "As before, don't forget to run the setup code below before jumping into question 1."
   ]
  },
  {
   "cell_type": "code",
   "execution_count": 1,
   "id": "5c759e58",
   "metadata": {
    "_kg_hide-input": true,
    "_kg_hide-output": true,
    "execution": {
     "iopub.execute_input": "2021-08-05T06:50:41.452744Z",
     "iopub.status.busy": "2021-08-05T06:50:41.451560Z",
     "iopub.status.idle": "2021-08-05T06:50:41.606998Z",
     "shell.execute_reply": "2021-08-05T06:50:41.606156Z",
     "shell.execute_reply.started": "2021-08-05T06:19:38.141724Z"
    },
    "papermill": {
     "duration": 0.172741,
     "end_time": "2021-08-05T06:50:41.607167",
     "exception": false,
     "start_time": "2021-08-05T06:50:41.434426",
     "status": "completed"
    },
    "tags": []
   },
   "outputs": [
    {
     "name": "stdout",
     "output_type": "stream",
     "text": [
      "Setup complete.\n"
     ]
    }
   ],
   "source": [
    "# SETUP. You don't need to worry for now about what this code does or how it works.\n",
    "from learntools.core import binder; binder.bind(globals())\n",
    "from learntools.python.ex2 import *\n",
    "print('Setup complete.')"
   ]
  },
  {
   "cell_type": "markdown",
   "id": "2c331349",
   "metadata": {
    "papermill": {
     "duration": 0.014413,
     "end_time": "2021-08-05T06:50:41.636986",
     "exception": false,
     "start_time": "2021-08-05T06:50:41.622573",
     "status": "completed"
    },
    "tags": []
   },
   "source": [
    "# 1.\n",
    "\n",
    "Complete the body of the following function according to its docstring.\n",
    "\n",
    "HINT: Python has a built-in function `round`."
   ]
  },
  {
   "cell_type": "code",
   "execution_count": 2,
   "id": "1ec08adc",
   "metadata": {
    "execution": {
     "iopub.execute_input": "2021-08-05T06:50:41.675555Z",
     "iopub.status.busy": "2021-08-05T06:50:41.674772Z",
     "iopub.status.idle": "2021-08-05T06:50:41.680782Z",
     "shell.execute_reply": "2021-08-05T06:50:41.680183Z",
     "shell.execute_reply.started": "2021-08-05T06:31:10.332445Z"
    },
    "papermill": {
     "duration": 0.029036,
     "end_time": "2021-08-05T06:50:41.680926",
     "exception": false,
     "start_time": "2021-08-05T06:50:41.651890",
     "status": "completed"
    },
    "tags": []
   },
   "outputs": [
    {
     "data": {
      "application/javascript": [
       "parent.postMessage({\"jupyterEvent\": \"custom.exercise_interaction\", \"data\": {\"outcomeType\": 1, \"valueTowardsCompletion\": 0.16666666666666666, \"interactionType\": 1, \"questionType\": 2, \"questionId\": \"1_RoundFunctionProblem\", \"learnToolsVersion\": \"0.3.4\", \"failureMessage\": \"\", \"exceptionClass\": \"\", \"trace\": \"\"}}, \"*\")"
      ],
      "text/plain": [
       "<IPython.core.display.Javascript object>"
      ]
     },
     "metadata": {},
     "output_type": "display_data"
    },
    {
     "data": {
      "text/markdown": [
       "<span style=\"color:#33cc33\">Correct</span>"
      ],
      "text/plain": [
       "Correct"
      ]
     },
     "metadata": {},
     "output_type": "display_data"
    }
   ],
   "source": [
    "def round_to_two_places(num):\n",
    "    \"\"\"Return the given number rounded to two decimal places. \n",
    "    \n",
    "    >>> round_to_two_places(3.14159)\n",
    "    3.14\n",
    "    \"\"\"\n",
    "    \n",
    "    return round(num,2)\n",
    "    # Replace this body with your own code.\n",
    "    # (\"pass\" is a keyword that does literally nothing. We used it as a placeholder\n",
    "    # because after we begin a code block, Python requires at least one line of code)\n",
    "    pass\n",
    "\n",
    "# Check your answer\n",
    "q1.check()"
   ]
  },
  {
   "cell_type": "code",
   "execution_count": 3,
   "id": "0f6c33c9",
   "metadata": {
    "execution": {
     "iopub.execute_input": "2021-08-05T06:50:41.716636Z",
     "iopub.status.busy": "2021-08-05T06:50:41.715918Z",
     "iopub.status.idle": "2021-08-05T06:50:41.719000Z",
     "shell.execute_reply": "2021-08-05T06:50:41.718503Z",
     "shell.execute_reply.started": "2021-08-05T06:30:35.035395Z"
    },
    "papermill": {
     "duration": 0.02267,
     "end_time": "2021-08-05T06:50:41.719147",
     "exception": false,
     "start_time": "2021-08-05T06:50:41.696477",
     "status": "completed"
    },
    "tags": []
   },
   "outputs": [],
   "source": [
    "# Uncomment the following for a hint\n",
    "#q1.hint()\n",
    "# Or uncomment the following to peek at the solution\n",
    "#q1.solution()"
   ]
  },
  {
   "cell_type": "markdown",
   "id": "255c5fa3",
   "metadata": {
    "papermill": {
     "duration": 0.01636,
     "end_time": "2021-08-05T06:50:41.751228",
     "exception": false,
     "start_time": "2021-08-05T06:50:41.734868",
     "status": "completed"
    },
    "tags": []
   },
   "source": [
    "# 2.\n",
    "The help for `round` says that `ndigits` (the second argument) may be negative.\n",
    "What do you think will happen when it is? Try some examples in the following cell."
   ]
  },
  {
   "cell_type": "code",
   "execution_count": 4,
   "id": "46e53f8a",
   "metadata": {
    "execution": {
     "iopub.execute_input": "2021-08-05T06:50:41.790314Z",
     "iopub.status.busy": "2021-08-05T06:50:41.789262Z",
     "iopub.status.idle": "2021-08-05T06:50:41.793755Z",
     "shell.execute_reply": "2021-08-05T06:50:41.793084Z",
     "shell.execute_reply.started": "2021-08-05T06:38:56.767209Z"
    },
    "papermill": {
     "duration": 0.025771,
     "end_time": "2021-08-05T06:50:41.793904",
     "exception": false,
     "start_time": "2021-08-05T06:50:41.768133",
     "status": "completed"
    },
    "tags": []
   },
   "outputs": [
    {
     "data": {
      "text/plain": [
       "8.78"
      ]
     },
     "execution_count": 4,
     "metadata": {},
     "output_type": "execute_result"
    }
   ],
   "source": [
    "# Put your test code here\n",
    "def round_to_two_places(num):\n",
    "    return round(num,2)\n",
    "\n",
    "round_to_two_places(8.7777282832)"
   ]
  },
  {
   "cell_type": "markdown",
   "id": "0920be86",
   "metadata": {
    "papermill": {
     "duration": 0.01594,
     "end_time": "2021-08-05T06:50:41.826460",
     "exception": false,
     "start_time": "2021-08-05T06:50:41.810520",
     "status": "completed"
    },
    "tags": []
   },
   "source": [
    "Can you think of a case where this would be useful?  Once you're ready, run the code cell below to see the answer and to receive credit for completing the problem."
   ]
  },
  {
   "cell_type": "code",
   "execution_count": 5,
   "id": "37dc4b5b",
   "metadata": {
    "execution": {
     "iopub.execute_input": "2021-08-05T06:50:41.863930Z",
     "iopub.status.busy": "2021-08-05T06:50:41.863185Z",
     "iopub.status.idle": "2021-08-05T06:50:41.869842Z",
     "shell.execute_reply": "2021-08-05T06:50:41.868904Z",
     "shell.execute_reply.started": "2021-08-05T06:39:28.716954Z"
    },
    "papermill": {
     "duration": 0.027562,
     "end_time": "2021-08-05T06:50:41.869994",
     "exception": false,
     "start_time": "2021-08-05T06:50:41.842432",
     "status": "completed"
    },
    "tags": []
   },
   "outputs": [
    {
     "data": {
      "application/javascript": [
       "parent.postMessage({\"jupyterEvent\": \"custom.exercise_interaction\", \"data\": {\"interactionType\": 3, \"questionType\": 4, \"questionId\": \"2_RoundNdigitsProblem\", \"learnToolsVersion\": \"0.3.4\", \"valueTowardsCompletion\": 0.0, \"failureMessage\": \"\", \"exceptionClass\": \"\", \"trace\": \"\", \"outcomeType\": 4}}, \"*\")"
      ],
      "text/plain": [
       "<IPython.core.display.Javascript object>"
      ]
     },
     "metadata": {},
     "output_type": "display_data"
    },
    {
     "data": {
      "text/markdown": [
       "<span style=\"color:#33cc99\">Solution:</span> As you've seen, `ndigits=-1` rounds to the nearest 10, `ndigits=-2` rounds to the nearest 100 and so on. Where might this be useful? Suppose we're dealing with large numbers:\n",
       "\n",
       "> The area of Finland is 338,424 km²  \n",
       "> The area of Greenland is 2,166,086 km²\n",
       "\n",
       "We probably don't care whether it's really 338,424, or 338,425, or 338,177. All those digits of accuracy are just distracting. We can chop them off by calling `round()` with `ndigits=-3`:\n",
       "\n",
       "> The area of Finland is 338,000 km²  \n",
       "> The area of Greenland is 2,166,000 km²\n",
       "\n",
       "(We'll talk about how we would get the commas later when we talk about string formatting :))\n"
      ],
      "text/plain": [
       "Solution: As you've seen, `ndigits=-1` rounds to the nearest 10, `ndigits=-2` rounds to the nearest 100 and so on. Where might this be useful? Suppose we're dealing with large numbers:\n",
       "\n",
       "> The area of Finland is 338,424 km²  \n",
       "> The area of Greenland is 2,166,086 km²\n",
       "\n",
       "We probably don't care whether it's really 338,424, or 338,425, or 338,177. All those digits of accuracy are just distracting. We can chop them off by calling `round()` with `ndigits=-3`:\n",
       "\n",
       "> The area of Finland is 338,000 km²  \n",
       "> The area of Greenland is 2,166,000 km²\n",
       "\n",
       "(We'll talk about how we would get the commas later when we talk about string formatting :))"
      ]
     },
     "metadata": {},
     "output_type": "display_data"
    }
   ],
   "source": [
    "# Check your answer (Run this code cell to receive credit!)\n",
    "q2.solution()"
   ]
  },
  {
   "cell_type": "markdown",
   "id": "4d2388a2",
   "metadata": {
    "papermill": {
     "duration": 0.016649,
     "end_time": "2021-08-05T06:50:41.904263",
     "exception": false,
     "start_time": "2021-08-05T06:50:41.887614",
     "status": "completed"
    },
    "tags": []
   },
   "source": [
    "# 3.\n",
    "\n",
    "In the previous exercise, the candy-sharing friends Alice, Bob and Carol tried to split candies evenly. For the sake of their friendship, any candies left over would be smashed. For example, if they collectively bring home 91 candies, they'll take 30 each and smash 1.\n",
    "\n",
    "Below is a simple function that will calculate the number of candies to smash for *any* number of total candies.\n",
    "\n",
    "Modify it so that it optionally takes a second argument representing the number of friends the candies are being split between. If no second argument is provided, it should assume 3 friends, as before.\n",
    "\n",
    "Update the docstring to reflect this new behaviour."
   ]
  },
  {
   "cell_type": "code",
   "execution_count": 6,
   "id": "a045ecd5",
   "metadata": {
    "execution": {
     "iopub.execute_input": "2021-08-05T06:50:41.942222Z",
     "iopub.status.busy": "2021-08-05T06:50:41.941192Z",
     "iopub.status.idle": "2021-08-05T06:50:41.949206Z",
     "shell.execute_reply": "2021-08-05T06:50:41.949717Z",
     "shell.execute_reply.started": "2021-08-05T06:46:49.753599Z"
    },
    "papermill": {
     "duration": 0.028556,
     "end_time": "2021-08-05T06:50:41.949910",
     "exception": false,
     "start_time": "2021-08-05T06:50:41.921354",
     "status": "completed"
    },
    "tags": []
   },
   "outputs": [
    {
     "data": {
      "application/javascript": [
       "parent.postMessage({\"jupyterEvent\": \"custom.exercise_interaction\", \"data\": {\"outcomeType\": 1, \"valueTowardsCompletion\": 0.16666666666666666, \"interactionType\": 1, \"questionType\": 2, \"questionId\": \"3_CandySmashingFunctionProblem\", \"learnToolsVersion\": \"0.3.4\", \"failureMessage\": \"\", \"exceptionClass\": \"\", \"trace\": \"\"}}, \"*\")"
      ],
      "text/plain": [
       "<IPython.core.display.Javascript object>"
      ]
     },
     "metadata": {},
     "output_type": "display_data"
    },
    {
     "data": {
      "text/markdown": [
       "<span style=\"color:#33cc33\">Correct</span>"
      ],
      "text/plain": [
       "Correct"
      ]
     },
     "metadata": {},
     "output_type": "display_data"
    }
   ],
   "source": [
    "def to_smash(total_candies,pis=3):\n",
    "    \"\"\"Return the number of leftover candies that must be smashed after distributing\n",
    "    the given number of candies evenly between 3 friends.\n",
    "    \n",
    "    >>> to_smash(91)\n",
    "    1\n",
    "    \"\"\"\n",
    "    z=total_candies % pis\n",
    "    return z\n",
    "\n",
    "# Check your answer\n",
    "q3.check()"
   ]
  },
  {
   "cell_type": "code",
   "execution_count": 7,
   "id": "b8f7f632",
   "metadata": {
    "execution": {
     "iopub.execute_input": "2021-08-05T06:50:41.989609Z",
     "iopub.status.busy": "2021-08-05T06:50:41.988587Z",
     "iopub.status.idle": "2021-08-05T06:50:41.992498Z",
     "shell.execute_reply": "2021-08-05T06:50:41.993011Z",
     "shell.execute_reply.started": "2021-08-05T06:45:54.989158Z"
    },
    "papermill": {
     "duration": 0.025309,
     "end_time": "2021-08-05T06:50:41.993183",
     "exception": false,
     "start_time": "2021-08-05T06:50:41.967874",
     "status": "completed"
    },
    "tags": []
   },
   "outputs": [],
   "source": [
    "#q3.hint()"
   ]
  },
  {
   "cell_type": "code",
   "execution_count": 8,
   "id": "9964ecfe",
   "metadata": {
    "execution": {
     "iopub.execute_input": "2021-08-05T06:50:42.033874Z",
     "iopub.status.busy": "2021-08-05T06:50:42.032914Z",
     "iopub.status.idle": "2021-08-05T06:50:42.036381Z",
     "shell.execute_reply": "2021-08-05T06:50:42.036827Z",
     "shell.execute_reply.started": "2021-08-05T06:46:20.740789Z"
    },
    "papermill": {
     "duration": 0.0253,
     "end_time": "2021-08-05T06:50:42.037002",
     "exception": false,
     "start_time": "2021-08-05T06:50:42.011702",
     "status": "completed"
    },
    "tags": []
   },
   "outputs": [],
   "source": [
    "#q3.solution()"
   ]
  },
  {
   "cell_type": "markdown",
   "id": "a0b1438c",
   "metadata": {
    "papermill": {
     "duration": 0.018867,
     "end_time": "2021-08-05T06:50:42.073951",
     "exception": false,
     "start_time": "2021-08-05T06:50:42.055084",
     "status": "completed"
    },
    "tags": []
   },
   "source": [
    "# 4. (Optional)\n",
    "\n",
    "It may not be fun, but reading and understanding error messages will be an important part of your Python career.\n",
    "\n",
    "Each code cell below contains some commented buggy code. For each cell...\n",
    "\n",
    "1. Read the code and predict what you think will happen when it's run.\n",
    "2. Then uncomment the code and run it to see what happens. (**Tip**: In the kernel editor, you can highlight several lines and press `ctrl`+`/` to toggle commenting.)\n",
    "3. Fix the code (so that it accomplishes its intended purpose without throwing an exception)\n",
    "\n",
    "<!-- TODO: should this be autochecked? Delta is probably pretty small. -->"
   ]
  },
  {
   "cell_type": "code",
   "execution_count": 9,
   "id": "f32152f3",
   "metadata": {
    "execution": {
     "iopub.execute_input": "2021-08-05T06:50:42.113609Z",
     "iopub.status.busy": "2021-08-05T06:50:42.112583Z",
     "iopub.status.idle": "2021-08-05T06:50:42.118567Z",
     "shell.execute_reply": "2021-08-05T06:50:42.119239Z",
     "shell.execute_reply.started": "2021-08-05T06:48:23.184766Z"
    },
    "papermill": {
     "duration": 0.027671,
     "end_time": "2021-08-05T06:50:42.119511",
     "exception": false,
     "start_time": "2021-08-05T06:50:42.091840",
     "status": "completed"
    },
    "tags": []
   },
   "outputs": [
    {
     "data": {
      "text/plain": [
       "10.0"
      ]
     },
     "execution_count": 9,
     "metadata": {},
     "output_type": "execute_result"
    }
   ],
   "source": [
    " def round_to_two_places(num):\n",
    "    return round(num,2)\n",
    "\n",
    "round_to_two_places(9.9999)"
   ]
  },
  {
   "cell_type": "code",
   "execution_count": 10,
   "id": "1db422c4",
   "metadata": {
    "execution": {
     "iopub.execute_input": "2021-08-05T06:50:42.160693Z",
     "iopub.status.busy": "2021-08-05T06:50:42.159666Z",
     "iopub.status.idle": "2021-08-05T06:50:42.229046Z",
     "shell.execute_reply": "2021-08-05T06:50:42.227275Z",
     "shell.execute_reply.started": "2021-08-05T06:49:16.903202Z"
    },
    "papermill": {
     "duration": 0.091566,
     "end_time": "2021-08-05T06:50:42.229450",
     "exception": true,
     "start_time": "2021-08-05T06:50:42.137884",
     "status": "failed"
    },
    "tags": []
   },
   "outputs": [
    {
     "ename": "TypeError",
     "evalue": "'int' object is not iterable",
     "output_type": "error",
     "traceback": [
      "\u001b[0;31m---------------------------------------------------------------------------\u001b[0m",
      "\u001b[0;31mTypeError\u001b[0m                                 Traceback (most recent call last)",
      "\u001b[0;32m<ipython-input-10-7b02208b49c4>\u001b[0m in \u001b[0;36m<module>\u001b[0;34m\u001b[0m\n\u001b[1;32m      2\u001b[0m \u001b[0my\u001b[0m \u001b[0;34m=\u001b[0m \u001b[0;36m5\u001b[0m\u001b[0;34m\u001b[0m\u001b[0;34m\u001b[0m\u001b[0m\n\u001b[1;32m      3\u001b[0m \u001b[0;31m# Which of the two variables above has the smallest absolute value?\u001b[0m\u001b[0;34m\u001b[0m\u001b[0;34m\u001b[0m\u001b[0;34m\u001b[0m\u001b[0m\n\u001b[0;32m----> 4\u001b[0;31m \u001b[0msmallest_abs\u001b[0m \u001b[0;34m=\u001b[0m \u001b[0mmin\u001b[0m\u001b[0;34m(\u001b[0m\u001b[0mabs\u001b[0m\u001b[0;34m(\u001b[0m\u001b[0mx\u001b[0m\u001b[0;34m)\u001b[0m\u001b[0;34m)\u001b[0m\u001b[0;34m\u001b[0m\u001b[0;34m\u001b[0m\u001b[0m\n\u001b[0m",
      "\u001b[0;31mTypeError\u001b[0m: 'int' object is not iterable"
     ]
    }
   ],
   "source": [
    "x = -10\n",
    "y = 5\n",
    "# Which of the two variables above has the smallest absolute value?\n",
    "smallest_abs = min(abs(x))"
   ]
  },
  {
   "cell_type": "code",
   "execution_count": null,
   "id": "3e11c051",
   "metadata": {
    "execution": {
     "iopub.execute_input": "2021-08-05T06:50:14.243900Z",
     "iopub.status.busy": "2021-08-05T06:50:14.243308Z",
     "iopub.status.idle": "2021-08-05T06:50:14.248835Z",
     "shell.execute_reply": "2021-08-05T06:50:14.248034Z",
     "shell.execute_reply.started": "2021-08-05T06:50:14.243856Z"
    },
    "papermill": {
     "duration": null,
     "end_time": null,
     "exception": null,
     "start_time": null,
     "status": "pending"
    },
    "tags": []
   },
   "outputs": [],
   "source": [
    "def f(x):\n",
    "    y = abs(x)\n",
    "    return y\n",
    "\n",
    "print(f(5))"
   ]
  },
  {
   "cell_type": "markdown",
   "id": "909290b6",
   "metadata": {
    "papermill": {
     "duration": null,
     "end_time": null,
     "exception": null,
     "start_time": null,
     "status": "pending"
    },
    "tags": []
   },
   "source": [
    "# Keep Going\n",
    "\n",
    "Nice job with the code. Next up, you'll learn about *conditionals*, which you'll need to **[write interesting programs](https://www.kaggle.com/colinmorris/booleans-and-conditionals)**. "
   ]
  },
  {
   "cell_type": "markdown",
   "id": "03471af4",
   "metadata": {
    "papermill": {
     "duration": null,
     "end_time": null,
     "exception": null,
     "start_time": null,
     "status": "pending"
    },
    "tags": []
   },
   "source": [
    "---\n",
    "\n",
    "\n",
    "\n",
    "\n",
    "*Have questions or comments? Visit the [Learn Discussion forum](https://www.kaggle.com/learn-forum/161283) to chat with other Learners.*"
   ]
  }
 ],
 "metadata": {
  "kernelspec": {
   "display_name": "Python 3",
   "language": "python",
   "name": "python3"
  },
  "language_info": {
   "codemirror_mode": {
    "name": "ipython",
    "version": 3
   },
   "file_extension": ".py",
   "mimetype": "text/x-python",
   "name": "python",
   "nbconvert_exporter": "python",
   "pygments_lexer": "ipython3",
   "version": "3.7.10"
  },
  "papermill": {
   "default_parameters": {},
   "duration": 10.858975,
   "end_time": "2021-08-05T06:50:43.505738",
   "environment_variables": {},
   "exception": true,
   "input_path": "__notebook__.ipynb",
   "output_path": "__notebook__.ipynb",
   "parameters": {},
   "start_time": "2021-08-05T06:50:32.646763",
   "version": "2.3.3"
  }
 },
 "nbformat": 4,
 "nbformat_minor": 5
}
